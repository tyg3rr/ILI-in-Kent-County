{
 "cells": [
  {
   "cell_type": "code",
   "execution_count": 1,
   "metadata": {},
   "outputs": [],
   "source": [
    "import pandas as pd\n",
    "from utils.make_google_trends_dataset import make_google_trends_dataset\n",
    "from utils.make_weather_dataset import make_weather_dataset\n",
    "from utils.surveillance_datasets import make_incidence_dataset, make_syndromic_dataset\n",
    "from utils.get_aqi_dataset import get_aqi_dataset"
   ]
  },
  {
   "cell_type": "code",
   "execution_count": 2,
   "metadata": {},
   "outputs": [
    {
     "name": "stderr",
     "output_type": "stream",
     "text": [
      "No lookup list found for stations\n",
      "No lookup list found for stations\n",
      "No lookup list found for stations\n",
      "No lookup list found for stations\n",
      "No lookup list found for stations\n",
      "No lookup list found for stations\n",
      "No lookup list found for stations\n",
      "No lookup list found for stations\n",
      "No lookup list found for stations\n",
      "No lookup list found for stations\n",
      "No lookup list found for stations\n",
      "No lookup list found for stations\n",
      "No lookup list found for stations\n",
      "No lookup list found for stations\n",
      "No lookup list found for stations\n",
      "No lookup list found for stations\n"
     ]
    }
   ],
   "source": [
    "dd = make_google_trends_dataset()\\\n",
    "    .join(make_weather_dataset(),how='inner')\\\n",
    "    .join(make_incidence_dataset(),how='inner')\\\n",
    "    .join(make_syndromic_dataset(),how='inner')\\\n",
    "    .join(get_aqi_dataset(),how='inner')"
   ]
  },
  {
   "cell_type": "code",
   "execution_count": 3,
   "metadata": {},
   "outputs": [
    {
     "data": {
      "text/plain": [
       "count    5285.000000\n",
       "mean       43.294040\n",
       "std        11.639057\n",
       "min        10.000000\n",
       "25%        36.000000\n",
       "50%        42.000000\n",
       "75%        49.000000\n",
       "max       102.000000\n",
       "Name: Overall AQI Value, dtype: float64"
      ]
     },
     "execution_count": 3,
     "metadata": {},
     "output_type": "execute_result"
    }
   ],
   "source": [
    "dd['Overall AQI Value'].describe()"
   ]
  },
  {
   "cell_type": "code",
   "execution_count": 4,
   "metadata": {},
   "outputs": [
    {
     "data": {
      "text/plain": [
       "Index(['GS_cold', 'GS_cough', 'GS_fever', 'GS_flu', 'AWND', 'PRCP', 'SNOW',\n",
       "       'TAVG', 'TMAX', 'TMIN', 'cases', 'visits', 'Overall AQI Value',\n",
       "       'Main Pollutant', 'CO', 'Ozone', 'PM10', 'PM25', 'Days Good',\n",
       "       'Days Moderate', 'Days Unhealthy'],\n",
       "      dtype='object')"
      ]
     },
     "execution_count": 4,
     "metadata": {},
     "output_type": "execute_result"
    }
   ],
   "source": [
    "dd.columns"
   ]
  },
  {
   "cell_type": "code",
   "execution_count": 5,
   "metadata": {},
   "outputs": [],
   "source": [
    "dd.to_csv('data/raw_dataset.csv')"
   ]
  },
  {
   "cell_type": "code",
   "execution_count": null,
   "metadata": {},
   "outputs": [],
   "source": []
  }
 ],
 "metadata": {
  "kernelspec": {
   "display_name": "Python 3",
   "language": "python",
   "name": "python3"
  },
  "language_info": {
   "codemirror_mode": {
    "name": "ipython",
    "version": 3
   },
   "file_extension": ".py",
   "mimetype": "text/x-python",
   "name": "python",
   "nbconvert_exporter": "python",
   "pygments_lexer": "ipython3",
   "version": "3.11.5"
  }
 },
 "nbformat": 4,
 "nbformat_minor": 2
}
