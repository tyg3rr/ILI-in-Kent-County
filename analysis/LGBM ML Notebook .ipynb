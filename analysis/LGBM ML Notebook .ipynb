{
 "cells": [
  {
   "cell_type": "markdown",
   "metadata": {},
   "source": [
    "## Gradient Boosting Notebook\n",
    "\n",
    "*currently in-progress* "
   ]
  },
  {
   "cell_type": "code",
   "execution_count": 2,
   "metadata": {},
   "outputs": [],
   "source": [
    "# Data Manipulation\n",
    "# ======================================================\n",
    "import pandas as pd \n",
    "import numpy as np\n",
    "from os import path\n",
    "import configparser\n",
    "from itertools import *\n",
    "import math\n",
    "from epiweeks import Week\n",
    "from datetime import date, datetime\n",
    "from calendar import month_name, month_abbr\n",
    "from sklearn import preprocessing\n",
    "from helper_functions import *\n",
    "\n",
    "\n",
    "# Reading Secrets\n",
    "# ======================================================\n",
    "cfg = configparser.ConfigParser()\n",
    "cfg.read('secrets.ini')\n",
    "ROOT_PATH = path.abspath(cfg.get('default','root'))\n",
    "DATA_PATH = path.join(ROOT_PATH, 'src/data')\n",
    "\n",
    "\n",
    "# Warnings Config\n",
    "# ======================================================\n",
    "import warnings\n",
    "warnings.filterwarnings('ignore')\n",
    "\n",
    "# Modeling & Forecasting\n",
    "# ======================================================\n",
    "import statsmodels.api as sm\n",
    "from statsmodels.tsa.ar_model import AutoReg, ar_select_order\n",
    "from statsmodels.regression.linear_model import OLS\n",
    "from skforecast.ForecasterAutoreg import ForecasterAutoreg\n",
    "from sklearn.ensemble import RandomForestRegressor, HistGradientBoostingRegressor\n",
    "from sklearn.linear_model import Ridge, LinearRegression\n",
    "from sklearn.metrics import mean_squared_error\n",
    "\n",
    "from lightgbm import LGBMRegressor\n",
    "from sklearn.preprocessing import OneHotEncoder, OrdinalEncoder, FunctionTransformer, PolynomialFeatures\n",
    "from sklearn.feature_selection import RFECV\n",
    "from sklearn.pipeline import make_pipeline\n",
    "from sklearn.compose import make_column_transformer, make_column_selector\n",
    "\n",
    "from skforecast.ForecasterBaseline import ForecasterEquivalentDate\n",
    "from skforecast.ForecasterAutoreg import ForecasterAutoreg\n",
    "from skforecast.ForecasterAutoregDirect import ForecasterAutoregDirect\n",
    "\n",
    "from skforecast.model_selection import bayesian_search_forecaster\n",
    "from skforecast.model_selection import backtesting_forecaster\n",
    "\n",
    "# Plotting\n",
    "# ======================================================\n",
    "import plotly.express as px\n",
    "import matplotlib.pyplot as plt\n",
    "from statsmodels.graphics.tsaplots import plot_acf, plot_pacf"
   ]
  },
  {
   "cell_type": "code",
   "execution_count": 3,
   "metadata": {},
   "outputs": [],
   "source": [
    "# Loading & Manipulating Dataset\n",
    "# ======================================================\n",
    "\n",
    "df = pd.read_csv(path.join(DATA_PATH, 'raw_dataset.csv'))\n",
    "df['epiweek'] = df['epiweek'].map(lambda x: Week.fromstring(str(x)))\n",
    "df['weekstart'] = pd.to_datetime(df['epiweek'].map(lambda x: Week.startdate(x)))\n",
    "df.set_index('weekstart', inplace=True)\n",
    "df['epiweek'] = df['epiweek'].map(lambda x: int(str(x)[4:]))"
   ]
  },
  {
   "cell_type": "code",
   "execution_count": 4,
   "metadata": {},
   "outputs": [
    {
     "data": {
      "text/plain": [
       "epiweek                0\n",
       "GS_cold                0\n",
       "GS_cough               0\n",
       "GS_fever               0\n",
       "GS_flu                 0\n",
       "AWND                   0\n",
       "PRCP                   0\n",
       "SNOW                   0\n",
       "TAVG                 398\n",
       "TMAX                   0\n",
       "TMIN                   0\n",
       "cases                  0\n",
       "Overall AQI Value      0\n",
       "Main Pollutant         0\n",
       "CO                    26\n",
       "Ozone                113\n",
       "PM10                  24\n",
       "PM25                   0\n",
       "Days Good              0\n",
       "Days Moderate          0\n",
       "Days Unhealthy         0\n",
       "visits                79\n",
       "dtype: int64"
      ]
     },
     "execution_count": 4,
     "metadata": {},
     "output_type": "execute_result"
    }
   ],
   "source": [
    "# Checking dataset for missing values\n",
    "df.isna().sum()"
   ]
  },
  {
   "cell_type": "markdown",
   "metadata": {},
   "source": [
    "A number of variables contain missing values. Particularly concerning is TAVG - nearly half of the average temperature values are missing. This is related to the ways weather stations report temperatures. We are using data from the GR Gerald R Ford International Airport to represent Kent County, Michigan. This station stopped reporting average daily temperatures on 2005-08-07. The station resumed reporting average daily temperatures on 2013-03-31.\n",
    "\n",
    "To address these missing values, we will average the daily maximum and daily minimum temperatures as an approximation of the daily average temperatures. For the other variables with missing values, we will input the corresponding monthly mean value."
   ]
  },
  {
   "cell_type": "code",
   "execution_count": 5,
   "metadata": {},
   "outputs": [],
   "source": [
    "means = df[['GS_cold', 'GS_cough', 'GS_fever', 'GS_flu', \n",
    "'AWND', 'PRCP', 'SNOW', 'TMAX', 'TMIN', \n",
    "'cases', 'Overall AQI Value',\n",
    "'CO', 'Ozone', 'PM10', 'PM25', 'Days Good',\n",
    "'Days Moderate', 'Days Unhealthy', 'visits']]\\\n",
    "    .groupby(df.index.month).mean()\n",
    "\n",
    "means.index.name = 'month'"
   ]
  },
  {
   "cell_type": "code",
   "execution_count": 6,
   "metadata": {},
   "outputs": [],
   "source": [
    "df['month'] = df.index.month"
   ]
  },
  {
   "cell_type": "code",
   "execution_count": 7,
   "metadata": {},
   "outputs": [],
   "source": [
    "df = df.reset_index().set_index(['weekstart','month'])"
   ]
  },
  {
   "cell_type": "code",
   "execution_count": 8,
   "metadata": {},
   "outputs": [],
   "source": [
    "df[\n",
    "    ['GS_cold', 'GS_cough', 'GS_fever', 'GS_flu', \n",
    "    'AWND', 'PRCP', 'SNOW', 'TMAX', 'TMIN', \n",
    "    'cases', 'Overall AQI Value',\n",
    "    'CO', 'Ozone', 'PM10', 'PM25', 'Days Good',\n",
    "    'Days Moderate', 'Days Unhealthy', 'visits']\n",
    "    ] = df[\n",
    "        ['GS_cold', 'GS_cough', 'GS_fever', 'GS_flu', \n",
    "        'AWND', 'PRCP', 'SNOW', 'TMAX', 'TMIN', \n",
    "        'cases', 'Overall AQI Value',\n",
    "        'CO', 'Ozone', 'PM10', 'PM25', 'Days Good',\n",
    "        'Days Moderate', 'Days Unhealthy', 'visits']]\\\n",
    "            .fillna(means)"
   ]
  },
  {
   "cell_type": "code",
   "execution_count": 9,
   "metadata": {},
   "outputs": [],
   "source": [
    "df['TAVG'] = df[['TAVG']].fillna(pd.DataFrame((df['TMAX']+df['TMIN'])/2).rename(columns={0:'TAVG'}))"
   ]
  },
  {
   "cell_type": "code",
   "execution_count": 10,
   "metadata": {},
   "outputs": [
    {
     "data": {
      "text/plain": [
       "epiweek              0\n",
       "GS_cold              0\n",
       "GS_cough             0\n",
       "GS_fever             0\n",
       "GS_flu               0\n",
       "AWND                 0\n",
       "PRCP                 0\n",
       "SNOW                 0\n",
       "TAVG                 0\n",
       "TMAX                 0\n",
       "TMIN                 0\n",
       "cases                0\n",
       "Overall AQI Value    0\n",
       "Main Pollutant       0\n",
       "CO                   0\n",
       "Ozone                0\n",
       "PM10                 0\n",
       "PM25                 0\n",
       "Days Good            0\n",
       "Days Moderate        0\n",
       "Days Unhealthy       0\n",
       "visits               0\n",
       "dtype: int64"
      ]
     },
     "execution_count": 10,
     "metadata": {},
     "output_type": "execute_result"
    }
   ],
   "source": [
    "df.isna().sum()"
   ]
  },
  {
   "cell_type": "markdown",
   "metadata": {},
   "source": [
    "That looks better.\n",
    "\n",
    "---"
   ]
  },
  {
   "cell_type": "code",
   "execution_count": 11,
   "metadata": {},
   "outputs": [],
   "source": [
    "# Resampling data so pandas understands that it's weekly\n",
    "df = df.reset_index().set_index('weekstart').drop(columns=['month']).resample('W').first().fillna(method='bfill')"
   ]
  },
  {
   "cell_type": "code",
   "execution_count": 12,
   "metadata": {},
   "outputs": [
    {
     "name": "stdout",
     "output_type": "stream",
     "text": [
      "Dates train      : 2004-12-26 00:00:00 --- 2015-12-27 00:00:00  (n=575)\n",
      "Dates validacion : 2016-01-03 00:00:00 --- 2017-12-31 00:00:00  (n=105)\n",
      "Dates test       : 2017-12-31 00:00:00 --- 2019-12-29 00:00:00  (n=105)\n"
     ]
    }
   ],
   "source": [
    "end_train = date(2015,12,31)\n",
    "end_validation = date(2017,12,31)\n",
    "\n",
    "df_train = df.loc[:end_train,:]\n",
    "df_val = df.loc[end_train:end_validation,:]\n",
    "df_test = df.loc[end_validation:,:]\n",
    "\n",
    "print(f\"Dates train      : {df_train.index.min()} --- {df_train.index.max()}  (n={len(df_train)})\")\n",
    "print(f\"Dates validacion : {df_val.index.min()} --- {df_val.index.max()}  (n={len(df_val)})\")\n",
    "print(f\"Dates test       : {df_test.index.min()} --- {df_test.index.max()}  (n={len(df_test)})\")"
   ]
  },
  {
   "cell_type": "code",
   "execution_count": 13,
   "metadata": {},
   "outputs": [],
   "source": [
    "# The weights are determined by total monthly cases divided by total overall cases\n",
    "weights = pd.DataFrame((                \n",
    "    df_train.groupby(df_train.index.month)['cases'].sum()\\\n",
    "    / df_train['cases'].sum()))\\\n",
    "    .reset_index().rename(columns={'weekstart':'month','cases':'weight'})\\\n",
    "    .set_index('month')\n",
    "\n",
    "variables = ['GS_cold', 'GS_cough', 'GS_fever', 'GS_flu', 'AWND', 'PRCP',\n",
    "            'SNOW', 'TAVG', 'TMAX', 'TMIN', 'Overall AQI Value','CO', 'Ozone', \n",
    "            'PM10', 'PM25', 'Days Good', 'Days Moderate',\n",
    "            'Days Unhealthy', 'visits']\n",
    "\n",
    "# Weighing by dividing exogenous variable values by their corresponding weight\n",
    "w_df_train = df_train.drop(columns=['cases'])\n",
    "w_df_train['month'] = w_df_train.index.month\n",
    "w_df_train = w_df_train.reset_index().set_index(['month','weekstart'])\n",
    "w_df_train = w_df_train[variables].join(weights)\n",
    "\n",
    "w_df_train = w_df_train.reset_index().set_index('weekstart').drop(columns=['month'])\n",
    "\n",
    "for c in variables:\n",
    "    w_df_train[c] = w_df_train[c] / w_df_train['weight']\n",
    "\n",
    "# Adding lagged variables with month-weighted values over 35% correlated with cases\n",
    "for term in variables:\n",
    "    for i in range(1,5):\n",
    "        if abs(w_df_train[term].shift(i).corr(df_train['cases'])) >= 0.35:\n",
    "            df[f\"{term}_L{i}\"] = df[term].shift(i)"
   ]
  },
  {
   "cell_type": "code",
   "execution_count": 14,
   "metadata": {},
   "outputs": [],
   "source": [
    "df = df.iloc[2:,]"
   ]
  },
  {
   "cell_type": "code",
   "execution_count": 15,
   "metadata": {},
   "outputs": [],
   "source": [
    "df_train = df.loc[:end_train,:]\n",
    "df_val = df.loc[end_train:end_validation,:]\n",
    "df_test = df.loc[end_validation:,:]"
   ]
  },
  {
   "cell_type": "code",
   "execution_count": 16,
   "metadata": {},
   "outputs": [],
   "source": [
    "data = df.copy()\n",
    "data['set'] = 0"
   ]
  },
  {
   "cell_type": "code",
   "execution_count": 17,
   "metadata": {},
   "outputs": [],
   "source": [
    "data['set'].loc[:end_train] = 'train'\n",
    "data['set'].loc[end_train:end_validation] = 'val'\n",
    "data['set'].loc[end_validation:] = 'test'"
   ]
  },
  {
   "cell_type": "code",
   "execution_count": 18,
   "metadata": {},
   "outputs": [],
   "source": [
    "data['month'] = data.index.month\n",
    "data['month'] = data['month'].map(lambda x: month_abbr[x])"
   ]
  },
  {
   "cell_type": "code",
   "execution_count": 19,
   "metadata": {},
   "outputs": [
    {
     "data": {
      "image/png": "[encoded data removed]"
     },
     "metadata": {},
     "output_type": "display_data"
    }
   ],
   "source": [
    "fig = px.line(x= data.index, y= data['cases'], color= data['set'])\n",
    "fig.update_layout(autosize=False, width=1800, height=400)\n",
    "fig.update_xaxes(title='')\n",
    "fig.update_yaxes(title='')\n",
    "fig.show('png')"
   ]
  },
  {
   "cell_type": "code",
   "execution_count": 20,
   "metadata": {},
   "outputs": [
    {
     "data": {
      "image/png": "[encoded data removed]"
     },
     "metadata": {},
     "output_type": "display_data"
    }
   ],
   "source": [
    "fig = px.box(x=data.iloc[1:,:]['month'], y=data.iloc[1:,:]['cases'], color=data.iloc[1:,:]['month'])\n",
    "fig.update_layout(autosize=True)\n",
    "fig.update_xaxes(title='')\n",
    "fig.update_yaxes(title='')\n",
    "fig.show('png')"
   ]
  },
  {
   "cell_type": "code",
   "execution_count": 21,
   "metadata": {},
   "outputs": [
    {
     "data": {
      "image/png": "[encoded data removed]"
     },
     "metadata": {},
     "output_type": "display_data"
    }
   ],
   "source": [
    "fig = px.box(x=data.iloc[1:,:]['epiweek'], y=data.iloc[1:,:]['cases'])\n",
    "fig.update_layout(autosize=True)\n",
    "fig.update_xaxes(title='Epiweek')\n",
    "fig.update_yaxes(title='Cases')\n",
    "fig.show('png')"
   ]
  },
  {
   "cell_type": "code",
   "execution_count": 22,
   "metadata": {},
   "outputs": [
    {
     "data": {
      "image/png": "[encoded data removed]",
      "text/plain": [
       "<Figure size 640x480 with 1 Axes>"
      ]
     },
     "metadata": {},
     "output_type": "display_data"
    },
    {
     "data": {
      "image/png": "[encoded data removed]",
      "text/plain": [
       "<Figure size 640x480 with 1 Axes>"
      ]
     },
     "metadata": {},
     "output_type": "display_data"
    }
   ],
   "source": [
    "# Autocorrelation plots\n",
    "plot_acf(data['cases'], lags=53).show()\n",
    "plot_pacf(data['cases'], lags=53).show()"
   ]
  },
  {
   "cell_type": "markdown",
   "metadata": {},
   "source": [
    "The autocorrelation plots demonstrate significant correlations between cases in previous weeks and cases in the future. This means we may be able to use lagged cases to predict future cases."
   ]
  },
  {
   "cell_type": "code",
   "execution_count": 23,
   "metadata": {},
   "outputs": [
    {
     "data": {
      "text/plain": [
       "======================== \n",
       "ForecasterEquivalentDate \n",
       "======================== \n",
       "Offset: <DateOffset: weeks=52> \n",
       "Number of offsets: 1 \n",
       "Aggregation function: mean \n",
       "Window size: 52 \n",
       "Training range: [Timestamp('2005-01-09 00:00:00'), Timestamp('2017-12-31 00:00:00')] \n",
       "Training index type: DatetimeIndex \n",
       "Training index frequency: W-SUN \n",
       "Creation date: 2024-01-22 13:35:44 \n",
       "Last fit date: 2024-01-22 13:35:44 \n",
       "Skforecast version: 0.11.0 \n",
       "Python version: 3.11.5 \n",
       "Forecaster id: None "
      ]
     },
     "execution_count": 23,
     "metadata": {},
     "output_type": "execute_result"
    }
   ],
   "source": [
    "# Create baseline: cases of the same week of the previous year\n",
    "# ==============================================================================\n",
    "\n",
    "forecaster = ForecasterEquivalentDate(\n",
    "                offset    = pd.DateOffset(weeks=52),\n",
    "                n_offsets = 1\n",
    "            )\n",
    "\n",
    "# Train forecaster\n",
    "# ==============================================================================\n",
    "forecaster.fit(y=df.loc[:end_validation, 'cases'])\n",
    "forecaster"
   ]
  },
  {
   "cell_type": "code",
   "execution_count": 24,
   "metadata": {},
   "outputs": [
    {
     "name": "stderr",
     "output_type": "stream",
     "text": [
      "100%|██████████| 18/18 [00:00<00:00, 68.06it/s]"
     ]
    },
    {
     "name": "stdout",
     "output_type": "stream",
     "text": [
      "Backtest error (MAE): 319.1442307692308\n"
     ]
    },
    {
     "name": "stderr",
     "output_type": "stream",
     "text": [
      "\n"
     ]
    }
   ],
   "source": [
    "# Backtesting\n",
    "# ==============================================================================\n",
    "metric_baseline, predictions = backtesting_forecaster(\n",
    "                                forecaster         = forecaster,\n",
    "                                y                  = df['cases'],\n",
    "                                steps              = 6,\n",
    "                                metric             = 'mean_absolute_error',\n",
    "                                initial_train_size = len(df.loc[:end_validation]),\n",
    "                                refit              = False,\n",
    "                                n_jobs             = 'auto',\n",
    "                                verbose            = False,\n",
    "                                show_progress      = True\n",
    "                            )\n",
    "\n",
    "print(f\"Backtest error (MAE): {metric_baseline}\")"
   ]
  },
  {
   "cell_type": "code",
   "execution_count": 25,
   "metadata": {},
   "outputs": [
    {
     "data": {
      "text/plain": [
       "================= \n",
       "ForecasterAutoreg \n",
       "================= \n",
       "Regressor: LGBMRegressor(random_state=15926, verbose=-1) \n",
       "Lags: [ 1  2  3  4  5  6  7  8  9 10 11 12 13 14 15 16 17 18 19 20 21 22 23 24\n",
       " 25 26 27 28 29 30 31 32 33 34 35 36 37 38 39 40 41 42 43 44 45 46 47 48\n",
       " 49 50 51 52] \n",
       "Transformer for y: None \n",
       "Transformer for exog: None \n",
       "Window size: 52 \n",
       "Weight function included: False \n",
       "Differentiation order: None \n",
       "Exogenous included: False \n",
       "Type of exogenous variable: None \n",
       "Exogenous variables names: None \n",
       "Training range: [Timestamp('2005-01-09 00:00:00'), Timestamp('2017-12-31 00:00:00')] \n",
       "Training index type: DatetimeIndex \n",
       "Training index frequency: W-SUN \n",
       "Regressor parameters: {'boosting_type': 'gbdt', 'class_weight': None, 'colsample_bytree': 1.0, 'importance_type': 'split', 'learning_rate': 0.1, 'max_depth': -1, 'min_child_samples': 20, 'min_child_weight': 0.001, 'min_split_gain': 0.0, 'n_estimators': 100, 'n_jobs': None, 'num_leaves': 31, 'objective': None, 'random_state': 15926, 'reg_alpha': 0.0, 'reg_lambda': 0.0, 'subsample': 1.0, 'subsample_for_bin': 200000, 'subsample_freq': 0, 'verbose': -1} \n",
       "fit_kwargs: {} \n",
       "Creation date: 2024-01-22 13:35:44 \n",
       "Last fit date: 2024-01-22 13:35:46 \n",
       "Skforecast version: 0.11.0 \n",
       "Python version: 3.11.5 \n",
       "Forecaster id: None "
      ]
     },
     "execution_count": 25,
     "metadata": {},
     "output_type": "execute_result"
    }
   ],
   "source": [
    "# Create forecaster\n",
    "# ==============================================================================\n",
    "forecaster = ForecasterAutoreg(\n",
    "                regressor = LGBMRegressor(random_state=15926, verbose=-1),\n",
    "                lags      = 52\n",
    "            )\n",
    "\n",
    "# Train forecaster\n",
    "# ==============================================================================\n",
    "forecaster.fit(y=data.loc[:end_validation, 'cases'])\n",
    "forecaster"
   ]
  },
  {
   "cell_type": "code",
   "execution_count": 26,
   "metadata": {},
   "outputs": [
    {
     "data": {
      "text/plain": [
       "2018-01-07    1759.788571\n",
       "2018-01-14    1763.185649\n",
       "2018-01-21    1819.362159\n",
       "2018-01-28    2023.268130\n",
       "2018-02-04    2112.593986\n",
       "2018-02-11    2128.674061\n",
       "Freq: W-SUN, Name: pred, dtype: float64"
      ]
     },
     "execution_count": 26,
     "metadata": {},
     "output_type": "execute_result"
    }
   ],
   "source": [
    "# Predict\n",
    "# ==============================================================================\n",
    "forecaster.predict(steps=6)"
   ]
  },
  {
   "cell_type": "code",
   "execution_count": 27,
   "metadata": {},
   "outputs": [
    {
     "name": "stdout",
     "output_type": "stream",
     "text": [
      "Information of backtesting process\n",
      "----------------------------------\n",
      "Number of observations used for initial training: 678\n",
      "Number of observations used for backtesting: 104\n",
      "    Number of folds: 18\n",
      "    Number of steps per fold: 6\n",
      "    Number of steps to exclude from the end of each train set before test (gap): 0\n",
      "    Last fold only includes 2 observations.\n",
      "\n",
      "Fold: 0\n",
      "    Training:   2005-01-09 00:00:00 -- 2017-12-31 00:00:00  (n=678)\n",
      "    Validation: 2018-01-07 00:00:00 -- 2018-02-11 00:00:00  (n=6)\n",
      "Fold: 1\n",
      "    Training:   2005-01-09 00:00:00 -- 2017-12-31 00:00:00  (n=678)\n",
      "    Validation: 2018-02-18 00:00:00 -- 2018-03-25 00:00:00  (n=6)\n",
      "Fold: 2\n",
      "    Training:   2005-01-09 00:00:00 -- 2017-12-31 00:00:00  (n=678)\n",
      "    Validation: 2018-04-01 00:00:00 -- 2018-05-06 00:00:00  (n=6)\n",
      "Fold: 3\n",
      "    Training:   2005-01-09 00:00:00 -- 2017-12-31 00:00:00  (n=678)\n",
      "    Validation: 2018-05-13 00:00:00 -- 2018-06-17 00:00:00  (n=6)\n",
      "Fold: 4\n",
      "    Training:   2005-01-09 00:00:00 -- 2017-12-31 00:00:00  (n=678)\n",
      "    Validation: 2018-06-24 00:00:00 -- 2018-07-29 00:00:00  (n=6)\n",
      "Fold: 5\n",
      "    Training:   2005-01-09 00:00:00 -- 2017-12-31 00:00:00  (n=678)\n",
      "    Validation: 2018-08-05 00:00:00 -- 2018-09-09 00:00:00  (n=6)\n",
      "Fold: 6\n",
      "    Training:   2005-01-09 00:00:00 -- 2017-12-31 00:00:00  (n=678)\n",
      "    Validation: 2018-09-16 00:00:00 -- 2018-10-21 00:00:00  (n=6)\n",
      "Fold: 7\n",
      "    Training:   2005-01-09 00:00:00 -- 2017-12-31 00:00:00  (n=678)\n",
      "    Validation: 2018-10-28 00:00:00 -- 2018-12-02 00:00:00  (n=6)\n",
      "Fold: 8\n",
      "    Training:   2005-01-09 00:00:00 -- 2017-12-31 00:00:00  (n=678)\n",
      "    Validation: 2018-12-09 00:00:00 -- 2019-01-13 00:00:00  (n=6)\n",
      "Fold: 9\n",
      "    Training:   2005-01-09 00:00:00 -- 2017-12-31 00:00:00  (n=678)\n",
      "    Validation: 2019-01-20 00:00:00 -- 2019-02-24 00:00:00  (n=6)\n",
      "Fold: 10\n",
      "    Training:   2005-01-09 00:00:00 -- 2017-12-31 00:00:00  (n=678)\n",
      "    Validation: 2019-03-03 00:00:00 -- 2019-04-07 00:00:00  (n=6)\n",
      "Fold: 11\n",
      "    Training:   2005-01-09 00:00:00 -- 2017-12-31 00:00:00  (n=678)\n",
      "    Validation: 2019-04-14 00:00:00 -- 2019-05-19 00:00:00  (n=6)\n",
      "Fold: 12\n",
      "    Training:   2005-01-09 00:00:00 -- 2017-12-31 00:00:00  (n=678)\n",
      "    Validation: 2019-05-26 00:00:00 -- 2019-06-30 00:00:00  (n=6)\n",
      "Fold: 13\n",
      "    Training:   2005-01-09 00:00:00 -- 2017-12-31 00:00:00  (n=678)\n",
      "    Validation: 2019-07-07 00:00:00 -- 2019-08-11 00:00:00  (n=6)\n",
      "Fold: 14\n",
      "    Training:   2005-01-09 00:00:00 -- 2017-12-31 00:00:00  (n=678)\n",
      "    Validation: 2019-08-18 00:00:00 -- 2019-09-22 00:00:00  (n=6)\n",
      "Fold: 15\n",
      "    Training:   2005-01-09 00:00:00 -- 2017-12-31 00:00:00  (n=678)\n",
      "    Validation: 2019-09-29 00:00:00 -- 2019-11-03 00:00:00  (n=6)\n",
      "Fold: 16\n",
      "    Training:   2005-01-09 00:00:00 -- 2017-12-31 00:00:00  (n=678)\n",
      "    Validation: 2019-11-10 00:00:00 -- 2019-12-15 00:00:00  (n=6)\n",
      "Fold: 17\n",
      "    Training:   2005-01-09 00:00:00 -- 2017-12-31 00:00:00  (n=678)\n",
      "    Validation: 2019-12-22 00:00:00 -- 2019-12-29 00:00:00  (n=2)\n",
      "\n"
     ]
    },
    {
     "name": "stderr",
     "output_type": "stream",
     "text": [
      "100%|██████████| 18/18 [00:00<00:00, 33.69it/s]\n"
     ]
    },
    {
     "data": {
      "text/html": [
       "<div>\n",
       "<style scoped>\n",
       "    .dataframe tbody tr th:only-of-type {\n",
       "        vertical-align: middle;\n",
       "    }\n",
       "\n",
       "    .dataframe tbody tr th {\n",
       "        vertical-align: top;\n",
       "    }\n",
       "\n",
       "    .dataframe thead th {\n",
       "        text-align: right;\n",
       "    }\n",
       "</style>\n",
       "<table border=\"1\" class=\"dataframe\">\n",
       "  <thead>\n",
       "    <tr style=\"text-align: right;\">\n",
       "      <th></th>\n",
       "      <th>pred</th>\n",
       "    </tr>\n",
       "  </thead>\n",
       "  <tbody>\n",
       "    <tr>\n",
       "      <th>2018-01-07</th>\n",
       "      <td>1759.788571</td>\n",
       "    </tr>\n",
       "    <tr>\n",
       "      <th>2018-01-14</th>\n",
       "      <td>1763.185649</td>\n",
       "    </tr>\n",
       "    <tr>\n",
       "      <th>2018-01-21</th>\n",
       "      <td>1819.362159</td>\n",
       "    </tr>\n",
       "    <tr>\n",
       "      <th>2018-01-28</th>\n",
       "      <td>2023.268130</td>\n",
       "    </tr>\n",
       "    <tr>\n",
       "      <th>2018-02-04</th>\n",
       "      <td>2112.593986</td>\n",
       "    </tr>\n",
       "  </tbody>\n",
       "</table>\n",
       "</div>"
      ],
      "text/plain": [
       "                   pred\n",
       "2018-01-07  1759.788571\n",
       "2018-01-14  1763.185649\n",
       "2018-01-21  1819.362159\n",
       "2018-01-28  2023.268130\n",
       "2018-02-04  2112.593986"
      ]
     },
     "execution_count": 27,
     "metadata": {},
     "output_type": "execute_result"
    }
   ],
   "source": [
    "# Backtest model on test data\n",
    "# ==============================================================================\n",
    "metric, predictions = backtesting_forecaster(\n",
    "                        forecaster         = forecaster,\n",
    "                        y                  = data['cases'],\n",
    "                        steps              = 6,\n",
    "                        metric             = 'mean_absolute_error',\n",
    "                        initial_train_size = len(data[:end_validation]),\n",
    "                        refit              = False,\n",
    "                        n_jobs             = 'auto',\n",
    "                        verbose            = True, # Change to False to see less information\n",
    "                        show_progress      = True\n",
    "                    )\n",
    "\n",
    "predictions.head()"
   ]
  },
  {
   "cell_type": "code",
   "execution_count": 28,
   "metadata": {},
   "outputs": [
    {
     "name": "stdout",
     "output_type": "stream",
     "text": [
      "Backtest error (MAE): 356.12001528241956\n"
     ]
    }
   ],
   "source": [
    "# Backtesting error\n",
    "# ==============================================================================\n",
    "print(f'Backtest error (MAE): {metric}')"
   ]
  },
  {
   "cell_type": "code",
   "execution_count": 29,
   "metadata": {},
   "outputs": [
    {
     "name": "stdout",
     "output_type": "stream",
     "text": [
      "Number of models compared: 40,\n",
      "         20 bayesian search in each lag configuration.\n"
     ]
    },
    {
     "name": "stderr",
     "output_type": "stream",
     "text": [
      "lags grid:   0%|          | 0/2 [00:00<?, ?it/s]"
     ]
    },
    {
     "name": "stderr",
     "output_type": "stream",
     "text": [
      "lags grid: 100%|██████████| 2/2 [00:48<00:00, 24.37s/it]\n"
     ]
    },
    {
     "name": "stdout",
     "output_type": "stream",
     "text": [
      "`Forecaster` refitted using the best-found lags and parameters, and the whole data set: \n",
      "  Lags: [ 1  2  3 52] \n",
      "  Parameters: {'n_estimators': 1200, 'max_depth': 8, 'learning_rate': 0.018066668056670537, 'reg_alpha': 0.8, 'reg_lambda': 0.0}\n",
      "  Backtesting metric: 200.08392414618675\n",
      "\n"
     ]
    }
   ],
   "source": [
    "# Hyperparameters search\n",
    "# ==============================================================================\n",
    "# Lags grid\n",
    "lags_grid = [[1,2,3], [1,2,3,52]]\n",
    "\n",
    "# Regressor hyperparameters search space\n",
    "def search_space(trial):\n",
    "    search_space  = {\n",
    "        'n_estimators'  : trial.suggest_int('n_estimators', 400, 1200, step=100),\n",
    "        'max_depth'     : trial.suggest_int('max_depth', 3, 10, step=1),\n",
    "        'learning_rate' : trial.suggest_float('learning_rate', 0.01, 0.5),\n",
    "        'reg_alpha'     : trial.suggest_float('reg_alpha', 0, 1, step=0.1),\n",
    "        'reg_lambda'    : trial.suggest_float('reg_lambda', 0, 1, step=0.1),\n",
    "    } \n",
    "    return search_space\n",
    "\n",
    "results_search, frozen_trial = bayesian_search_forecaster(\n",
    "                                forecaster         = forecaster,\n",
    "                                y                  = df.loc[:end_validation, 'cases'], # Test data not used\n",
    "                                search_space       = search_space,\n",
    "                                lags_grid          = lags_grid,\n",
    "                                steps              = 6,\n",
    "                                refit              = False,\n",
    "                                metric             = 'mean_absolute_error',\n",
    "                                initial_train_size = len(df_train),\n",
    "                                fixed_train_size   = False,\n",
    "                                n_trials           = 20, # Increase this value for a more exhaustive search\n",
    "                                random_state       = 123,\n",
    "                                return_best        = True,\n",
    "                                n_jobs             = 'auto',\n",
    "                                verbose            = False,\n",
    "                                show_progress      = True\n",
    "                            )"
   ]
  },
  {
   "cell_type": "code",
   "execution_count": 30,
   "metadata": {},
   "outputs": [
    {
     "data": {
      "text/plain": [
       "================= \n",
       "ForecasterAutoreg \n",
       "================= \n",
       "Regressor: LGBMRegressor(learning_rate=0.018066668056670537, max_depth=8,\n",
       "              n_estimators=1200, random_state=15926, reg_alpha=0.8, verbose=-1) \n",
       "Lags: [ 1  2  3 52] \n",
       "Transformer for y: None \n",
       "Transformer for exog: None \n",
       "Window size: 52 \n",
       "Weight function included: False \n",
       "Differentiation order: None \n",
       "Exogenous included: False \n",
       "Type of exogenous variable: None \n",
       "Exogenous variables names: None \n",
       "Training range: [Timestamp('2005-01-09 00:00:00'), Timestamp('2017-12-31 00:00:00')] \n",
       "Training index type: DatetimeIndex \n",
       "Training index frequency: W-SUN \n",
       "Regressor parameters: {'boosting_type': 'gbdt', 'class_weight': None, 'colsample_bytree': 1.0, 'importance_type': 'split', 'learning_rate': 0.018066668056670537, 'max_depth': 8, 'min_child_samples': 20, 'min_child_weight': 0.001, 'min_split_gain': 0.0, 'n_estimators': 1200, 'n_jobs': None, 'num_leaves': 31, 'objective': None, 'random_state': 15926, 'reg_alpha': 0.8, 'reg_lambda': 0.0, 'subsample': 1.0, 'subsample_for_bin': 200000, 'subsample_freq': 0, 'verbose': -1} \n",
       "fit_kwargs: {} \n",
       "Creation date: 2024-01-22 13:35:44 \n",
       "Last fit date: 2024-01-22 13:36:38 \n",
       "Skforecast version: 0.11.0 \n",
       "Python version: 3.11.5 \n",
       "Forecaster id: None "
      ]
     },
     "execution_count": 30,
     "metadata": {},
     "output_type": "execute_result"
    }
   ],
   "source": [
    "# Best model\n",
    "# ==============================================================================\n",
    "forecaster"
   ]
  },
  {
   "cell_type": "code",
   "execution_count": 31,
   "metadata": {},
   "outputs": [
    {
     "name": "stderr",
     "output_type": "stream",
     "text": [
      "100%|██████████| 18/18 [00:00<00:00, 39.87it/s]"
     ]
    },
    {
     "name": "stdout",
     "output_type": "stream",
     "text": [
      "Backtest error: 290.51\n"
     ]
    },
    {
     "name": "stderr",
     "output_type": "stream",
     "text": [
      "\n"
     ]
    },
    {
     "data": {
      "text/html": [
       "<div>\n",
       "<style scoped>\n",
       "    .dataframe tbody tr th:only-of-type {\n",
       "        vertical-align: middle;\n",
       "    }\n",
       "\n",
       "    .dataframe tbody tr th {\n",
       "        vertical-align: top;\n",
       "    }\n",
       "\n",
       "    .dataframe thead th {\n",
       "        text-align: right;\n",
       "    }\n",
       "</style>\n",
       "<table border=\"1\" class=\"dataframe\">\n",
       "  <thead>\n",
       "    <tr style=\"text-align: right;\">\n",
       "      <th></th>\n",
       "      <th>pred</th>\n",
       "    </tr>\n",
       "  </thead>\n",
       "  <tbody>\n",
       "    <tr>\n",
       "      <th>2018-01-07</th>\n",
       "      <td>1010.982367</td>\n",
       "    </tr>\n",
       "    <tr>\n",
       "      <th>2018-01-14</th>\n",
       "      <td>1526.586213</td>\n",
       "    </tr>\n",
       "    <tr>\n",
       "      <th>2018-01-21</th>\n",
       "      <td>1310.840594</td>\n",
       "    </tr>\n",
       "    <tr>\n",
       "      <th>2018-01-28</th>\n",
       "      <td>1670.403184</td>\n",
       "    </tr>\n",
       "    <tr>\n",
       "      <th>2018-02-04</th>\n",
       "      <td>2355.182652</td>\n",
       "    </tr>\n",
       "  </tbody>\n",
       "</table>\n",
       "</div>"
      ],
      "text/plain": [
       "                   pred\n",
       "2018-01-07  1010.982367\n",
       "2018-01-14  1526.586213\n",
       "2018-01-21  1310.840594\n",
       "2018-01-28  1670.403184\n",
       "2018-02-04  2355.182652"
      ]
     },
     "execution_count": 31,
     "metadata": {},
     "output_type": "execute_result"
    }
   ],
   "source": [
    "# Backtest final model on test data\n",
    "# ==============================================================================\n",
    "metric, predictions = backtesting_forecaster(\n",
    "                        forecaster         = forecaster,\n",
    "                        y                  = df['cases'],\n",
    "                        steps              = 6,\n",
    "                        metric             = 'mean_absolute_error',\n",
    "                        initial_train_size = len(df[:end_validation]),\n",
    "                        refit              = False,\n",
    "                        n_jobs             = 'auto',\n",
    "                        verbose            = False,\n",
    "                        show_progress      = True\n",
    "                    )\n",
    "\n",
    "print(f\"Backtest error: {metric:.2f}\")\n",
    "predictions.head()"
   ]
  },
  {
   "cell_type": "code",
   "execution_count": 32,
   "metadata": {},
   "outputs": [
    {
     "data": {
      "application/vnd.plotly.v1+json": {
       "config": {
        "plotlyServerURL": "https://plot.ly"
       },
       "data": [
        {
         "hovertemplate": "variable=cases<br>weekstart=%{x}<br>value=%{y}<extra></extra>",
         "legendgroup": "cases",
         "line": {
          "color": "#636efa",
          "dash": "solid"
         },
         "marker": {
          "symbol": "circle"
         },
         "mode": "lines",
         "name": "cases",
         "orientation": "v",
         "showlegend": true,
         "type": "scatter",
         "x": [
          "2017-12-31T00:00:00",
          "2018-01-07T00:00:00",
          "2018-01-14T00:00:00",
          "2018-01-21T00:00:00",
          "2018-01-28T00:00:00",
          "2018-02-04T00:00:00",
          "2018-02-11T00:00:00",
          "2018-02-18T00:00:00",
          "2018-02-25T00:00:00",
          "2018-03-04T00:00:00",
          "2018-03-11T00:00:00",
          "2018-03-18T00:00:00",
          "2018-03-25T00:00:00",
          "2018-04-01T00:00:00",
          "2018-04-08T00:00:00",
          "2018-04-15T00:00:00",
          "2018-04-22T00:00:00",
          "2018-04-29T00:00:00",
          "2018-05-06T00:00:00",
          "2018-05-13T00:00:00",
          "2018-05-20T00:00:00",
          "2018-05-27T00:00:00",
          "2018-06-03T00:00:00",
          "2018-06-10T00:00:00",
          "2018-06-17T00:00:00",
          "2018-06-24T00:00:00",
          "2018-07-01T00:00:00",
          "2018-07-08T00:00:00",
          "2018-07-15T00:00:00",
          "2018-07-22T00:00:00",
          "2018-07-29T00:00:00",
          "2018-08-05T00:00:00",
          "2018-08-12T00:00:00",
          "2018-08-19T00:00:00",
          "2018-08-26T00:00:00",
          "2018-09-02T00:00:00",
          "2018-09-09T00:00:00",
          "2018-09-16T00:00:00",
          "2018-09-23T00:00:00",
          "2018-09-30T00:00:00",
          "2018-10-07T00:00:00",
          "2018-10-14T00:00:00",
          "2018-10-21T00:00:00",
          "2018-10-28T00:00:00",
          "2018-11-04T00:00:00",
          "2018-11-11T00:00:00",
          "2018-11-18T00:00:00",
          "2018-11-25T00:00:00",
          "2018-12-02T00:00:00",
          "2018-12-09T00:00:00",
          "2018-12-16T00:00:00",
          "2018-12-23T00:00:00",
          "2018-12-30T00:00:00",
          "2019-01-06T00:00:00",
          "2019-01-13T00:00:00",
          "2019-01-20T00:00:00",
          "2019-01-27T00:00:00",
          "2019-02-03T00:00:00",
          "2019-02-10T00:00:00",
          "2019-02-17T00:00:00",
          "2019-02-24T00:00:00",
          "2019-03-03T00:00:00",
          "2019-03-10T00:00:00",
          "2019-03-17T00:00:00",
          "2019-03-24T00:00:00",
          "2019-03-31T00:00:00",
          "2019-04-07T00:00:00",
          "2019-04-14T00:00:00",
          "2019-04-21T00:00:00",
          "2019-04-28T00:00:00",
          "2019-05-05T00:00:00",
          "2019-05-12T00:00:00",
          "2019-05-19T00:00:00",
          "2019-05-26T00:00:00",
          "2019-06-02T00:00:00",
          "2019-06-09T00:00:00",
          "2019-06-16T00:00:00",
          "2019-06-23T00:00:00",
          "2019-06-30T00:00:00",
          "2019-07-07T00:00:00",
          "2019-07-14T00:00:00",
          "2019-07-21T00:00:00",
          "2019-07-28T00:00:00",
          "2019-08-04T00:00:00",
          "2019-08-11T00:00:00",
          "2019-08-18T00:00:00",
          "2019-08-25T00:00:00",
          "2019-09-01T00:00:00",
          "2019-09-08T00:00:00",
          "2019-09-15T00:00:00",
          "2019-09-22T00:00:00",
          "2019-09-29T00:00:00",
          "2019-10-06T00:00:00",
          "2019-10-13T00:00:00",
          "2019-10-20T00:00:00",
          "2019-10-27T00:00:00",
          "2019-11-03T00:00:00",
          "2019-11-10T00:00:00",
          "2019-11-17T00:00:00",
          "2019-11-24T00:00:00",
          "2019-12-01T00:00:00",
          "2019-12-08T00:00:00",
          "2019-12-15T00:00:00",
          "2019-12-22T00:00:00",
          "2019-12-29T00:00:00"
         ],
         "xaxis": "x",
         "y": [
          330,
          1683,
          2395,
          3072,
          3805,
          2226,
          2448,
          1665,
          1551,
          1514,
          2176,
          1476,
          1049,
          16,
          913,
          854,
          829,
          857,
          932,
          745,
          573,
          388,
          206,
          12,
          15,
          30,
          2,
          1,
          21,
          21,
          20,
          11,
          1,
          71,
          265,
          541,
          861,
          863,
          883,
          943,
          952,
          987,
          1110,
          1070,
          986,
          984,
          495,
          930,
          1148,
          1260,
          1189,
          62,
          48,
          1039,
          917,
          819,
          34,
          234,
          746,
          809,
          1254,
          1393,
          1654,
          1994,
          1339,
          37,
          902,
          979,
          920,
          1109,
          1011,
          951,
          672,
          352,
          199,
          50,
          5,
          8,
          2,
          1,
          3,
          7,
          4,
          11,
          10,
          63,
          268,
          573,
          1083,
          976,
          1014,
          1011,
          1239,
          1119,
          994,
          1111,
          1458,
          1671,
          1466,
          638,
          1722,
          2121,
          1638,
          52,
          55
         ],
         "yaxis": "y"
        },
        {
         "hovertemplate": "variable=pred<br>weekstart=%{x}<br>value=%{y}<extra></extra>",
         "legendgroup": "pred",
         "line": {
          "color": "#EF553B",
          "dash": "solid"
         },
         "marker": {
          "symbol": "circle"
         },
         "mode": "lines",
         "name": "pred",
         "orientation": "v",
         "showlegend": true,
         "type": "scatter",
         "x": [
          "2017-12-31T00:00:00",
          "2018-01-07T00:00:00",
          "2018-01-14T00:00:00",
          "2018-01-21T00:00:00",
          "2018-01-28T00:00:00",
          "2018-02-04T00:00:00",
          "2018-02-11T00:00:00",
          "2018-02-18T00:00:00",
          "2018-02-25T00:00:00",
          "2018-03-04T00:00:00",
          "2018-03-11T00:00:00",
          "2018-03-18T00:00:00",
          "2018-03-25T00:00:00",
          "2018-04-01T00:00:00",
          "2018-04-08T00:00:00",
          "2018-04-15T00:00:00",
          "2018-04-22T00:00:00",
          "2018-04-29T00:00:00",
          "2018-05-06T00:00:00",
          "2018-05-13T00:00:00",
          "2018-05-20T00:00:00",
          "2018-05-27T00:00:00",
          "2018-06-03T00:00:00",
          "2018-06-10T00:00:00",
          "2018-06-17T00:00:00",
          "2018-06-24T00:00:00",
          "2018-07-01T00:00:00",
          "2018-07-08T00:00:00",
          "2018-07-15T00:00:00",
          "2018-07-22T00:00:00",
          "2018-07-29T00:00:00",
          "2018-08-05T00:00:00",
          "2018-08-12T00:00:00",
          "2018-08-19T00:00:00",
          "2018-08-26T00:00:00",
          "2018-09-02T00:00:00",
          "2018-09-09T00:00:00",
          "2018-09-16T00:00:00",
          "2018-09-23T00:00:00",
          "2018-09-30T00:00:00",
          "2018-10-07T00:00:00",
          "2018-10-14T00:00:00",
          "2018-10-21T00:00:00",
          "2018-10-28T00:00:00",
          "2018-11-04T00:00:00",
          "2018-11-11T00:00:00",
          "2018-11-18T00:00:00",
          "2018-11-25T00:00:00",
          "2018-12-02T00:00:00",
          "2018-12-09T00:00:00",
          "2018-12-16T00:00:00",
          "2018-12-23T00:00:00",
          "2018-12-30T00:00:00",
          "2019-01-06T00:00:00",
          "2019-01-13T00:00:00",
          "2019-01-20T00:00:00",
          "2019-01-27T00:00:00",
          "2019-02-03T00:00:00",
          "2019-02-10T00:00:00",
          "2019-02-17T00:00:00",
          "2019-02-24T00:00:00",
          "2019-03-03T00:00:00",
          "2019-03-10T00:00:00",
          "2019-03-17T00:00:00",
          "2019-03-24T00:00:00",
          "2019-03-31T00:00:00",
          "2019-04-07T00:00:00",
          "2019-04-14T00:00:00",
          "2019-04-21T00:00:00",
          "2019-04-28T00:00:00",
          "2019-05-05T00:00:00",
          "2019-05-12T00:00:00",
          "2019-05-19T00:00:00",
          "2019-05-26T00:00:00",
          "2019-06-02T00:00:00",
          "2019-06-09T00:00:00",
          "2019-06-16T00:00:00",
          "2019-06-23T00:00:00",
          "2019-06-30T00:00:00",
          "2019-07-07T00:00:00",
          "2019-07-14T00:00:00",
          "2019-07-21T00:00:00",
          "2019-07-28T00:00:00",
          "2019-08-04T00:00:00",
          "2019-08-11T00:00:00",
          "2019-08-18T00:00:00",
          "2019-08-25T00:00:00",
          "2019-09-01T00:00:00",
          "2019-09-08T00:00:00",
          "2019-09-15T00:00:00",
          "2019-09-22T00:00:00",
          "2019-09-29T00:00:00",
          "2019-10-06T00:00:00",
          "2019-10-13T00:00:00",
          "2019-10-20T00:00:00",
          "2019-10-27T00:00:00",
          "2019-11-03T00:00:00",
          "2019-11-10T00:00:00",
          "2019-11-17T00:00:00",
          "2019-11-24T00:00:00",
          "2019-12-01T00:00:00",
          "2019-12-08T00:00:00",
          "2019-12-15T00:00:00",
          "2019-12-22T00:00:00",
          "2019-12-29T00:00:00"
         ],
         "xaxis": "x",
         "y": [
          null,
          1010.9823666336314,
          1526.5862131557365,
          1310.840594209047,
          1670.4031844213432,
          2355.182651978674,
          2240.332308498168,
          1349.9747731967057,
          2369.3029862288295,
          1986.527517411486,
          2169.368148617946,
          1871.6764945290429,
          1588.9846784217164,
          1101.2123434121818,
          794.2085845772174,
          1147.5342107141664,
          1216.5554340469018,
          1371.388126596714,
          1566.9483105700115,
          895.4990197000468,
          733.0390988363921,
          582.6207940051642,
          652.2642198317296,
          567.8860283015383,
          407.65547664507807,
          -11.787984868952103,
          3.9817689740817475,
          11.602612522627478,
          15.637949460206867,
          4.144040292544275,
          -6.2604451541973205,
          5.680838712520522,
          -4.902111448147382,
          92.08972507423096,
          211.71635655159565,
          606.5653121357897,
          832.2166070477845,
          949.3777752025821,
          992.5048325108644,
          779.8215664513509,
          763.8169991516385,
          941.6899017216989,
          1083.1139687232908,
          1145.6763217824787,
          1055.585056820413,
          1296.7056506697843,
          802.850880928449,
          702.6173290305659,
          891.2723880846247,
          986.6354182286582,
          1071.8260628010876,
          217.93304440735218,
          253.99805308454827,
          1050.5925459075406,
          1276.5664770626618,
          1218.9121373717917,
          1217.9113916280442,
          1168.6530884313613,
          989.9152384466562,
          1276.7390661295356,
          1322.3678003023335,
          1201.9554596456207,
          1386.677353600845,
          1425.314443860442,
          1328.051197489382,
          480.91621129983224,
          1131.4304114613124,
          1268.4015099075975,
          1271.5022792314903,
          1059.0981298518197,
          771.2856890281141,
          925.3640433169958,
          1050.6449986226323,
          566.3598601371012,
          651.489389263472,
          280.711192682182,
          115.01966114538033,
          -18.510241978859092,
          2.480073733934307,
          7.596306852269961,
          24.401152995056236,
          42.41771619665805,
          45.281290916551534,
          28.56048257645505,
          35.05224226061549,
          128.98478477327487,
          212.98984122579014,
          542.9740448113987,
          847.66409127679,
          1056.4760419363224,
          1129.609395904419,
          979.1631330439382,
          930.5836244332967,
          895.7482022189879,
          847.7694142194549,
          780.8139308626381,
          769.283326226658,
          1669.2031213220484,
          1950.4321726925527,
          643.4285595199322,
          464.3195939141856,
          1239.4230687475626,
          1069.848485407813,
          156.81597332826593,
          594.990995323634
         ],
         "yaxis": "y"
        }
       ],
       "layout": {
        "legend": {
         "title": {
          "text": "variable"
         },
         "tracegroupgap": 0
        },
        "margin": {
         "t": 60
        },
        "template": {
         "data": {
          "bar": [
           {
            "error_x": {
             "color": "#2a3f5f"
            },
            "error_y": {
             "color": "#2a3f5f"
            },
            "marker": {
             "line": {
              "color": "#E5ECF6",
              "width": 0.5
             },
             "pattern": {
              "fillmode": "overlay",
              "size": 10,
              "solidity": 0.2
             }
            },
            "type": "bar"
           }
          ],
          "barpolar": [
           {
            "marker": {
             "line": {
              "color": "#E5ECF6",
              "width": 0.5
             },
             "pattern": {
              "fillmode": "overlay",
              "size": 10,
              "solidity": 0.2
             }
            },
            "type": "barpolar"
           }
          ],
          "carpet": [
           {
            "aaxis": {
             "endlinecolor": "#2a3f5f",
             "gridcolor": "white",
             "linecolor": "white",
             "minorgridcolor": "white",
             "startlinecolor": "#2a3f5f"
            },
            "baxis": {
             "endlinecolor": "#2a3f5f",
             "gridcolor": "white",
             "linecolor": "white",
             "minorgridcolor": "white",
             "startlinecolor": "#2a3f5f"
            },
            "type": "carpet"
           }
          ],
          "choropleth": [
           {
            "colorbar": {
             "outlinewidth": 0,
             "ticks": ""
            },
            "type": "choropleth"
           }
          ],
          "contour": [
           {
            "colorbar": {
             "outlinewidth": 0,
             "ticks": ""
            },
            "colorscale": [
             [
              0,
              "#0d0887"
             ],
             [
              0.1111111111111111,
              "#46039f"
             ],
             [
              0.2222222222222222,
              "#7201a8"
             ],
             [
              0.3333333333333333,
              "#9c179e"
             ],
             [
              0.4444444444444444,
              "#bd3786"
             ],
             [
              0.5555555555555556,
              "#d8576b"
             ],
             [
              0.6666666666666666,
              "#ed7953"
             ],
             [
              0.7777777777777778,
              "#fb9f3a"
             ],
             [
              0.8888888888888888,
              "#fdca26"
             ],
             [
              1,
              "#f0f921"
             ]
            ],
            "type": "contour"
           }
          ],
          "contourcarpet": [
           {
            "colorbar": {
             "outlinewidth": 0,
             "ticks": ""
            },
            "type": "contourcarpet"
           }
          ],
          "heatmap": [
           {
            "colorbar": {
             "outlinewidth": 0,
             "ticks": ""
            },
            "colorscale": [
             [
              0,
              "#0d0887"
             ],
             [
              0.1111111111111111,
              "#46039f"
             ],
             [
              0.2222222222222222,
              "#7201a8"
             ],
             [
              0.3333333333333333,
              "#9c179e"
             ],
             [
              0.4444444444444444,
              "#bd3786"
             ],
             [
              0.5555555555555556,
              "#d8576b"
             ],
             [
              0.6666666666666666,
              "#ed7953"
             ],
             [
              0.7777777777777778,
              "#fb9f3a"
             ],
             [
              0.8888888888888888,
              "#fdca26"
             ],
             [
              1,
              "#f0f921"
             ]
            ],
            "type": "heatmap"
           }
          ],
          "heatmapgl": [
           {
            "colorbar": {
             "outlinewidth": 0,
             "ticks": ""
            },
            "colorscale": [
             [
              0,
              "#0d0887"
             ],
             [
              0.1111111111111111,
              "#46039f"
             ],
             [
              0.2222222222222222,
              "#7201a8"
             ],
             [
              0.3333333333333333,
              "#9c179e"
             ],
             [
              0.4444444444444444,
              "#bd3786"
             ],
             [
              0.5555555555555556,
              "#d8576b"
             ],
             [
              0.6666666666666666,
              "#ed7953"
             ],
             [
              0.7777777777777778,
              "#fb9f3a"
             ],
             [
              0.8888888888888888,
              "#fdca26"
             ],
             [
              1,
              "#f0f921"
             ]
            ],
            "type": "heatmapgl"
           }
          ],
          "histogram": [
           {
            "marker": {
             "pattern": {
              "fillmode": "overlay",
              "size": 10,
              "solidity": 0.2
             }
            },
            "type": "histogram"
           }
          ],
          "histogram2d": [
           {
            "colorbar": {
             "outlinewidth": 0,
             "ticks": ""
            },
            "colorscale": [
             [
              0,
              "#0d0887"
             ],
             [
              0.1111111111111111,
              "#46039f"
             ],
             [
              0.2222222222222222,
              "#7201a8"
             ],
             [
              0.3333333333333333,
              "#9c179e"
             ],
             [
              0.4444444444444444,
              "#bd3786"
             ],
             [
              0.5555555555555556,
              "#d8576b"
             ],
             [
              0.6666666666666666,
              "#ed7953"
             ],
             [
              0.7777777777777778,
              "#fb9f3a"
             ],
             [
              0.8888888888888888,
              "#fdca26"
             ],
             [
              1,
              "#f0f921"
             ]
            ],
            "type": "histogram2d"
           }
          ],
          "histogram2dcontour": [
           {
            "colorbar": {
             "outlinewidth": 0,
             "ticks": ""
            },
            "colorscale": [
             [
              0,
              "#0d0887"
             ],
             [
              0.1111111111111111,
              "#46039f"
             ],
             [
              0.2222222222222222,
              "#7201a8"
             ],
             [
              0.3333333333333333,
              "#9c179e"
             ],
             [
              0.4444444444444444,
              "#bd3786"
             ],
             [
              0.5555555555555556,
              "#d8576b"
             ],
             [
              0.6666666666666666,
              "#ed7953"
             ],
             [
              0.7777777777777778,
              "#fb9f3a"
             ],
             [
              0.8888888888888888,
              "#fdca26"
             ],
             [
              1,
              "#f0f921"
             ]
            ],
            "type": "histogram2dcontour"
           }
          ],
          "mesh3d": [
           {
            "colorbar": {
             "outlinewidth": 0,
             "ticks": ""
            },
            "type": "mesh3d"
           }
          ],
          "parcoords": [
           {
            "line": {
             "colorbar": {
              "outlinewidth": 0,
              "ticks": ""
             }
            },
            "type": "parcoords"
           }
          ],
          "pie": [
           {
            "automargin": true,
            "type": "pie"
           }
          ],
          "scatter": [
           {
            "marker": {
             "colorbar": {
              "outlinewidth": 0,
              "ticks": ""
             }
            },
            "type": "scatter"
           }
          ],
          "scatter3d": [
           {
            "line": {
             "colorbar": {
              "outlinewidth": 0,
              "ticks": ""
             }
            },
            "marker": {
             "colorbar": {
              "outlinewidth": 0,
              "ticks": ""
             }
            },
            "type": "scatter3d"
           }
          ],
          "scattercarpet": [
           {
            "marker": {
             "colorbar": {
              "outlinewidth": 0,
              "ticks": ""
             }
            },
            "type": "scattercarpet"
           }
          ],
          "scattergeo": [
           {
            "marker": {
             "colorbar": {
              "outlinewidth": 0,
              "ticks": ""
             }
            },
            "type": "scattergeo"
           }
          ],
          "scattergl": [
           {
            "marker": {
             "colorbar": {
              "outlinewidth": 0,
              "ticks": ""
             }
            },
            "type": "scattergl"
           }
          ],
          "scattermapbox": [
           {
            "marker": {
             "colorbar": {
              "outlinewidth": 0,
              "ticks": ""
             }
            },
            "type": "scattermapbox"
           }
          ],
          "scatterpolar": [
           {
            "marker": {
             "colorbar": {
              "outlinewidth": 0,
              "ticks": ""
             }
            },
            "type": "scatterpolar"
           }
          ],
          "scatterpolargl": [
           {
            "marker": {
             "colorbar": {
              "outlinewidth": 0,
              "ticks": ""
             }
            },
            "type": "scatterpolargl"
           }
          ],
          "scatterternary": [
           {
            "marker": {
             "colorbar": {
              "outlinewidth": 0,
              "ticks": ""
             }
            },
            "type": "scatterternary"
           }
          ],
          "surface": [
           {
            "colorbar": {
             "outlinewidth": 0,
             "ticks": ""
            },
            "colorscale": [
             [
              0,
              "#0d0887"
             ],
             [
              0.1111111111111111,
              "#46039f"
             ],
             [
              0.2222222222222222,
              "#7201a8"
             ],
             [
              0.3333333333333333,
              "#9c179e"
             ],
             [
              0.4444444444444444,
              "#bd3786"
             ],
             [
              0.5555555555555556,
              "#d8576b"
             ],
             [
              0.6666666666666666,
              "#ed7953"
             ],
             [
              0.7777777777777778,
              "#fb9f3a"
             ],
             [
              0.8888888888888888,
              "#fdca26"
             ],
             [
              1,
              "#f0f921"
             ]
            ],
            "type": "surface"
           }
          ],
          "table": [
           {
            "cells": {
             "fill": {
              "color": "#EBF0F8"
             },
             "line": {
              "color": "white"
             }
            },
            "header": {
             "fill": {
              "color": "#C8D4E3"
             },
             "line": {
              "color": "white"
             }
            },
            "type": "table"
           }
          ]
         },
         "layout": {
          "annotationdefaults": {
           "arrowcolor": "#2a3f5f",
           "arrowhead": 0,
           "arrowwidth": 1
          },
          "autotypenumbers": "strict",
          "coloraxis": {
           "colorbar": {
            "outlinewidth": 0,
            "ticks": ""
           }
          },
          "colorscale": {
           "diverging": [
            [
             0,
             "#8e0152"
            ],
            [
             0.1,
             "#c51b7d"
            ],
            [
             0.2,
             "#de77ae"
            ],
            [
             0.3,
             "#f1b6da"
            ],
            [
             0.4,
             "#fde0ef"
            ],
            [
             0.5,
             "#f7f7f7"
            ],
            [
             0.6,
             "#e6f5d0"
            ],
            [
             0.7,
             "#b8e186"
            ],
            [
             0.8,
             "#7fbc41"
            ],
            [
             0.9,
             "#4d9221"
            ],
            [
             1,
             "#276419"
            ]
           ],
           "sequential": [
            [
             0,
             "#0d0887"
            ],
            [
             0.1111111111111111,
             "#46039f"
            ],
            [
             0.2222222222222222,
             "#7201a8"
            ],
            [
             0.3333333333333333,
             "#9c179e"
            ],
            [
             0.4444444444444444,
             "#bd3786"
            ],
            [
             0.5555555555555556,
             "#d8576b"
            ],
            [
             0.6666666666666666,
             "#ed7953"
            ],
            [
             0.7777777777777778,
             "#fb9f3a"
            ],
            [
             0.8888888888888888,
             "#fdca26"
            ],
            [
             1,
             "#f0f921"
            ]
           ],
           "sequentialminus": [
            [
             0,
             "#0d0887"
            ],
            [
             0.1111111111111111,
             "#46039f"
            ],
            [
             0.2222222222222222,
             "#7201a8"
            ],
            [
             0.3333333333333333,
             "#9c179e"
            ],
            [
             0.4444444444444444,
             "#bd3786"
            ],
            [
             0.5555555555555556,
             "#d8576b"
            ],
            [
             0.6666666666666666,
             "#ed7953"
            ],
            [
             0.7777777777777778,
             "#fb9f3a"
            ],
            [
             0.8888888888888888,
             "#fdca26"
            ],
            [
             1,
             "#f0f921"
            ]
           ]
          },
          "colorway": [
           "#636efa",
           "#EF553B",
           "#00cc96",
           "#ab63fa",
           "#FFA15A",
           "#19d3f3",
           "#FF6692",
           "#B6E880",
           "#FF97FF",
           "#FECB52"
          ],
          "font": {
           "color": "#2a3f5f"
          },
          "geo": {
           "bgcolor": "white",
           "lakecolor": "white",
           "landcolor": "#E5ECF6",
           "showlakes": true,
           "showland": true,
           "subunitcolor": "white"
          },
          "hoverlabel": {
           "align": "left"
          },
          "hovermode": "closest",
          "mapbox": {
           "style": "light"
          },
          "paper_bgcolor": "white",
          "plot_bgcolor": "#E5ECF6",
          "polar": {
           "angularaxis": {
            "gridcolor": "white",
            "linecolor": "white",
            "ticks": ""
           },
           "bgcolor": "#E5ECF6",
           "radialaxis": {
            "gridcolor": "white",
            "linecolor": "white",
            "ticks": ""
           }
          },
          "scene": {
           "xaxis": {
            "backgroundcolor": "#E5ECF6",
            "gridcolor": "white",
            "gridwidth": 2,
            "linecolor": "white",
            "showbackground": true,
            "ticks": "",
            "zerolinecolor": "white"
           },
           "yaxis": {
            "backgroundcolor": "#E5ECF6",
            "gridcolor": "white",
            "gridwidth": 2,
            "linecolor": "white",
            "showbackground": true,
            "ticks": "",
            "zerolinecolor": "white"
           },
           "zaxis": {
            "backgroundcolor": "#E5ECF6",
            "gridcolor": "white",
            "gridwidth": 2,
            "linecolor": "white",
            "showbackground": true,
            "ticks": "",
            "zerolinecolor": "white"
           }
          },
          "shapedefaults": {
           "line": {
            "color": "#2a3f5f"
           }
          },
          "ternary": {
           "aaxis": {
            "gridcolor": "white",
            "linecolor": "white",
            "ticks": ""
           },
           "baxis": {
            "gridcolor": "white",
            "linecolor": "white",
            "ticks": ""
           },
           "bgcolor": "#E5ECF6",
           "caxis": {
            "gridcolor": "white",
            "linecolor": "white",
            "ticks": ""
           }
          },
          "title": {
           "x": 0.05
          },
          "xaxis": {
           "automargin": true,
           "gridcolor": "white",
           "linecolor": "white",
           "ticks": "",
           "title": {
            "standoff": 15
           },
           "zerolinecolor": "white",
           "zerolinewidth": 2
          },
          "yaxis": {
           "automargin": true,
           "gridcolor": "white",
           "linecolor": "white",
           "ticks": "",
           "title": {
            "standoff": 15
           },
           "zerolinecolor": "white",
           "zerolinewidth": 2
          }
         }
        },
        "xaxis": {
         "anchor": "y",
         "domain": [
          0,
          1
         ],
         "title": {
          "text": "weekstart"
         }
        },
        "yaxis": {
         "anchor": "x",
         "domain": [
          0,
          1
         ],
         "title": {
          "text": "value"
         }
        }
       }
      }
     },
     "metadata": {},
     "output_type": "display_data"
    }
   ],
   "source": [
    "px.line(df_test[['cases']].join(predictions).melt(ignore_index=False), y='value', color='variable')"
   ]
  },
  {
   "cell_type": "markdown",
   "metadata": {},
   "source": [
    "---\n",
    "\n",
    "*Let's try cyclically encoding epiweek*"
   ]
  },
  {
   "cell_type": "code",
   "execution_count": 33,
   "metadata": {},
   "outputs": [],
   "source": [
    "epiweek_encoded = cyclical_encoding(df['epiweek'].apply(lambda x: x-1), cycle_length=52)"
   ]
  },
  {
   "cell_type": "code",
   "execution_count": 34,
   "metadata": {},
   "outputs": [
    {
     "data": {
      "text/html": [
       "<div>\n",
       "<style scoped>\n",
       "    .dataframe tbody tr th:only-of-type {\n",
       "        vertical-align: middle;\n",
       "    }\n",
       "\n",
       "    .dataframe tbody tr th {\n",
       "        vertical-align: top;\n",
       "    }\n",
       "\n",
       "    .dataframe thead th {\n",
       "        text-align: right;\n",
       "    }\n",
       "</style>\n",
       "<table border=\"1\" class=\"dataframe\">\n",
       "  <thead>\n",
       "    <tr style=\"text-align: right;\">\n",
       "      <th></th>\n",
       "      <th>epiweek_sin</th>\n",
       "      <th>epiweek_cos</th>\n",
       "    </tr>\n",
       "    <tr>\n",
       "      <th>weekstart</th>\n",
       "      <th></th>\n",
       "      <th></th>\n",
       "    </tr>\n",
       "  </thead>\n",
       "  <tbody>\n",
       "    <tr>\n",
       "      <th>2005-01-09</th>\n",
       "      <td>0.120537</td>\n",
       "      <td>0.992709</td>\n",
       "    </tr>\n",
       "    <tr>\n",
       "      <th>2005-01-16</th>\n",
       "      <td>0.239316</td>\n",
       "      <td>0.970942</td>\n",
       "    </tr>\n",
       "    <tr>\n",
       "      <th>2005-01-23</th>\n",
       "      <td>0.354605</td>\n",
       "      <td>0.935016</td>\n",
       "    </tr>\n",
       "    <tr>\n",
       "      <th>2005-01-30</th>\n",
       "      <td>0.464723</td>\n",
       "      <td>0.885456</td>\n",
       "    </tr>\n",
       "    <tr>\n",
       "      <th>2005-02-06</th>\n",
       "      <td>0.568065</td>\n",
       "      <td>0.822984</td>\n",
       "    </tr>\n",
       "    <tr>\n",
       "      <th>...</th>\n",
       "      <td>...</td>\n",
       "      <td>...</td>\n",
       "    </tr>\n",
       "    <tr>\n",
       "      <th>2019-12-01</th>\n",
       "      <td>-0.464723</td>\n",
       "      <td>0.885456</td>\n",
       "    </tr>\n",
       "    <tr>\n",
       "      <th>2019-12-08</th>\n",
       "      <td>-0.354605</td>\n",
       "      <td>0.935016</td>\n",
       "    </tr>\n",
       "    <tr>\n",
       "      <th>2019-12-15</th>\n",
       "      <td>-0.239316</td>\n",
       "      <td>0.970942</td>\n",
       "    </tr>\n",
       "    <tr>\n",
       "      <th>2019-12-22</th>\n",
       "      <td>-0.120537</td>\n",
       "      <td>0.992709</td>\n",
       "    </tr>\n",
       "    <tr>\n",
       "      <th>2019-12-29</th>\n",
       "      <td>0.000000</td>\n",
       "      <td>1.000000</td>\n",
       "    </tr>\n",
       "  </tbody>\n",
       "</table>\n",
       "<p>782 rows × 2 columns</p>\n",
       "</div>"
      ],
      "text/plain": [
       "            epiweek_sin  epiweek_cos\n",
       "weekstart                           \n",
       "2005-01-09     0.120537     0.992709\n",
       "2005-01-16     0.239316     0.970942\n",
       "2005-01-23     0.354605     0.935016\n",
       "2005-01-30     0.464723     0.885456\n",
       "2005-02-06     0.568065     0.822984\n",
       "...                 ...          ...\n",
       "2019-12-01    -0.464723     0.885456\n",
       "2019-12-08    -0.354605     0.935016\n",
       "2019-12-15    -0.239316     0.970942\n",
       "2019-12-22    -0.120537     0.992709\n",
       "2019-12-29     0.000000     1.000000\n",
       "\n",
       "[782 rows x 2 columns]"
      ]
     },
     "execution_count": 34,
     "metadata": {},
     "output_type": "execute_result"
    }
   ],
   "source": [
    "epiweek_encoded"
   ]
  },
  {
   "cell_type": "code",
   "execution_count": 35,
   "metadata": {},
   "outputs": [
    {
     "data": {
      "text/html": [
       "<div>\n",
       "<style scoped>\n",
       "    .dataframe tbody tr th:only-of-type {\n",
       "        vertical-align: middle;\n",
       "    }\n",
       "\n",
       "    .dataframe tbody tr th {\n",
       "        vertical-align: top;\n",
       "    }\n",
       "\n",
       "    .dataframe thead th {\n",
       "        text-align: right;\n",
       "    }\n",
       "</style>\n",
       "<table border=\"1\" class=\"dataframe\">\n",
       "  <thead>\n",
       "    <tr style=\"text-align: right;\">\n",
       "      <th></th>\n",
       "      <th>epiweek</th>\n",
       "      <th>GS_cold</th>\n",
       "      <th>GS_cough</th>\n",
       "      <th>GS_fever</th>\n",
       "      <th>GS_flu</th>\n",
       "      <th>AWND</th>\n",
       "      <th>PRCP</th>\n",
       "      <th>SNOW</th>\n",
       "      <th>TAVG</th>\n",
       "      <th>TMAX</th>\n",
       "      <th>...</th>\n",
       "      <th>GS_fever_L2</th>\n",
       "      <th>AWND_L1</th>\n",
       "      <th>TAVG_L1</th>\n",
       "      <th>TAVG_L2</th>\n",
       "      <th>TMAX_L1</th>\n",
       "      <th>TMAX_L2</th>\n",
       "      <th>TMIN_L1</th>\n",
       "      <th>TMIN_L2</th>\n",
       "      <th>epiweek_sin</th>\n",
       "      <th>epiweek_cos</th>\n",
       "    </tr>\n",
       "    <tr>\n",
       "      <th>weekstart</th>\n",
       "      <th></th>\n",
       "      <th></th>\n",
       "      <th></th>\n",
       "      <th></th>\n",
       "      <th></th>\n",
       "      <th></th>\n",
       "      <th></th>\n",
       "      <th></th>\n",
       "      <th></th>\n",
       "      <th></th>\n",
       "      <th></th>\n",
       "      <th></th>\n",
       "      <th></th>\n",
       "      <th></th>\n",
       "      <th></th>\n",
       "      <th></th>\n",
       "      <th></th>\n",
       "      <th></th>\n",
       "      <th></th>\n",
       "      <th></th>\n",
       "      <th></th>\n",
       "    </tr>\n",
       "  </thead>\n",
       "  <tbody>\n",
       "    <tr>\n",
       "      <th>2005-01-09</th>\n",
       "      <td>2.0</td>\n",
       "      <td>2816.0</td>\n",
       "      <td>414.0</td>\n",
       "      <td>1048.0</td>\n",
       "      <td>707.0</td>\n",
       "      <td>11.142857</td>\n",
       "      <td>0.285714</td>\n",
       "      <td>0.428571</td>\n",
       "      <td>29.857143</td>\n",
       "      <td>36.000000</td>\n",
       "      <td>...</td>\n",
       "      <td>1023.0</td>\n",
       "      <td>8.428571</td>\n",
       "      <td>28.428571</td>\n",
       "      <td>28.285714</td>\n",
       "      <td>31.857143</td>\n",
       "      <td>36.571429</td>\n",
       "      <td>24.285714</td>\n",
       "      <td>19.714286</td>\n",
       "      <td>0.120537</td>\n",
       "      <td>0.992709</td>\n",
       "    </tr>\n",
       "    <tr>\n",
       "      <th>2005-01-16</th>\n",
       "      <td>3.0</td>\n",
       "      <td>3074.0</td>\n",
       "      <td>342.0</td>\n",
       "      <td>1057.0</td>\n",
       "      <td>720.0</td>\n",
       "      <td>12.142857</td>\n",
       "      <td>0.142857</td>\n",
       "      <td>2.142857</td>\n",
       "      <td>12.571429</td>\n",
       "      <td>17.714286</td>\n",
       "      <td>...</td>\n",
       "      <td>1047.0</td>\n",
       "      <td>11.142857</td>\n",
       "      <td>29.857143</td>\n",
       "      <td>28.428571</td>\n",
       "      <td>36.000000</td>\n",
       "      <td>31.857143</td>\n",
       "      <td>23.000000</td>\n",
       "      <td>24.285714</td>\n",
       "      <td>0.239316</td>\n",
       "      <td>0.970942</td>\n",
       "    </tr>\n",
       "    <tr>\n",
       "      <th>2005-01-23</th>\n",
       "      <td>4.0</td>\n",
       "      <td>3188.0</td>\n",
       "      <td>389.0</td>\n",
       "      <td>1062.0</td>\n",
       "      <td>782.0</td>\n",
       "      <td>7.285714</td>\n",
       "      <td>0.000000</td>\n",
       "      <td>0.000000</td>\n",
       "      <td>16.428571</td>\n",
       "      <td>26.857143</td>\n",
       "      <td>...</td>\n",
       "      <td>1048.0</td>\n",
       "      <td>12.142857</td>\n",
       "      <td>12.571429</td>\n",
       "      <td>29.857143</td>\n",
       "      <td>17.714286</td>\n",
       "      <td>36.000000</td>\n",
       "      <td>7.000000</td>\n",
       "      <td>23.000000</td>\n",
       "      <td>0.354605</td>\n",
       "      <td>0.935016</td>\n",
       "    </tr>\n",
       "    <tr>\n",
       "      <th>2005-01-30</th>\n",
       "      <td>5.0</td>\n",
       "      <td>2745.0</td>\n",
       "      <td>418.0</td>\n",
       "      <td>1083.0</td>\n",
       "      <td>897.0</td>\n",
       "      <td>5.000000</td>\n",
       "      <td>0.000000</td>\n",
       "      <td>0.000000</td>\n",
       "      <td>27.571429</td>\n",
       "      <td>36.285714</td>\n",
       "      <td>...</td>\n",
       "      <td>1057.0</td>\n",
       "      <td>7.285714</td>\n",
       "      <td>16.428571</td>\n",
       "      <td>12.571429</td>\n",
       "      <td>26.857143</td>\n",
       "      <td>17.714286</td>\n",
       "      <td>3.857143</td>\n",
       "      <td>7.000000</td>\n",
       "      <td>0.464723</td>\n",
       "      <td>0.885456</td>\n",
       "    </tr>\n",
       "    <tr>\n",
       "      <th>2005-02-06</th>\n",
       "      <td>6.0</td>\n",
       "      <td>3004.0</td>\n",
       "      <td>432.0</td>\n",
       "      <td>1257.0</td>\n",
       "      <td>986.0</td>\n",
       "      <td>7.714286</td>\n",
       "      <td>0.000000</td>\n",
       "      <td>0.000000</td>\n",
       "      <td>31.571429</td>\n",
       "      <td>37.142857</td>\n",
       "      <td>...</td>\n",
       "      <td>1062.0</td>\n",
       "      <td>5.000000</td>\n",
       "      <td>27.571429</td>\n",
       "      <td>16.428571</td>\n",
       "      <td>36.285714</td>\n",
       "      <td>26.857143</td>\n",
       "      <td>18.142857</td>\n",
       "      <td>3.857143</td>\n",
       "      <td>0.568065</td>\n",
       "      <td>0.822984</td>\n",
       "    </tr>\n",
       "  </tbody>\n",
       "</table>\n",
       "<p>5 rows × 35 columns</p>\n",
       "</div>"
      ],
      "text/plain": [
       "            epiweek  GS_cold  GS_cough  GS_fever  GS_flu       AWND      PRCP  \\\n",
       "weekstart                                                                       \n",
       "2005-01-09      2.0   2816.0     414.0    1048.0   707.0  11.142857  0.285714   \n",
       "2005-01-16      3.0   3074.0     342.0    1057.0   720.0  12.142857  0.142857   \n",
       "2005-01-23      4.0   3188.0     389.0    1062.0   782.0   7.285714  0.000000   \n",
       "2005-01-30      5.0   2745.0     418.0    1083.0   897.0   5.000000  0.000000   \n",
       "2005-02-06      6.0   3004.0     432.0    1257.0   986.0   7.714286  0.000000   \n",
       "\n",
       "                SNOW       TAVG       TMAX  ...  GS_fever_L2    AWND_L1  \\\n",
       "weekstart                                   ...                           \n",
       "2005-01-09  0.428571  29.857143  36.000000  ...       1023.0   8.428571   \n",
       "2005-01-16  2.142857  12.571429  17.714286  ...       1047.0  11.142857   \n",
       "2005-01-23  0.000000  16.428571  26.857143  ...       1048.0  12.142857   \n",
       "2005-01-30  0.000000  27.571429  36.285714  ...       1057.0   7.285714   \n",
       "2005-02-06  0.000000  31.571429  37.142857  ...       1062.0   5.000000   \n",
       "\n",
       "              TAVG_L1    TAVG_L2    TMAX_L1    TMAX_L2    TMIN_L1    TMIN_L2  \\\n",
       "weekstart                                                                      \n",
       "2005-01-09  28.428571  28.285714  31.857143  36.571429  24.285714  19.714286   \n",
       "2005-01-16  29.857143  28.428571  36.000000  31.857143  23.000000  24.285714   \n",
       "2005-01-23  12.571429  29.857143  17.714286  36.000000   7.000000  23.000000   \n",
       "2005-01-30  16.428571  12.571429  26.857143  17.714286   3.857143   7.000000   \n",
       "2005-02-06  27.571429  16.428571  36.285714  26.857143  18.142857   3.857143   \n",
       "\n",
       "            epiweek_sin  epiweek_cos  \n",
       "weekstart                             \n",
       "2005-01-09     0.120537     0.992709  \n",
       "2005-01-16     0.239316     0.970942  \n",
       "2005-01-23     0.354605     0.935016  \n",
       "2005-01-30     0.464723     0.885456  \n",
       "2005-02-06     0.568065     0.822984  \n",
       "\n",
       "[5 rows x 35 columns]"
      ]
     },
     "execution_count": 35,
     "metadata": {},
     "output_type": "execute_result"
    }
   ],
   "source": [
    "df = pd.concat([df, epiweek_encoded], axis=1)\n",
    "df.head()"
   ]
  },
  {
   "cell_type": "code",
   "execution_count": 36,
   "metadata": {},
   "outputs": [],
   "source": [
    "df['Main Pollutant'] = df['Main Pollutant'].astype('category')"
   ]
  },
  {
   "cell_type": "code",
   "execution_count": 37,
   "metadata": {},
   "outputs": [],
   "source": [
    "df = pd.get_dummies(df).drop(columns=[\"Main Pollutant_['Ozone' 'PM2.5']\"])"
   ]
  },
  {
   "cell_type": "code",
   "execution_count": 38,
   "metadata": {},
   "outputs": [],
   "source": [
    "df = df.astype({col: np.float32 for col in df.select_dtypes(\"number\").columns})"
   ]
  },
  {
   "cell_type": "code",
   "execution_count": 39,
   "metadata": {},
   "outputs": [],
   "source": [
    "df_train = df.loc[:end_train,:]\n",
    "df_val = df.loc[end_train:end_validation,:]\n",
    "df_test = df.loc[end_validation:,:]"
   ]
  },
  {
   "cell_type": "code",
   "execution_count": 40,
   "metadata": {},
   "outputs": [
    {
     "name": "stdout",
     "output_type": "stream",
     "text": [
      "Number of models compared: 40,\n",
      "         20 bayesian search in each lag configuration.\n"
     ]
    },
    {
     "name": "stderr",
     "output_type": "stream",
     "text": [
      "lags grid:   0%|          | 0/2 [00:00<?, ?it/s]"
     ]
    },
    {
     "name": "stderr",
     "output_type": "stream",
     "text": [
      "lags grid: 100%|██████████| 2/2 [01:47<00:00, 53.59s/it]\n"
     ]
    },
    {
     "name": "stdout",
     "output_type": "stream",
     "text": [
      "`Forecaster` refitted using the best-found lags and parameters, and the whole data set: \n",
      "  Lags: [1 2 3] \n",
      "  Parameters: {'n_estimators': 900, 'max_depth': 7, 'learning_rate': 0.01302331848344604, 'reg_alpha': 0.0, 'reg_lambda': 0.30000000000000004}\n",
      "  Backtesting metric: 259.54085045221086\n",
      "\n"
     ]
    }
   ],
   "source": [
    "# Hyperparameters search\n",
    "# ==============================================================================\n",
    "\n",
    "# Create forecaster with a transformer categorical features\n",
    "forecaster = ForecasterAutoreg(\n",
    "                regressor = LGBMRegressor(random_state=15926, verbose=-1),\n",
    "                lags      = 52,\n",
    "                fit_kwargs = {'categorical_feature':'auto'}\n",
    "            )\n",
    "\n",
    "# Lags grid\n",
    "lags_grid = [[1,2,3], [1,2,3,52]]\n",
    "\n",
    "# Regressor hyperparameters search space\n",
    "def search_space(trial):\n",
    "    search_space  = {\n",
    "        'n_estimators' : trial.suggest_int('n_estimators', 800, 1400, step=100),\n",
    "        'max_depth'    : trial.suggest_int('max_depth', 3, 8, step=1),\n",
    "        'learning_rate': trial.suggest_float('learning_rate', 0.01, 0.5),\n",
    "        'reg_alpha'    : trial.suggest_float('reg_alpha', 0, 1, step=0.1),\n",
    "        'reg_lambda'   : trial.suggest_float('reg_lambda', 0, 1, step=0.1),\n",
    "    } \n",
    "    return search_space\n",
    "\n",
    "results_search, frozen_trial = bayesian_search_forecaster(\n",
    "                                forecaster         = forecaster,\n",
    "                                y                  = df.loc[:end_validation, 'cases'],\n",
    "                                exog               = df.loc[:end_validation,].drop(columns=['cases']),\n",
    "                                search_space       = search_space,\n",
    "                                lags_grid          = lags_grid,\n",
    "                                steps              = 6,\n",
    "                                refit              = False,\n",
    "                                metric             = 'mean_absolute_error',\n",
    "                                initial_train_size = len(df_train),\n",
    "                                fixed_train_size   = False,\n",
    "                                n_trials           = 20,\n",
    "                                random_state       = 123,\n",
    "                                return_best        = True,\n",
    "                                n_jobs             = 'auto',\n",
    "                                verbose            = False,\n",
    "                                show_progress      = True\n",
    "                            )"
   ]
  },
  {
   "cell_type": "code",
   "execution_count": 41,
   "metadata": {},
   "outputs": [
    {
     "name": "stderr",
     "output_type": "stream",
     "text": [
      "100%|██████████| 18/18 [00:00<00:00, 30.50it/s]"
     ]
    },
    {
     "name": "stdout",
     "output_type": "stream",
     "text": [
      "Backtest error: 394.73\n"
     ]
    },
    {
     "name": "stderr",
     "output_type": "stream",
     "text": [
      "\n"
     ]
    }
   ],
   "source": [
    "# Backtesting model with exogenous variables on test data\n",
    "# ==============================================================================\n",
    "metric, predictions = backtesting_forecaster(\n",
    "                        forecaster         = forecaster,\n",
    "                        y                  = df['cases'],\n",
    "                        exog               = df.drop(columns=['cases']),\n",
    "                        steps              = 6,\n",
    "                        metric             = 'mean_absolute_error',\n",
    "                        initial_train_size = len(df[:end_validation]),\n",
    "                        refit              = False,\n",
    "                        n_jobs             = 'auto',\n",
    "                        verbose            = False,\n",
    "                        show_progress      = True\n",
    "                    )\n",
    "\n",
    "print(f\"Backtest error: {metric:.2f}\")"
   ]
  },
  {
   "cell_type": "code",
   "execution_count": 42,
   "metadata": {},
   "outputs": [
    {
     "data": {
      "application/vnd.plotly.v1+json": {
       "config": {
        "plotlyServerURL": "https://plot.ly"
       },
       "data": [
        {
         "hovertemplate": "variable=cases<br>weekstart=%{x}<br>value=%{y}<extra></extra>",
         "legendgroup": "cases",
         "line": {
          "color": "#636efa",
          "dash": "solid"
         },
         "marker": {
          "symbol": "circle"
         },
         "mode": "lines",
         "name": "cases",
         "orientation": "v",
         "showlegend": true,
         "type": "scatter",
         "x": [
          "2017-12-31T00:00:00",
          "2018-01-07T00:00:00",
          "2018-01-14T00:00:00",
          "2018-01-21T00:00:00",
          "2018-01-28T00:00:00",
          "2018-02-04T00:00:00",
          "2018-02-11T00:00:00",
          "2018-02-18T00:00:00",
          "2018-02-25T00:00:00",
          "2018-03-04T00:00:00",
          "2018-03-11T00:00:00",
          "2018-03-18T00:00:00",
          "2018-03-25T00:00:00",
          "2018-04-01T00:00:00",
          "2018-04-08T00:00:00",
          "2018-04-15T00:00:00",
          "2018-04-22T00:00:00",
          "2018-04-29T00:00:00",
          "2018-05-06T00:00:00",
          "2018-05-13T00:00:00",
          "2018-05-20T00:00:00",
          "2018-05-27T00:00:00",
          "2018-06-03T00:00:00",
          "2018-06-10T00:00:00",
          "2018-06-17T00:00:00",
          "2018-06-24T00:00:00",
          "2018-07-01T00:00:00",
          "2018-07-08T00:00:00",
          "2018-07-15T00:00:00",
          "2018-07-22T00:00:00",
          "2018-07-29T00:00:00",
          "2018-08-05T00:00:00",
          "2018-08-12T00:00:00",
          "2018-08-19T00:00:00",
          "2018-08-26T00:00:00",
          "2018-09-02T00:00:00",
          "2018-09-09T00:00:00",
          "2018-09-16T00:00:00",
          "2018-09-23T00:00:00",
          "2018-09-30T00:00:00",
          "2018-10-07T00:00:00",
          "2018-10-14T00:00:00",
          "2018-10-21T00:00:00",
          "2018-10-28T00:00:00",
          "2018-11-04T00:00:00",
          "2018-11-11T00:00:00",
          "2018-11-18T00:00:00",
          "2018-11-25T00:00:00",
          "2018-12-02T00:00:00",
          "2018-12-09T00:00:00",
          "2018-12-16T00:00:00",
          "2018-12-23T00:00:00",
          "2018-12-30T00:00:00",
          "2019-01-06T00:00:00",
          "2019-01-13T00:00:00",
          "2019-01-20T00:00:00",
          "2019-01-27T00:00:00",
          "2019-02-03T00:00:00",
          "2019-02-10T00:00:00",
          "2019-02-17T00:00:00",
          "2019-02-24T00:00:00",
          "2019-03-03T00:00:00",
          "2019-03-10T00:00:00",
          "2019-03-17T00:00:00",
          "2019-03-24T00:00:00",
          "2019-03-31T00:00:00",
          "2019-04-07T00:00:00",
          "2019-04-14T00:00:00",
          "2019-04-21T00:00:00",
          "2019-04-28T00:00:00",
          "2019-05-05T00:00:00",
          "2019-05-12T00:00:00",
          "2019-05-19T00:00:00",
          "2019-05-26T00:00:00",
          "2019-06-02T00:00:00",
          "2019-06-09T00:00:00",
          "2019-06-16T00:00:00",
          "2019-06-23T00:00:00",
          "2019-06-30T00:00:00",
          "2019-07-07T00:00:00",
          "2019-07-14T00:00:00",
          "2019-07-21T00:00:00",
          "2019-07-28T00:00:00",
          "2019-08-04T00:00:00",
          "2019-08-11T00:00:00",
          "2019-08-18T00:00:00",
          "2019-08-25T00:00:00",
          "2019-09-01T00:00:00",
          "2019-09-08T00:00:00",
          "2019-09-15T00:00:00",
          "2019-09-22T00:00:00",
          "2019-09-29T00:00:00",
          "2019-10-06T00:00:00",
          "2019-10-13T00:00:00",
          "2019-10-20T00:00:00",
          "2019-10-27T00:00:00",
          "2019-11-03T00:00:00",
          "2019-11-10T00:00:00",
          "2019-11-17T00:00:00",
          "2019-11-24T00:00:00",
          "2019-12-01T00:00:00",
          "2019-12-08T00:00:00",
          "2019-12-15T00:00:00",
          "2019-12-22T00:00:00",
          "2019-12-29T00:00:00"
         ],
         "xaxis": "x",
         "y": [
          330,
          1683,
          2395,
          3072,
          3805,
          2226,
          2448,
          1665,
          1551,
          1514,
          2176,
          1476,
          1049,
          16,
          913,
          854,
          829,
          857,
          932,
          745,
          573,
          388,
          206,
          12,
          15,
          30,
          2,
          1,
          21,
          21,
          20,
          11,
          1,
          71,
          265,
          541,
          861,
          863,
          883,
          943,
          952,
          987,
          1110,
          1070,
          986,
          984,
          495,
          930,
          1148,
          1260,
          1189,
          62,
          48,
          1039,
          917,
          819,
          34,
          234,
          746,
          809,
          1254,
          1393,
          1654,
          1994,
          1339,
          37,
          902,
          979,
          920,
          1109,
          1011,
          951,
          672,
          352,
          199,
          50,
          5,
          8,
          2,
          1,
          3,
          7,
          4,
          11,
          10,
          63,
          268,
          573,
          1083,
          976,
          1014,
          1011,
          1239,
          1119,
          994,
          1111,
          1458,
          1671,
          1466,
          638,
          1722,
          2121,
          1638,
          52,
          55
         ],
         "yaxis": "y"
        },
        {
         "hovertemplate": "variable=pred<br>weekstart=%{x}<br>value=%{y}<extra></extra>",
         "legendgroup": "pred",
         "line": {
          "color": "#EF553B",
          "dash": "solid"
         },
         "marker": {
          "symbol": "circle"
         },
         "mode": "lines",
         "name": "pred",
         "orientation": "v",
         "showlegend": true,
         "type": "scatter",
         "x": [
          "2017-12-31T00:00:00",
          "2018-01-07T00:00:00",
          "2018-01-14T00:00:00",
          "2018-01-21T00:00:00",
          "2018-01-28T00:00:00",
          "2018-02-04T00:00:00",
          "2018-02-11T00:00:00",
          "2018-02-18T00:00:00",
          "2018-02-25T00:00:00",
          "2018-03-04T00:00:00",
          "2018-03-11T00:00:00",
          "2018-03-18T00:00:00",
          "2018-03-25T00:00:00",
          "2018-04-01T00:00:00",
          "2018-04-08T00:00:00",
          "2018-04-15T00:00:00",
          "2018-04-22T00:00:00",
          "2018-04-29T00:00:00",
          "2018-05-06T00:00:00",
          "2018-05-13T00:00:00",
          "2018-05-20T00:00:00",
          "2018-05-27T00:00:00",
          "2018-06-03T00:00:00",
          "2018-06-10T00:00:00",
          "2018-06-17T00:00:00",
          "2018-06-24T00:00:00",
          "2018-07-01T00:00:00",
          "2018-07-08T00:00:00",
          "2018-07-15T00:00:00",
          "2018-07-22T00:00:00",
          "2018-07-29T00:00:00",
          "2018-08-05T00:00:00",
          "2018-08-12T00:00:00",
          "2018-08-19T00:00:00",
          "2018-08-26T00:00:00",
          "2018-09-02T00:00:00",
          "2018-09-09T00:00:00",
          "2018-09-16T00:00:00",
          "2018-09-23T00:00:00",
          "2018-09-30T00:00:00",
          "2018-10-07T00:00:00",
          "2018-10-14T00:00:00",
          "2018-10-21T00:00:00",
          "2018-10-28T00:00:00",
          "2018-11-04T00:00:00",
          "2018-11-11T00:00:00",
          "2018-11-18T00:00:00",
          "2018-11-25T00:00:00",
          "2018-12-02T00:00:00",
          "2018-12-09T00:00:00",
          "2018-12-16T00:00:00",
          "2018-12-23T00:00:00",
          "2018-12-30T00:00:00",
          "2019-01-06T00:00:00",
          "2019-01-13T00:00:00",
          "2019-01-20T00:00:00",
          "2019-01-27T00:00:00",
          "2019-02-03T00:00:00",
          "2019-02-10T00:00:00",
          "2019-02-17T00:00:00",
          "2019-02-24T00:00:00",
          "2019-03-03T00:00:00",
          "2019-03-10T00:00:00",
          "2019-03-17T00:00:00",
          "2019-03-24T00:00:00",
          "2019-03-31T00:00:00",
          "2019-04-07T00:00:00",
          "2019-04-14T00:00:00",
          "2019-04-21T00:00:00",
          "2019-04-28T00:00:00",
          "2019-05-05T00:00:00",
          "2019-05-12T00:00:00",
          "2019-05-19T00:00:00",
          "2019-05-26T00:00:00",
          "2019-06-02T00:00:00",
          "2019-06-09T00:00:00",
          "2019-06-16T00:00:00",
          "2019-06-23T00:00:00",
          "2019-06-30T00:00:00",
          "2019-07-07T00:00:00",
          "2019-07-14T00:00:00",
          "2019-07-21T00:00:00",
          "2019-07-28T00:00:00",
          "2019-08-04T00:00:00",
          "2019-08-11T00:00:00",
          "2019-08-18T00:00:00",
          "2019-08-25T00:00:00",
          "2019-09-01T00:00:00",
          "2019-09-08T00:00:00",
          "2019-09-15T00:00:00",
          "2019-09-22T00:00:00",
          "2019-09-29T00:00:00",
          "2019-10-06T00:00:00",
          "2019-10-13T00:00:00",
          "2019-10-20T00:00:00",
          "2019-10-27T00:00:00",
          "2019-11-03T00:00:00",
          "2019-11-10T00:00:00",
          "2019-11-17T00:00:00",
          "2019-11-24T00:00:00",
          "2019-12-01T00:00:00",
          "2019-12-08T00:00:00",
          "2019-12-15T00:00:00",
          "2019-12-22T00:00:00",
          "2019-12-29T00:00:00"
         ],
         "xaxis": "x",
         "y": [
          null,
          1303.8523586202266,
          2110.3546211680036,
          3499.8932765918803,
          3678.6274537687013,
          3717.1616636843382,
          2728.252773619677,
          2250.6387808410636,
          2861.965320611131,
          2247.317607668073,
          2273.3026553211535,
          1880.8295436132983,
          1300.3151791957691,
          654.248967789763,
          632.7083131824697,
          912.9242077344715,
          885.9376530516803,
          982.9837283404033,
          837.1239206243375,
          692.5467609727332,
          553.5651576083758,
          320.81136775791447,
          192.95444936924198,
          73.04672884831098,
          6.126440305444883,
          9.361749822610658,
          -0.9967794379944207,
          9.424012042718118,
          61.81384989248786,
          49.052438997063916,
          52.5944035157415,
          28.538758300567302,
          71.79460014861128,
          88.73104417861683,
          182.34501740396323,
          174.53823296067404,
          455.0071220727814,
          829.4762957509024,
          942.4871221929063,
          1239.2178950009038,
          908.3015531359987,
          1105.4747071507472,
          1136.9177614171658,
          1270.1890664253458,
          1401.7575687734577,
          1459.2019537814767,
          1355.0430336186878,
          1633.4576874386917,
          1479.6651603930247,
          1395.7847689973564,
          1069.4998778922256,
          641.2742418918036,
          1243.443482497782,
          1525.7624396401104,
          1837.1262246606013,
          1609.2669060446863,
          1372.5906953861781,
          1612.745259444243,
          1459.8375312292305,
          1899.8023955083756,
          1883.495917283595,
          1176.3509800306117,
          1158.4243981245586,
          1321.846100904008,
          1265.6619074689988,
          1060.0952668301352,
          285.3539805376985,
          1007.5028537582963,
          1160.9878263349842,
          1291.6302520834586,
          973.6820351839938,
          1230.1413180950383,
          739.2637991659606,
          693.9438346488906,
          808.0835879360783,
          625.1487100475423,
          425.6521410197078,
          238.76681112957132,
          99.5809821898265,
          11.91990207950686,
          27.928075540700267,
          -45.8586685461573,
          31.417597826569814,
          40.856029189393034,
          73.25824586843616,
          23.934231882488373,
          75.71589506887855,
          217.94670194280192,
          412.1092512394021,
          496.25598988599006,
          688.7788381515438,
          1208.847135773585,
          809.2999670078714,
          1562.1473956435457,
          2140.002132146412,
          2640.4581982896007,
          2929.109833887005,
          1565.7053965052733,
          2185.53645213287,
          2224.0253615400443,
          2321.1842692995974,
          1939.8290273730975,
          2296.4706080942906,
          481.37633318824163,
          1242.449888016658
         ],
         "yaxis": "y"
        }
       ],
       "layout": {
        "legend": {
         "title": {
          "text": "variable"
         },
         "tracegroupgap": 0
        },
        "margin": {
         "t": 60
        },
        "template": {
         "data": {
          "bar": [
           {
            "error_x": {
             "color": "#2a3f5f"
            },
            "error_y": {
             "color": "#2a3f5f"
            },
            "marker": {
             "line": {
              "color": "#E5ECF6",
              "width": 0.5
             },
             "pattern": {
              "fillmode": "overlay",
              "size": 10,
              "solidity": 0.2
             }
            },
            "type": "bar"
           }
          ],
          "barpolar": [
           {
            "marker": {
             "line": {
              "color": "#E5ECF6",
              "width": 0.5
             },
             "pattern": {
              "fillmode": "overlay",
              "size": 10,
              "solidity": 0.2
             }
            },
            "type": "barpolar"
           }
          ],
          "carpet": [
           {
            "aaxis": {
             "endlinecolor": "#2a3f5f",
             "gridcolor": "white",
             "linecolor": "white",
             "minorgridcolor": "white",
             "startlinecolor": "#2a3f5f"
            },
            "baxis": {
             "endlinecolor": "#2a3f5f",
             "gridcolor": "white",
             "linecolor": "white",
             "minorgridcolor": "white",
             "startlinecolor": "#2a3f5f"
            },
            "type": "carpet"
           }
          ],
          "choropleth": [
           {
            "colorbar": {
             "outlinewidth": 0,
             "ticks": ""
            },
            "type": "choropleth"
           }
          ],
          "contour": [
           {
            "colorbar": {
             "outlinewidth": 0,
             "ticks": ""
            },
            "colorscale": [
             [
              0,
              "#0d0887"
             ],
             [
              0.1111111111111111,
              "#46039f"
             ],
             [
              0.2222222222222222,
              "#7201a8"
             ],
             [
              0.3333333333333333,
              "#9c179e"
             ],
             [
              0.4444444444444444,
              "#bd3786"
             ],
             [
              0.5555555555555556,
              "#d8576b"
             ],
             [
              0.6666666666666666,
              "#ed7953"
             ],
             [
              0.7777777777777778,
              "#fb9f3a"
             ],
             [
              0.8888888888888888,
              "#fdca26"
             ],
             [
              1,
              "#f0f921"
             ]
            ],
            "type": "contour"
           }
          ],
          "contourcarpet": [
           {
            "colorbar": {
             "outlinewidth": 0,
             "ticks": ""
            },
            "type": "contourcarpet"
           }
          ],
          "heatmap": [
           {
            "colorbar": {
             "outlinewidth": 0,
             "ticks": ""
            },
            "colorscale": [
             [
              0,
              "#0d0887"
             ],
             [
              0.1111111111111111,
              "#46039f"
             ],
             [
              0.2222222222222222,
              "#7201a8"
             ],
             [
              0.3333333333333333,
              "#9c179e"
             ],
             [
              0.4444444444444444,
              "#bd3786"
             ],
             [
              0.5555555555555556,
              "#d8576b"
             ],
             [
              0.6666666666666666,
              "#ed7953"
             ],
             [
              0.7777777777777778,
              "#fb9f3a"
             ],
             [
              0.8888888888888888,
              "#fdca26"
             ],
             [
              1,
              "#f0f921"
             ]
            ],
            "type": "heatmap"
           }
          ],
          "heatmapgl": [
           {
            "colorbar": {
             "outlinewidth": 0,
             "ticks": ""
            },
            "colorscale": [
             [
              0,
              "#0d0887"
             ],
             [
              0.1111111111111111,
              "#46039f"
             ],
             [
              0.2222222222222222,
              "#7201a8"
             ],
             [
              0.3333333333333333,
              "#9c179e"
             ],
             [
              0.4444444444444444,
              "#bd3786"
             ],
             [
              0.5555555555555556,
              "#d8576b"
             ],
             [
              0.6666666666666666,
              "#ed7953"
             ],
             [
              0.7777777777777778,
              "#fb9f3a"
             ],
             [
              0.8888888888888888,
              "#fdca26"
             ],
             [
              1,
              "#f0f921"
             ]
            ],
            "type": "heatmapgl"
           }
          ],
          "histogram": [
           {
            "marker": {
             "pattern": {
              "fillmode": "overlay",
              "size": 10,
              "solidity": 0.2
             }
            },
            "type": "histogram"
           }
          ],
          "histogram2d": [
           {
            "colorbar": {
             "outlinewidth": 0,
             "ticks": ""
            },
            "colorscale": [
             [
              0,
              "#0d0887"
             ],
             [
              0.1111111111111111,
              "#46039f"
             ],
             [
              0.2222222222222222,
              "#7201a8"
             ],
             [
              0.3333333333333333,
              "#9c179e"
             ],
             [
              0.4444444444444444,
              "#bd3786"
             ],
             [
              0.5555555555555556,
              "#d8576b"
             ],
             [
              0.6666666666666666,
              "#ed7953"
             ],
             [
              0.7777777777777778,
              "#fb9f3a"
             ],
             [
              0.8888888888888888,
              "#fdca26"
             ],
             [
              1,
              "#f0f921"
             ]
            ],
            "type": "histogram2d"
           }
          ],
          "histogram2dcontour": [
           {
            "colorbar": {
             "outlinewidth": 0,
             "ticks": ""
            },
            "colorscale": [
             [
              0,
              "#0d0887"
             ],
             [
              0.1111111111111111,
              "#46039f"
             ],
             [
              0.2222222222222222,
              "#7201a8"
             ],
             [
              0.3333333333333333,
              "#9c179e"
             ],
             [
              0.4444444444444444,
              "#bd3786"
             ],
             [
              0.5555555555555556,
              "#d8576b"
             ],
             [
              0.6666666666666666,
              "#ed7953"
             ],
             [
              0.7777777777777778,
              "#fb9f3a"
             ],
             [
              0.8888888888888888,
              "#fdca26"
             ],
             [
              1,
              "#f0f921"
             ]
            ],
            "type": "histogram2dcontour"
           }
          ],
          "mesh3d": [
           {
            "colorbar": {
             "outlinewidth": 0,
             "ticks": ""
            },
            "type": "mesh3d"
           }
          ],
          "parcoords": [
           {
            "line": {
             "colorbar": {
              "outlinewidth": 0,
              "ticks": ""
             }
            },
            "type": "parcoords"
           }
          ],
          "pie": [
           {
            "automargin": true,
            "type": "pie"
           }
          ],
          "scatter": [
           {
            "marker": {
             "colorbar": {
              "outlinewidth": 0,
              "ticks": ""
             }
            },
            "type": "scatter"
           }
          ],
          "scatter3d": [
           {
            "line": {
             "colorbar": {
              "outlinewidth": 0,
              "ticks": ""
             }
            },
            "marker": {
             "colorbar": {
              "outlinewidth": 0,
              "ticks": ""
             }
            },
            "type": "scatter3d"
           }
          ],
          "scattercarpet": [
           {
            "marker": {
             "colorbar": {
              "outlinewidth": 0,
              "ticks": ""
             }
            },
            "type": "scattercarpet"
           }
          ],
          "scattergeo": [
           {
            "marker": {
             "colorbar": {
              "outlinewidth": 0,
              "ticks": ""
             }
            },
            "type": "scattergeo"
           }
          ],
          "scattergl": [
           {
            "marker": {
             "colorbar": {
              "outlinewidth": 0,
              "ticks": ""
             }
            },
            "type": "scattergl"
           }
          ],
          "scattermapbox": [
           {
            "marker": {
             "colorbar": {
              "outlinewidth": 0,
              "ticks": ""
             }
            },
            "type": "scattermapbox"
           }
          ],
          "scatterpolar": [
           {
            "marker": {
             "colorbar": {
              "outlinewidth": 0,
              "ticks": ""
             }
            },
            "type": "scatterpolar"
           }
          ],
          "scatterpolargl": [
           {
            "marker": {
             "colorbar": {
              "outlinewidth": 0,
              "ticks": ""
             }
            },
            "type": "scatterpolargl"
           }
          ],
          "scatterternary": [
           {
            "marker": {
             "colorbar": {
              "outlinewidth": 0,
              "ticks": ""
             }
            },
            "type": "scatterternary"
           }
          ],
          "surface": [
           {
            "colorbar": {
             "outlinewidth": 0,
             "ticks": ""
            },
            "colorscale": [
             [
              0,
              "#0d0887"
             ],
             [
              0.1111111111111111,
              "#46039f"
             ],
             [
              0.2222222222222222,
              "#7201a8"
             ],
             [
              0.3333333333333333,
              "#9c179e"
             ],
             [
              0.4444444444444444,
              "#bd3786"
             ],
             [
              0.5555555555555556,
              "#d8576b"
             ],
             [
              0.6666666666666666,
              "#ed7953"
             ],
             [
              0.7777777777777778,
              "#fb9f3a"
             ],
             [
              0.8888888888888888,
              "#fdca26"
             ],
             [
              1,
              "#f0f921"
             ]
            ],
            "type": "surface"
           }
          ],
          "table": [
           {
            "cells": {
             "fill": {
              "color": "#EBF0F8"
             },
             "line": {
              "color": "white"
             }
            },
            "header": {
             "fill": {
              "color": "#C8D4E3"
             },
             "line": {
              "color": "white"
             }
            },
            "type": "table"
           }
          ]
         },
         "layout": {
          "annotationdefaults": {
           "arrowcolor": "#2a3f5f",
           "arrowhead": 0,
           "arrowwidth": 1
          },
          "autotypenumbers": "strict",
          "coloraxis": {
           "colorbar": {
            "outlinewidth": 0,
            "ticks": ""
           }
          },
          "colorscale": {
           "diverging": [
            [
             0,
             "#8e0152"
            ],
            [
             0.1,
             "#c51b7d"
            ],
            [
             0.2,
             "#de77ae"
            ],
            [
             0.3,
             "#f1b6da"
            ],
            [
             0.4,
             "#fde0ef"
            ],
            [
             0.5,
             "#f7f7f7"
            ],
            [
             0.6,
             "#e6f5d0"
            ],
            [
             0.7,
             "#b8e186"
            ],
            [
             0.8,
             "#7fbc41"
            ],
            [
             0.9,
             "#4d9221"
            ],
            [
             1,
             "#276419"
            ]
           ],
           "sequential": [
            [
             0,
             "#0d0887"
            ],
            [
             0.1111111111111111,
             "#46039f"
            ],
            [
             0.2222222222222222,
             "#7201a8"
            ],
            [
             0.3333333333333333,
             "#9c179e"
            ],
            [
             0.4444444444444444,
             "#bd3786"
            ],
            [
             0.5555555555555556,
             "#d8576b"
            ],
            [
             0.6666666666666666,
             "#ed7953"
            ],
            [
             0.7777777777777778,
             "#fb9f3a"
            ],
            [
             0.8888888888888888,
             "#fdca26"
            ],
            [
             1,
             "#f0f921"
            ]
           ],
           "sequentialminus": [
            [
             0,
             "#0d0887"
            ],
            [
             0.1111111111111111,
             "#46039f"
            ],
            [
             0.2222222222222222,
             "#7201a8"
            ],
            [
             0.3333333333333333,
             "#9c179e"
            ],
            [
             0.4444444444444444,
             "#bd3786"
            ],
            [
             0.5555555555555556,
             "#d8576b"
            ],
            [
             0.6666666666666666,
             "#ed7953"
            ],
            [
             0.7777777777777778,
             "#fb9f3a"
            ],
            [
             0.8888888888888888,
             "#fdca26"
            ],
            [
             1,
             "#f0f921"
            ]
           ]
          },
          "colorway": [
           "#636efa",
           "#EF553B",
           "#00cc96",
           "#ab63fa",
           "#FFA15A",
           "#19d3f3",
           "#FF6692",
           "#B6E880",
           "#FF97FF",
           "#FECB52"
          ],
          "font": {
           "color": "#2a3f5f"
          },
          "geo": {
           "bgcolor": "white",
           "lakecolor": "white",
           "landcolor": "#E5ECF6",
           "showlakes": true,
           "showland": true,
           "subunitcolor": "white"
          },
          "hoverlabel": {
           "align": "left"
          },
          "hovermode": "closest",
          "mapbox": {
           "style": "light"
          },
          "paper_bgcolor": "white",
          "plot_bgcolor": "#E5ECF6",
          "polar": {
           "angularaxis": {
            "gridcolor": "white",
            "linecolor": "white",
            "ticks": ""
           },
           "bgcolor": "#E5ECF6",
           "radialaxis": {
            "gridcolor": "white",
            "linecolor": "white",
            "ticks": ""
           }
          },
          "scene": {
           "xaxis": {
            "backgroundcolor": "#E5ECF6",
            "gridcolor": "white",
            "gridwidth": 2,
            "linecolor": "white",
            "showbackground": true,
            "ticks": "",
            "zerolinecolor": "white"
           },
           "yaxis": {
            "backgroundcolor": "#E5ECF6",
            "gridcolor": "white",
            "gridwidth": 2,
            "linecolor": "white",
            "showbackground": true,
            "ticks": "",
            "zerolinecolor": "white"
           },
           "zaxis": {
            "backgroundcolor": "#E5ECF6",
            "gridcolor": "white",
            "gridwidth": 2,
            "linecolor": "white",
            "showbackground": true,
            "ticks": "",
            "zerolinecolor": "white"
           }
          },
          "shapedefaults": {
           "line": {
            "color": "#2a3f5f"
           }
          },
          "ternary": {
           "aaxis": {
            "gridcolor": "white",
            "linecolor": "white",
            "ticks": ""
           },
           "baxis": {
            "gridcolor": "white",
            "linecolor": "white",
            "ticks": ""
           },
           "bgcolor": "#E5ECF6",
           "caxis": {
            "gridcolor": "white",
            "linecolor": "white",
            "ticks": ""
           }
          },
          "title": {
           "x": 0.05
          },
          "xaxis": {
           "automargin": true,
           "gridcolor": "white",
           "linecolor": "white",
           "ticks": "",
           "title": {
            "standoff": 15
           },
           "zerolinecolor": "white",
           "zerolinewidth": 2
          },
          "yaxis": {
           "automargin": true,
           "gridcolor": "white",
           "linecolor": "white",
           "ticks": "",
           "title": {
            "standoff": 15
           },
           "zerolinecolor": "white",
           "zerolinewidth": 2
          }
         }
        },
        "xaxis": {
         "anchor": "y",
         "domain": [
          0,
          1
         ],
         "title": {
          "text": "weekstart"
         }
        },
        "yaxis": {
         "anchor": "x",
         "domain": [
          0,
          1
         ],
         "title": {
          "text": "value"
         }
        }
       }
      }
     },
     "metadata": {},
     "output_type": "display_data"
    }
   ],
   "source": [
    "px.line(df_test[['cases']].join(predictions).melt(ignore_index=False), y='value', color='variable')"
   ]
  },
  {
   "cell_type": "code",
   "execution_count": 43,
   "metadata": {},
   "outputs": [
    {
     "data": {
      "text/html": [
       "<div>\n",
       "<style scoped>\n",
       "    .dataframe tbody tr th:only-of-type {\n",
       "        vertical-align: middle;\n",
       "    }\n",
       "\n",
       "    .dataframe tbody tr th {\n",
       "        vertical-align: top;\n",
       "    }\n",
       "\n",
       "    .dataframe thead th {\n",
       "        text-align: right;\n",
       "    }\n",
       "</style>\n",
       "<table border=\"1\" class=\"dataframe\">\n",
       "  <thead>\n",
       "    <tr style=\"text-align: right;\">\n",
       "      <th></th>\n",
       "      <th>feature</th>\n",
       "      <th>importance</th>\n",
       "    </tr>\n",
       "  </thead>\n",
       "  <tbody>\n",
       "    <tr>\n",
       "      <th>0</th>\n",
       "      <td>lag_1</td>\n",
       "      <td>1092</td>\n",
       "    </tr>\n",
       "    <tr>\n",
       "      <th>7</th>\n",
       "      <td>GS_flu</td>\n",
       "      <td>1006</td>\n",
       "    </tr>\n",
       "    <tr>\n",
       "      <th>22</th>\n",
       "      <td>visits</td>\n",
       "      <td>658</td>\n",
       "    </tr>\n",
       "    <tr>\n",
       "      <th>1</th>\n",
       "      <td>lag_2</td>\n",
       "      <td>646</td>\n",
       "    </tr>\n",
       "    <tr>\n",
       "      <th>3</th>\n",
       "      <td>epiweek</td>\n",
       "      <td>629</td>\n",
       "    </tr>\n",
       "    <tr>\n",
       "      <th>2</th>\n",
       "      <td>lag_3</td>\n",
       "      <td>616</td>\n",
       "    </tr>\n",
       "    <tr>\n",
       "      <th>14</th>\n",
       "      <td>Overall AQI Value</td>\n",
       "      <td>528</td>\n",
       "    </tr>\n",
       "    <tr>\n",
       "      <th>16</th>\n",
       "      <td>Ozone</td>\n",
       "      <td>345</td>\n",
       "    </tr>\n",
       "    <tr>\n",
       "      <th>35</th>\n",
       "      <td>epiweek_cos</td>\n",
       "      <td>331</td>\n",
       "    </tr>\n",
       "    <tr>\n",
       "      <th>6</th>\n",
       "      <td>GS_fever</td>\n",
       "      <td>326</td>\n",
       "    </tr>\n",
       "    <tr>\n",
       "      <th>5</th>\n",
       "      <td>GS_cough</td>\n",
       "      <td>308</td>\n",
       "    </tr>\n",
       "    <tr>\n",
       "      <th>12</th>\n",
       "      <td>TMAX</td>\n",
       "      <td>301</td>\n",
       "    </tr>\n",
       "    <tr>\n",
       "      <th>18</th>\n",
       "      <td>PM25</td>\n",
       "      <td>270</td>\n",
       "    </tr>\n",
       "    <tr>\n",
       "      <th>17</th>\n",
       "      <td>PM10</td>\n",
       "      <td>262</td>\n",
       "    </tr>\n",
       "    <tr>\n",
       "      <th>8</th>\n",
       "      <td>AWND</td>\n",
       "      <td>260</td>\n",
       "    </tr>\n",
       "    <tr>\n",
       "      <th>33</th>\n",
       "      <td>TMIN_L2</td>\n",
       "      <td>243</td>\n",
       "    </tr>\n",
       "    <tr>\n",
       "      <th>34</th>\n",
       "      <td>epiweek_sin</td>\n",
       "      <td>242</td>\n",
       "    </tr>\n",
       "    <tr>\n",
       "      <th>24</th>\n",
       "      <td>GS_cold_L2</td>\n",
       "      <td>238</td>\n",
       "    </tr>\n",
       "    <tr>\n",
       "      <th>31</th>\n",
       "      <td>TMAX_L2</td>\n",
       "      <td>235</td>\n",
       "    </tr>\n",
       "    <tr>\n",
       "      <th>11</th>\n",
       "      <td>TAVG</td>\n",
       "      <td>233</td>\n",
       "    </tr>\n",
       "    <tr>\n",
       "      <th>13</th>\n",
       "      <td>TMIN</td>\n",
       "      <td>220</td>\n",
       "    </tr>\n",
       "    <tr>\n",
       "      <th>15</th>\n",
       "      <td>CO</td>\n",
       "      <td>206</td>\n",
       "    </tr>\n",
       "    <tr>\n",
       "      <th>32</th>\n",
       "      <td>TMIN_L1</td>\n",
       "      <td>205</td>\n",
       "    </tr>\n",
       "    <tr>\n",
       "      <th>26</th>\n",
       "      <td>GS_fever_L2</td>\n",
       "      <td>196</td>\n",
       "    </tr>\n",
       "    <tr>\n",
       "      <th>23</th>\n",
       "      <td>GS_cold_L1</td>\n",
       "      <td>196</td>\n",
       "    </tr>\n",
       "    <tr>\n",
       "      <th>29</th>\n",
       "      <td>TAVG_L2</td>\n",
       "      <td>170</td>\n",
       "    </tr>\n",
       "    <tr>\n",
       "      <th>9</th>\n",
       "      <td>PRCP</td>\n",
       "      <td>166</td>\n",
       "    </tr>\n",
       "    <tr>\n",
       "      <th>27</th>\n",
       "      <td>AWND_L1</td>\n",
       "      <td>166</td>\n",
       "    </tr>\n",
       "    <tr>\n",
       "      <th>30</th>\n",
       "      <td>TMAX_L1</td>\n",
       "      <td>162</td>\n",
       "    </tr>\n",
       "    <tr>\n",
       "      <th>4</th>\n",
       "      <td>GS_cold</td>\n",
       "      <td>152</td>\n",
       "    </tr>\n",
       "    <tr>\n",
       "      <th>25</th>\n",
       "      <td>GS_fever_L1</td>\n",
       "      <td>152</td>\n",
       "    </tr>\n",
       "    <tr>\n",
       "      <th>28</th>\n",
       "      <td>TAVG_L1</td>\n",
       "      <td>135</td>\n",
       "    </tr>\n",
       "    <tr>\n",
       "      <th>20</th>\n",
       "      <td>Days Moderate</td>\n",
       "      <td>69</td>\n",
       "    </tr>\n",
       "    <tr>\n",
       "      <th>19</th>\n",
       "      <td>Days Good</td>\n",
       "      <td>62</td>\n",
       "    </tr>\n",
       "    <tr>\n",
       "      <th>10</th>\n",
       "      <td>SNOW</td>\n",
       "      <td>46</td>\n",
       "    </tr>\n",
       "    <tr>\n",
       "      <th>39</th>\n",
       "      <td>Main Pollutant_PM2.5</td>\n",
       "      <td>27</td>\n",
       "    </tr>\n",
       "    <tr>\n",
       "      <th>38</th>\n",
       "      <td>Main Pollutant_Ozone</td>\n",
       "      <td>16</td>\n",
       "    </tr>\n",
       "    <tr>\n",
       "      <th>21</th>\n",
       "      <td>Days Unhealthy</td>\n",
       "      <td>0</td>\n",
       "    </tr>\n",
       "    <tr>\n",
       "      <th>36</th>\n",
       "      <td>Main Pollutant_CO</td>\n",
       "      <td>0</td>\n",
       "    </tr>\n",
       "    <tr>\n",
       "      <th>37</th>\n",
       "      <td>Main Pollutant_NO2</td>\n",
       "      <td>0</td>\n",
       "    </tr>\n",
       "  </tbody>\n",
       "</table>\n",
       "</div>"
      ],
      "text/plain": [
       "                 feature  importance\n",
       "0                  lag_1        1092\n",
       "7                 GS_flu        1006\n",
       "22                visits         658\n",
       "1                  lag_2         646\n",
       "3                epiweek         629\n",
       "2                  lag_3         616\n",
       "14     Overall AQI Value         528\n",
       "16                 Ozone         345\n",
       "35           epiweek_cos         331\n",
       "6               GS_fever         326\n",
       "5               GS_cough         308\n",
       "12                  TMAX         301\n",
       "18                  PM25         270\n",
       "17                  PM10         262\n",
       "8                   AWND         260\n",
       "33               TMIN_L2         243\n",
       "34           epiweek_sin         242\n",
       "24            GS_cold_L2         238\n",
       "31               TMAX_L2         235\n",
       "11                  TAVG         233\n",
       "13                  TMIN         220\n",
       "15                    CO         206\n",
       "32               TMIN_L1         205\n",
       "26           GS_fever_L2         196\n",
       "23            GS_cold_L1         196\n",
       "29               TAVG_L2         170\n",
       "9                   PRCP         166\n",
       "27               AWND_L1         166\n",
       "30               TMAX_L1         162\n",
       "4                GS_cold         152\n",
       "25           GS_fever_L1         152\n",
       "28               TAVG_L1         135\n",
       "20         Days Moderate          69\n",
       "19             Days Good          62\n",
       "10                  SNOW          46\n",
       "39  Main Pollutant_PM2.5          27\n",
       "38  Main Pollutant_Ozone          16\n",
       "21        Days Unhealthy           0\n",
       "36     Main Pollutant_CO           0\n",
       "37    Main Pollutant_NO2           0"
      ]
     },
     "execution_count": 43,
     "metadata": {},
     "output_type": "execute_result"
    }
   ],
   "source": [
    "forecaster.get_feature_importances().sort_values(by='importance', ascending=False)"
   ]
  },
  {
   "cell_type": "markdown",
   "metadata": {},
   "source": [
    "---"
   ]
  },
  {
   "cell_type": "code",
   "execution_count": 44,
   "metadata": {},
   "outputs": [],
   "source": [
    "# Underlying matrices used by the forecaster to fit the internal regressor\n",
    "# ==============================================================================\n",
    "X_train, y_train = forecaster.create_train_X_y(\n",
    "                    y    = df_train['cases'],\n",
    "                    exog = df_train.drop(columns=['cases'])\n",
    "                )"
   ]
  },
  {
   "cell_type": "code",
   "execution_count": 45,
   "metadata": {},
   "outputs": [
    {
     "name": "stdout",
     "output_type": "stream",
     "text": [
      "Recursive feature elimination\n",
      "-----------------------------\n",
      "Total number of features available: 40\n",
      "Total number of records available: 570\n",
      "Total number of records used for feature selection: 285\n",
      "Number of features selected: 25\n",
      "Selected features : \n",
      " ['lag_1' 'lag_2' 'lag_3' 'epiweek' 'GS_cold' 'GS_fever' 'GS_flu' 'AWND'\n",
      " 'TAVG' 'TMIN' 'Overall AQI Value' 'Ozone' 'PM10' 'PM25' 'visits'\n",
      " 'GS_cold_L1' 'GS_cold_L2' 'GS_fever_L1' 'GS_fever_L2' 'AWND_L1' 'TMAX_L2'\n",
      " 'TMIN_L1' 'TMIN_L2' 'epiweek_sin' 'epiweek_cos']\n"
     ]
    }
   ],
   "source": [
    "# Recursive feature elimination with cross-validation\n",
    "# ==============================================================================\n",
    "# Sample 50% of the data to speed up the calculation\n",
    "rng = np.random.default_rng(seed=785412)\n",
    "sample = rng.choice(X_train.index, size=int(len(X_train)*0.5), replace=False)\n",
    "X_train_sample = X_train.loc[sample, :]\n",
    "y_train_sample = y_train.loc[sample]\n",
    "\n",
    "regressor = LGBMRegressor(\n",
    "                n_estimators = 100,\n",
    "                max_depth    = 5,\n",
    "                random_state = 15926,\n",
    "                verbose      = -1\n",
    "            )\n",
    "\n",
    "selector = RFECV(\n",
    "    estimator              = regressor,\n",
    "    step                   = 1,\n",
    "    cv                     = 3,\n",
    "    min_features_to_select = 25,\n",
    "    n_jobs                 = -1\n",
    ")\n",
    "selector.fit(X_train_sample, y_train_sample)\n",
    "selected_features_rfe = selector.get_feature_names_out()\n",
    "\n",
    "print(\"Recursive feature elimination\")\n",
    "print(\"-----------------------------\")\n",
    "print(f\"Total number of features available: {X_train.shape[1]}\") \n",
    "print(f\"Total number of records available: {X_train.shape[0]}\")\n",
    "print(f\"Total number of records used for feature selection: {X_train_sample.shape[0]}\")\n",
    "print(f\"Number of features selected: {len(selected_features_rfe)}\")\n",
    "print(f\"Selected features : \\n {selected_features_rfe}\")"
   ]
  },
  {
   "cell_type": "code",
   "execution_count": 46,
   "metadata": {},
   "outputs": [
    {
     "name": "stderr",
     "output_type": "stream",
     "text": [
      "100%|██████████| 18/18 [00:00<00:00, 20.44it/s]\n"
     ]
    },
    {
     "name": "stdout",
     "output_type": "stream",
     "text": [
      "Backtest error: 414.62\n"
     ]
    }
   ],
   "source": [
    "# Create forecaster with the selected features\n",
    "# ==============================================================================\n",
    "params = {\n",
    "    'n_estimators': 900, \n",
    "    'max_depth': 7, \n",
    "    'learning_rate': 0.022655,\n",
    "    'reg_alpha': 0.8, \n",
    "    'reg_lambda': 0.2,\n",
    "    'random_state': 15926,\n",
    "    'verbose': -1\n",
    "}\n",
    "\n",
    "selected_lags = [\n",
    "    int(feature.replace(\"lag_\", \"\"))\n",
    "    for feature in selected_features_rfe\n",
    "    if feature.startswith(\"lag_\")\n",
    "]\n",
    "selected_exog_features = [\n",
    "    feature\n",
    "    for feature in selected_features_rfe\n",
    "    if not feature.startswith(\"lag_\")\n",
    "]\n",
    "\n",
    "forecaster = ForecasterAutoreg(\n",
    "                regressor        = LGBMRegressor(**params),\n",
    "                lags             = selected_lags\n",
    "            )\n",
    "\n",
    "forecaster.fit(y=df_train['cases'], exog=df_train.drop(columns=['cases']))\n",
    "\n",
    "# Backtesting model with exogenous variables on test data\n",
    "# ==============================================================================\n",
    "metric_lgbm, predictions = backtesting_forecaster(\n",
    "                            forecaster         = forecaster,\n",
    "                            y                  = df['cases'],\n",
    "                            exog               = df.drop(columns=['cases']),\n",
    "                            steps              = 6,\n",
    "                            metric             = 'mean_absolute_error',\n",
    "                            initial_train_size = len(df[:end_validation]),\n",
    "                            refit              = False,\n",
    "                            n_jobs             = 'auto',\n",
    "                            verbose            = False,\n",
    "                            show_progress      = True\n",
    "                        )\n",
    "\n",
    "print(f\"Backtest error: {metric_lgbm:.2f}\")"
   ]
  },
  {
   "cell_type": "code",
   "execution_count": 52,
   "metadata": {},
   "outputs": [
    {
     "data": {
      "text/plain": [
       "================= \n",
       "ForecasterAutoreg \n",
       "================= \n",
       "Regressor: RandomForestRegressor(random_state=123) \n",
       "Lags: [ 1  2  3  4  5  6  7  8  9 10 11 12 13 14 15 16 17 18 19 20 21 22 23 24\n",
       " 25 26 27 28 29 30 31 32 33 34 35 36 37 38 39 40 41 42 43 44 45 46 47 48\n",
       " 49 50 51 52] \n",
       "Transformer for y: None \n",
       "Transformer for exog: None \n",
       "Window size: 52 \n",
       "Weight function included: False \n",
       "Differentiation order: None \n",
       "Exogenous included: False \n",
       "Type of exogenous variable: None \n",
       "Exogenous variables names: None \n",
       "Training range: [Timestamp('2005-01-09 00:00:00'), Timestamp('2015-12-27 00:00:00')] \n",
       "Training index type: DatetimeIndex \n",
       "Training index frequency: W-SUN \n",
       "Regressor parameters: {'bootstrap': True, 'ccp_alpha': 0.0, 'criterion': 'squared_error', 'max_depth': None, 'max_features': 1.0, 'max_leaf_nodes': None, 'max_samples': None, 'min_impurity_decrease': 0.0, 'min_samples_leaf': 1, 'min_samples_split': 2, 'min_weight_fraction_leaf': 0.0, 'n_estimators': 100, 'n_jobs': None, 'oob_score': False, 'random_state': 123, 'verbose': 0, 'warm_start': False} \n",
       "fit_kwargs: {} \n",
       "Creation date: 2024-01-22 13:44:06 \n",
       "Last fit date: 2024-01-22 13:44:22 \n",
       "Skforecast version: 0.11.0 \n",
       "Python version: 3.11.5 \n",
       "Forecaster id: None "
      ]
     },
     "execution_count": 52,
     "metadata": {},
     "output_type": "execute_result"
    }
   ],
   "source": [
    "# Create and train forecaster\n",
    "# ==============================================================================\n",
    "forecaster = ForecasterAutoreg(\n",
    "                regressor = RandomForestRegressor(random_state=123),\n",
    "                lags      = 52\n",
    "            )\n",
    "\n",
    "forecaster.fit(y=df_train['cases'])\n",
    "forecaster"
   ]
  },
  {
   "cell_type": "code",
   "execution_count": 64,
   "metadata": {},
   "outputs": [
    {
     "data": {
      "text/plain": [
       "2016-01-03    1340.47\n",
       "2016-01-10    1684.80\n",
       "2016-01-17    1773.90\n",
       "2016-01-24    1835.22\n",
       "2016-01-31    1936.27\n",
       "Freq: W-SUN, Name: pred, dtype: float64"
      ]
     },
     "execution_count": 64,
     "metadata": {},
     "output_type": "execute_result"
    }
   ],
   "source": [
    "# Predictions\n",
    "# ==============================================================================\n",
    "steps = 105\n",
    "predictions = forecaster.predict(steps=steps)\n",
    "predictions.head(5)"
   ]
  },
  {
   "cell_type": "code",
   "execution_count": 65,
   "metadata": {},
   "outputs": [
    {
     "data": {
      "text/plain": [
       "<matplotlib.legend.Legend at 0x200a5f298d0>"
      ]
     },
     "execution_count": 65,
     "metadata": {},
     "output_type": "execute_result"
    },
    {
     "data": {
      "image/png": "[encoded data removed]",
      "text/plain": [
       "<Figure size 600x250 with 1 Axes>"
      ]
     },
     "metadata": {},
     "output_type": "display_data"
    }
   ],
   "source": [
    "# Plot predictions versus test data\n",
    "# ==============================================================================\n",
    "fig, ax = plt.subplots(figsize=(6, 2.5))\n",
    "df_val['cases'].plot(ax=ax, label='val')\n",
    "predictions.plot(ax=ax, label='predictions')\n",
    "ax.legend()"
   ]
  },
  {
   "cell_type": "code",
   "execution_count": 66,
   "metadata": {},
   "outputs": [
    {
     "name": "stdout",
     "output_type": "stream",
     "text": [
      "Test error (MSE): 67045.27223333334\n"
     ]
    }
   ],
   "source": [
    "# Test error\n",
    "# ==============================================================================\n",
    "error_mse = mean_squared_error(\n",
    "                y_true = df_val['cases'],\n",
    "                y_pred = predictions\n",
    "            )\n",
    "\n",
    "print(f\"Test error (MSE): {error_mse}\")"
   ]
  },
  {
   "cell_type": "code",
   "execution_count": null,
   "metadata": {},
   "outputs": [],
   "source": []
  }
 ],
 "metadata": {
  "kernelspec": {
   "display_name": "Python 3",
   "language": "python",
   "name": "python3"
  },
  "language_info": {
   "codemirror_mode": {
    "name": "ipython",
    "version": 3
   },
   "file_extension": ".py",
   "mimetype": "text/x-python",
   "name": "python",
   "nbconvert_exporter": "python",
   "pygments_lexer": "ipython3",
   "version": "3.11.5"
  }
 },
 "nbformat": 4,
 "nbformat_minor": 2
}
