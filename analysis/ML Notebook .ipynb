{
 "cells": [
  {
   "cell_type": "code",
   "execution_count": 347,
   "metadata": {},
   "outputs": [],
   "source": [
    "# Data Manipulation\n",
    "# ======================================================\n",
    "import pandas as pd \n",
    "import numpy as np\n",
    "from os import path\n",
    "import configparser\n",
    "from itertools import *\n",
    "import math\n",
    "from epiweeks import Week\n",
    "from datetime import date, datetime\n",
    "from calendar import month_name, month_abbr\n",
    "from sklearn import preprocessing\n",
    "from helper_functions import *\n",
    "\n",
    "\n",
    "# Reading Secrets\n",
    "# ======================================================\n",
    "cfg = configparser.ConfigParser()\n",
    "cfg.read('secrets.ini')\n",
    "ROOT_PATH = path.abspath(cfg.get('default','root'))\n",
    "DATA_PATH = path.join(ROOT_PATH, 'src/data')\n",
    "\n",
    "\n",
    "# Warnings Config\n",
    "# ======================================================\n",
    "import warnings\n",
    "warnings.filterwarnings('ignore')\n",
    "\n",
    "# Modeling & Forecasting\n",
    "# ======================================================\n",
    "\n",
    "import statsmodels.api as sm\n",
    "from statsmodels.tsa.ar_model import AutoReg, ar_select_order\n",
    "from statsmodels.regression.linear_model import OLS\n",
    "from skforecast.ForecasterAutoreg import ForecasterAutoreg\n",
    "from sklearn.ensemble import RandomForestRegressor, HistGradientBoostingRegressor\n",
    "from sklearn.linear_model import Ridge, LinearRegression\n",
    "from sklearn.metrics import mean_squared_error\n",
    "\n",
    "from lightgbm import LGBMRegressor\n",
    "from sklearn.preprocessing import OneHotEncoder, OrdinalEncoder, FunctionTransformer, PolynomialFeatures\n",
    "from sklearn.feature_selection import RFECV\n",
    "from sklearn.pipeline import make_pipeline\n",
    "from sklearn.compose import make_column_transformer, make_column_selector\n",
    "\n",
    "from skforecast.ForecasterBaseline import ForecasterEquivalentDate\n",
    "from skforecast.ForecasterAutoreg import ForecasterAutoreg\n",
    "from skforecast.ForecasterAutoregDirect import ForecasterAutoregDirect\n",
    "\n",
    "from skforecast.model_selection import bayesian_search_forecaster\n",
    "from skforecast.model_selection import backtesting_forecaster\n",
    "\n",
    "# Plotting\n",
    "# ======================================================\n",
    "\n",
    "import plotly.express as px\n",
    "import matplotlib.pyplot as plt\n",
    "from statsmodels.graphics.tsaplots import plot_acf, plot_pacf"
   ]
  },
  {
   "cell_type": "code",
   "execution_count": 348,
   "metadata": {},
   "outputs": [],
   "source": [
    "# Loading & Manipulating Dataset\n",
    "# ======================================================\n",
    "\n",
    "df = pd.read_csv(path.join(DATA_PATH, 'raw_dataset.csv'))\n",
    "df['epiweek'] = df['epiweek'].map(lambda x: Week.fromstring(str(x)))\n",
    "df['weekstart'] = pd.to_datetime(df['epiweek'].map(lambda x: Week.startdate(x)))\n",
    "df.set_index('weekstart', inplace=True)\n",
    "df['epiweek'] = df['epiweek'].map(lambda x: int(str(x)[4:]))"
   ]
  },
  {
   "cell_type": "code",
   "execution_count": 349,
   "metadata": {},
   "outputs": [
    {
     "data": {
      "text/plain": [
       "epiweek                0\n",
       "GS_cold                0\n",
       "GS_cough               0\n",
       "GS_fever               0\n",
       "GS_flu                 0\n",
       "AWND                   0\n",
       "PRCP                   0\n",
       "SNOW                   0\n",
       "TAVG                 398\n",
       "TMAX                   0\n",
       "TMIN                   0\n",
       "cases                  0\n",
       "Overall AQI Value      0\n",
       "Main Pollutant         0\n",
       "CO                    26\n",
       "Ozone                113\n",
       "PM10                  24\n",
       "PM25                   0\n",
       "Days Good              0\n",
       "Days Moderate          0\n",
       "Days Unhealthy         0\n",
       "visits                79\n",
       "dtype: int64"
      ]
     },
     "execution_count": 349,
     "metadata": {},
     "output_type": "execute_result"
    }
   ],
   "source": [
    "# Checking dataset for missing values\n",
    "df.isna().sum()"
   ]
  },
  {
   "cell_type": "markdown",
   "metadata": {},
   "source": [
    "A number of variables contain missing values. Particularly concerning is TAVG - nearly half of the average temperature values are missing. This is related to the ways weather stations report temperatures. We are using data from the GR Gerald R Ford International Airport to represent Kent County, Michigan. This station stopped reporting average daily temperatures on 2005-08-07. The station resumed reporting average daily temperatures on 2013-03-31.\n",
    "\n",
    "To address these missing values, we will average the daily maximum and daily minimum temperatures as an approximation of the daily average temperatures. For the other variables with missing values, we will input the corresponding monthly mean value."
   ]
  },
  {
   "cell_type": "code",
   "execution_count": 350,
   "metadata": {},
   "outputs": [],
   "source": [
    "means = df[['GS_cold', 'GS_cough', 'GS_fever', 'GS_flu', \n",
    "'AWND', 'PRCP', 'SNOW', 'TMAX', 'TMIN', \n",
    "'cases', 'Overall AQI Value',\n",
    "'CO', 'Ozone', 'PM10', 'PM25', 'Days Good',\n",
    "'Days Moderate', 'Days Unhealthy', 'visits']]\\\n",
    "    .groupby(df.index.month).mean()\n",
    "\n",
    "means.index.name = 'month'"
   ]
  },
  {
   "cell_type": "code",
   "execution_count": 351,
   "metadata": {},
   "outputs": [],
   "source": [
    "df['month'] = df.index.month"
   ]
  },
  {
   "cell_type": "code",
   "execution_count": 352,
   "metadata": {},
   "outputs": [],
   "source": [
    "df = df.reset_index().set_index(['weekstart','month'])"
   ]
  },
  {
   "cell_type": "code",
   "execution_count": 353,
   "metadata": {},
   "outputs": [],
   "source": [
    "df[\n",
    "    ['GS_cold', 'GS_cough', 'GS_fever', 'GS_flu', \n",
    "    'AWND', 'PRCP', 'SNOW', 'TMAX', 'TMIN', \n",
    "    'cases', 'Overall AQI Value',\n",
    "    'CO', 'Ozone', 'PM10', 'PM25', 'Days Good',\n",
    "    'Days Moderate', 'Days Unhealthy', 'visits']\n",
    "    ] = df[\n",
    "        ['GS_cold', 'GS_cough', 'GS_fever', 'GS_flu', \n",
    "        'AWND', 'PRCP', 'SNOW', 'TMAX', 'TMIN', \n",
    "        'cases', 'Overall AQI Value',\n",
    "        'CO', 'Ozone', 'PM10', 'PM25', 'Days Good',\n",
    "        'Days Moderate', 'Days Unhealthy', 'visits']]\\\n",
    "            .fillna(means)"
   ]
  },
  {
   "cell_type": "code",
   "execution_count": 354,
   "metadata": {},
   "outputs": [],
   "source": [
    "df['TAVG'] = df[['TAVG']].fillna(pd.DataFrame((df['TMAX']+df['TMIN'])/2).rename(columns={0:'TAVG'}))"
   ]
  },
  {
   "cell_type": "code",
   "execution_count": 355,
   "metadata": {},
   "outputs": [
    {
     "data": {
      "text/plain": [
       "epiweek              0\n",
       "GS_cold              0\n",
       "GS_cough             0\n",
       "GS_fever             0\n",
       "GS_flu               0\n",
       "AWND                 0\n",
       "PRCP                 0\n",
       "SNOW                 0\n",
       "TAVG                 0\n",
       "TMAX                 0\n",
       "TMIN                 0\n",
       "cases                0\n",
       "Overall AQI Value    0\n",
       "Main Pollutant       0\n",
       "CO                   0\n",
       "Ozone                0\n",
       "PM10                 0\n",
       "PM25                 0\n",
       "Days Good            0\n",
       "Days Moderate        0\n",
       "Days Unhealthy       0\n",
       "visits               0\n",
       "dtype: int64"
      ]
     },
     "execution_count": 355,
     "metadata": {},
     "output_type": "execute_result"
    }
   ],
   "source": [
    "df.isna().sum()"
   ]
  },
  {
   "cell_type": "markdown",
   "metadata": {},
   "source": [
    "That looks better.\n",
    "\n",
    "---"
   ]
  },
  {
   "cell_type": "code",
   "execution_count": 356,
   "metadata": {},
   "outputs": [],
   "source": [
    "# Resampling data so pandas understands that it's weekly\n",
    "df = df.reset_index().set_index('weekstart').drop(columns=['month']).resample('W').first().fillna(method='bfill')"
   ]
  },
  {
   "cell_type": "code",
   "execution_count": 357,
   "metadata": {},
   "outputs": [
    {
     "name": "stdout",
     "output_type": "stream",
     "text": [
      "Dates train      : 2004-12-26 00:00:00 --- 2015-12-27 00:00:00  (n=575)\n",
      "Dates validacion : 2016-01-03 00:00:00 --- 2017-12-31 00:00:00  (n=105)\n",
      "Dates test       : 2017-12-31 00:00:00 --- 2019-12-29 00:00:00  (n=105)\n"
     ]
    }
   ],
   "source": [
    "end_train = date(2015,12,31)\n",
    "end_validation = date(2017,12,31)\n",
    "\n",
    "df_train = df.loc[:end_train,:]\n",
    "df_val = df.loc[end_train:end_validation,:]\n",
    "df_test = df.loc[end_validation:,:]\n",
    "\n",
    "print(f\"Dates train      : {df_train.index.min()} --- {df_train.index.max()}  (n={len(df_train)})\")\n",
    "print(f\"Dates validacion : {df_val.index.min()} --- {df_val.index.max()}  (n={len(df_val)})\")\n",
    "print(f\"Dates test       : {df_test.index.min()} --- {df_test.index.max()}  (n={len(df_test)})\")"
   ]
  },
  {
   "cell_type": "code",
   "execution_count": 358,
   "metadata": {},
   "outputs": [],
   "source": [
    "# The weights are determined by total monthly cases divided by total overall cases\n",
    "weights = pd.DataFrame((                \n",
    "    df_train.groupby(df_train.index.month)['cases'].sum()\\\n",
    "    / df_train['cases'].sum()))\\\n",
    "    .reset_index().rename(columns={'weekstart':'month','cases':'weight'})\\\n",
    "    .set_index('month')\n",
    "\n",
    "variables = ['GS_cold', 'GS_cough', 'GS_fever', 'GS_flu', 'AWND', 'PRCP',\n",
    "            'SNOW', 'TAVG', 'TMAX', 'TMIN', 'Overall AQI Value','CO', 'Ozone', \n",
    "            'PM10', 'PM25', 'Days Good', 'Days Moderate',\n",
    "            'Days Unhealthy', 'visits']\n",
    "\n",
    "# Weighing by dividing exogenous variable values by their corresponding weight\n",
    "w_df_train = df_train.drop(columns=['cases'])\n",
    "w_df_train['month'] = w_df_train.index.month\n",
    "w_df_train = w_df_train.reset_index().set_index(['month','weekstart'])\n",
    "w_df_train = w_df_train[variables].join(weights)\n",
    "\n",
    "w_df_train = w_df_train.reset_index().set_index('weekstart').drop(columns=['month'])\n",
    "\n",
    "for c in variables:\n",
    "    w_df_train[c] = w_df_train[c] / w_df_train['weight']\n",
    "\n",
    "# Adding lagged variables with month-weighted values over 35% correlated with cases\n",
    "for term in variables:\n",
    "    for i in range(1,5):\n",
    "        if abs(w_df_train[term].shift(i).corr(df_train['cases'])) >= 0.35:\n",
    "            df[f\"{term}_L{i}\"] = df[term].shift(i)"
   ]
  },
  {
   "cell_type": "code",
   "execution_count": 359,
   "metadata": {},
   "outputs": [],
   "source": [
    "df = df.iloc[2:,]"
   ]
  },
  {
   "cell_type": "code",
   "execution_count": 360,
   "metadata": {},
   "outputs": [],
   "source": [
    "df_train = df.loc[:end_train,:]\n",
    "df_val = df.loc[end_train:end_validation,:]\n",
    "df_test = df.loc[end_validation:,:]"
   ]
  },
  {
   "cell_type": "code",
   "execution_count": 361,
   "metadata": {},
   "outputs": [],
   "source": [
    "data = df.copy()\n",
    "data['set'] = 0"
   ]
  },
  {
   "cell_type": "code",
   "execution_count": 362,
   "metadata": {},
   "outputs": [],
   "source": [
    "data['set'].loc[:end_train] = 'train'\n",
    "data['set'].loc[end_train:end_validation] = 'val'\n",
    "data['set'].loc[end_validation:] = 'test'"
   ]
  },
  {
   "cell_type": "code",
   "execution_count": 380,
   "metadata": {},
   "outputs": [],
   "source": [
    "data['month'] = data.index.month\n",
    "data['month'] = data['month'].map(lambda x: month_abbr[x])"
   ]
  },
  {
   "cell_type": "code",
   "execution_count": 381,
   "metadata": {},
   "outputs": [
    {
     "data": {
      "image/png": "[encoded data removed]"
     },
     "metadata": {},
     "output_type": "display_data"
    }
   ],
   "source": [
    "fig = px.line(x= data.index, y= data['cases'], color= data['set'])\n",
    "fig.update_layout(autosize=False, width=1800, height=400)\n",
    "fig.update_xaxes(title='')\n",
    "fig.update_yaxes(title='')\n",
    "fig.show('png')"
   ]
  },
  {
   "cell_type": "code",
   "execution_count": 390,
   "metadata": {},
   "outputs": [
    {
     "data": {
      "image/png": "[encoded data removed]"
     },
     "metadata": {},
     "output_type": "display_data"
    }
   ],
   "source": [
    "fig = px.box(x=data.iloc[1:,:]['month'], y=data.iloc[1:,:]['cases'], color=data.iloc[1:,:]['month'])\n",
    "fig.update_layout(autosize=True)\n",
    "fig.update_xaxes(title='')\n",
    "fig.update_yaxes(title='')\n",
    "fig.show('png')"
   ]
  },
  {
   "cell_type": "code",
   "execution_count": 393,
   "metadata": {},
   "outputs": [
    {
     "data": {
      "image/png": "[encoded data removed]"
     },
     "metadata": {},
     "output_type": "display_data"
    }
   ],
   "source": [
    "fig = px.box(x=data.iloc[1:,:]['epiweek'], y=data.iloc[1:,:]['cases'])\n",
    "fig.update_layout(autosize=True)\n",
    "fig.update_xaxes(title='Epiweek')\n",
    "fig.update_yaxes(title='Cases')\n",
    "fig.show('png')"
   ]
  },
  {
   "cell_type": "code",
   "execution_count": 367,
   "metadata": {},
   "outputs": [
    {
     "data": {
      "image/png": "[encoded data removed]",
      "text/plain": [
       "<Figure size 640x480 with 1 Axes>"
      ]
     },
     "metadata": {},
     "output_type": "display_data"
    },
    {
     "data": {
      "image/png": "[encoded data removed]",
      "text/plain": [
       "<Figure size 640x480 with 1 Axes>"
      ]
     },
     "metadata": {},
     "output_type": "display_data"
    }
   ],
   "source": [
    "# Autocorrelation plots\n",
    "plot_acf(data['cases'], lags=53).show()\n",
    "plot_pacf(data['cases'], lags=53).show()"
   ]
  },
  {
   "cell_type": "markdown",
   "metadata": {},
   "source": [
    "The autocorrelation plots demonstrate significant correlations between cases in previous weeks and cases in the future. This means we may be able to use lagged cases to predict future cases."
   ]
  },
  {
   "cell_type": "code",
   "execution_count": 368,
   "metadata": {},
   "outputs": [
    {
     "data": {
      "text/plain": [
       "======================== \n",
       "ForecasterEquivalentDate \n",
       "======================== \n",
       "Offset: <DateOffset: weeks=52> \n",
       "Number of offsets: 1 \n",
       "Aggregation function: mean \n",
       "Window size: 52 \n",
       "Training range: [Timestamp('2005-01-09 00:00:00'), Timestamp('2017-12-31 00:00:00')] \n",
       "Training index type: DatetimeIndex \n",
       "Training index frequency: W-SUN \n",
       "Creation date: 2024-01-19 21:18:15 \n",
       "Last fit date: 2024-01-19 21:18:15 \n",
       "Skforecast version: 0.11.0 \n",
       "Python version: 3.11.5 \n",
       "Forecaster id: None "
      ]
     },
     "execution_count": 368,
     "metadata": {},
     "output_type": "execute_result"
    }
   ],
   "source": [
    "# Create baseline: cases of the same week of the previous year\n",
    "# ==============================================================================\n",
    "\n",
    "forecaster = ForecasterEquivalentDate(\n",
    "                offset    = pd.DateOffset(weeks=52),\n",
    "                n_offsets = 1\n",
    "            )\n",
    "\n",
    "# Train forecaster\n",
    "# ==============================================================================\n",
    "forecaster.fit(y=df.loc[:end_validation, 'cases'])\n",
    "forecaster"
   ]
  },
  {
   "cell_type": "code",
   "execution_count": 369,
   "metadata": {},
   "outputs": [
    {
     "name": "stderr",
     "output_type": "stream",
     "text": [
      "100%|██████████| 18/18 [00:00<00:00, 250.24it/s]"
     ]
    },
    {
     "name": "stdout",
     "output_type": "stream",
     "text": [
      "Backtest error (MAE): 319.1442307692308\n"
     ]
    },
    {
     "name": "stderr",
     "output_type": "stream",
     "text": [
      "\n"
     ]
    }
   ],
   "source": [
    "# Backtesting\n",
    "# ==============================================================================\n",
    "metric_baseline, predictions = backtesting_forecaster(\n",
    "                                forecaster         = forecaster,\n",
    "                                y                  = df['cases'],\n",
    "                                steps              = 6,\n",
    "                                metric             = 'mean_absolute_error',\n",
    "                                initial_train_size = len(df.loc[:end_validation]),\n",
    "                                refit              = False,\n",
    "                                n_jobs             = 'auto',\n",
    "                                verbose            = False,\n",
    "                                show_progress      = True\n",
    "                            )\n",
    "\n",
    "print(f\"Backtest error (MAE): {metric_baseline}\")"
   ]
  },
  {
   "cell_type": "code",
   "execution_count": 370,
   "metadata": {},
   "outputs": [
    {
     "data": {
      "text/plain": [
       "================= \n",
       "ForecasterAutoreg \n",
       "================= \n",
       "Regressor: LGBMRegressor(random_state=15926, verbose=-1) \n",
       "Lags: [ 1  2  3  4  5  6  7  8  9 10 11 12 13 14 15 16 17 18 19 20 21 22 23 24\n",
       " 25 26 27 28 29 30 31 32 33 34 35 36 37 38 39 40 41 42 43 44 45 46 47 48\n",
       " 49 50 51 52] \n",
       "Transformer for y: None \n",
       "Transformer for exog: None \n",
       "Window size: 52 \n",
       "Weight function included: False \n",
       "Differentiation order: None \n",
       "Exogenous included: False \n",
       "Type of exogenous variable: None \n",
       "Exogenous variables names: None \n",
       "Training range: [Timestamp('2005-01-09 00:00:00'), Timestamp('2017-12-31 00:00:00')] \n",
       "Training index type: DatetimeIndex \n",
       "Training index frequency: W-SUN \n",
       "Regressor parameters: {'boosting_type': 'gbdt', 'class_weight': None, 'colsample_bytree': 1.0, 'importance_type': 'split', 'learning_rate': 0.1, 'max_depth': -1, 'min_child_samples': 20, 'min_child_weight': 0.001, 'min_split_gain': 0.0, 'n_estimators': 100, 'n_jobs': None, 'num_leaves': 31, 'objective': None, 'random_state': 15926, 'reg_alpha': 0.0, 'reg_lambda': 0.0, 'subsample': 1.0, 'subsample_for_bin': 200000, 'subsample_freq': 0, 'verbose': -1} \n",
       "fit_kwargs: {} \n",
       "Creation date: 2024-01-19 21:18:43 \n",
       "Last fit date: 2024-01-19 21:18:43 \n",
       "Skforecast version: 0.11.0 \n",
       "Python version: 3.11.5 \n",
       "Forecaster id: None "
      ]
     },
     "execution_count": 370,
     "metadata": {},
     "output_type": "execute_result"
    }
   ],
   "source": [
    "# Create forecaster\n",
    "# ==============================================================================\n",
    "forecaster = ForecasterAutoreg(\n",
    "                regressor = LGBMRegressor(random_state=15926, verbose=-1),\n",
    "                lags      = 52\n",
    "            )\n",
    "\n",
    "# Train forecaster\n",
    "# ==============================================================================\n",
    "forecaster.fit(y=data.loc[:end_validation, 'cases'])\n",
    "forecaster"
   ]
  },
  {
   "cell_type": "code",
   "execution_count": 371,
   "metadata": {},
   "outputs": [
    {
     "data": {
      "text/plain": [
       "2018-01-07    1759.788571\n",
       "2018-01-14    1763.185649\n",
       "2018-01-21    1819.362159\n",
       "2018-01-28    2023.268130\n",
       "2018-02-04    2112.593986\n",
       "2018-02-11    2128.674061\n",
       "Freq: W-SUN, Name: pred, dtype: float64"
      ]
     },
     "execution_count": 371,
     "metadata": {},
     "output_type": "execute_result"
    }
   ],
   "source": [
    "# Predict\n",
    "# ==============================================================================\n",
    "forecaster.predict(steps=6)"
   ]
  },
  {
   "cell_type": "code",
   "execution_count": 372,
   "metadata": {},
   "outputs": [
    {
     "name": "stdout",
     "output_type": "stream",
     "text": [
      "Information of backtesting process\n",
      "----------------------------------\n",
      "Number of observations used for initial training: 678\n",
      "Number of observations used for backtesting: 104\n",
      "    Number of folds: 18\n",
      "    Number of steps per fold: 6\n",
      "    Number of steps to exclude from the end of each train set before test (gap): 0\n",
      "    Last fold only includes 2 observations.\n",
      "\n",
      "Fold: 0\n",
      "    Training:   2005-01-09 00:00:00 -- 2017-12-31 00:00:00  (n=678)\n",
      "    Validation: 2018-01-07 00:00:00 -- 2018-02-11 00:00:00  (n=6)\n",
      "Fold: 1\n",
      "    Training:   2005-01-09 00:00:00 -- 2017-12-31 00:00:00  (n=678)\n",
      "    Validation: 2018-02-18 00:00:00 -- 2018-03-25 00:00:00  (n=6)\n",
      "Fold: 2\n",
      "    Training:   2005-01-09 00:00:00 -- 2017-12-31 00:00:00  (n=678)\n",
      "    Validation: 2018-04-01 00:00:00 -- 2018-05-06 00:00:00  (n=6)\n",
      "Fold: 3\n",
      "    Training:   2005-01-09 00:00:00 -- 2017-12-31 00:00:00  (n=678)\n",
      "    Validation: 2018-05-13 00:00:00 -- 2018-06-17 00:00:00  (n=6)\n",
      "Fold: 4\n",
      "    Training:   2005-01-09 00:00:00 -- 2017-12-31 00:00:00  (n=678)\n",
      "    Validation: 2018-06-24 00:00:00 -- 2018-07-29 00:00:00  (n=6)\n",
      "Fold: 5\n",
      "    Training:   2005-01-09 00:00:00 -- 2017-12-31 00:00:00  (n=678)\n",
      "    Validation: 2018-08-05 00:00:00 -- 2018-09-09 00:00:00  (n=6)\n",
      "Fold: 6\n",
      "    Training:   2005-01-09 00:00:00 -- 2017-12-31 00:00:00  (n=678)\n",
      "    Validation: 2018-09-16 00:00:00 -- 2018-10-21 00:00:00  (n=6)\n",
      "Fold: 7\n",
      "    Training:   2005-01-09 00:00:00 -- 2017-12-31 00:00:00  (n=678)\n",
      "    Validation: 2018-10-28 00:00:00 -- 2018-12-02 00:00:00  (n=6)\n",
      "Fold: 8\n",
      "    Training:   2005-01-09 00:00:00 -- 2017-12-31 00:00:00  (n=678)\n",
      "    Validation: 2018-12-09 00:00:00 -- 2019-01-13 00:00:00  (n=6)\n",
      "Fold: 9\n",
      "    Training:   2005-01-09 00:00:00 -- 2017-12-31 00:00:00  (n=678)\n",
      "    Validation: 2019-01-20 00:00:00 -- 2019-02-24 00:00:00  (n=6)\n",
      "Fold: 10\n",
      "    Training:   2005-01-09 00:00:00 -- 2017-12-31 00:00:00  (n=678)\n",
      "    Validation: 2019-03-03 00:00:00 -- 2019-04-07 00:00:00  (n=6)\n",
      "Fold: 11\n",
      "    Training:   2005-01-09 00:00:00 -- 2017-12-31 00:00:00  (n=678)\n",
      "    Validation: 2019-04-14 00:00:00 -- 2019-05-19 00:00:00  (n=6)\n",
      "Fold: 12\n",
      "    Training:   2005-01-09 00:00:00 -- 2017-12-31 00:00:00  (n=678)\n",
      "    Validation: 2019-05-26 00:00:00 -- 2019-06-30 00:00:00  (n=6)\n",
      "Fold: 13\n",
      "    Training:   2005-01-09 00:00:00 -- 2017-12-31 00:00:00  (n=678)\n",
      "    Validation: 2019-07-07 00:00:00 -- 2019-08-11 00:00:00  (n=6)\n",
      "Fold: 14\n",
      "    Training:   2005-01-09 00:00:00 -- 2017-12-31 00:00:00  (n=678)\n",
      "    Validation: 2019-08-18 00:00:00 -- 2019-09-22 00:00:00  (n=6)\n",
      "Fold: 15\n",
      "    Training:   2005-01-09 00:00:00 -- 2017-12-31 00:00:00  (n=678)\n",
      "    Validation: 2019-09-29 00:00:00 -- 2019-11-03 00:00:00  (n=6)\n",
      "Fold: 16\n",
      "    Training:   2005-01-09 00:00:00 -- 2017-12-31 00:00:00  (n=678)\n",
      "    Validation: 2019-11-10 00:00:00 -- 2019-12-15 00:00:00  (n=6)\n",
      "Fold: 17\n",
      "    Training:   2005-01-09 00:00:00 -- 2017-12-31 00:00:00  (n=678)\n",
      "    Validation: 2019-12-22 00:00:00 -- 2019-12-29 00:00:00  (n=2)\n",
      "\n"
     ]
    },
    {
     "name": "stderr",
     "output_type": "stream",
     "text": [
      "100%|██████████| 18/18 [00:00<00:00, 65.79it/s]\n"
     ]
    },
    {
     "data": {
      "text/html": [
       "<div>\n",
       "<style scoped>\n",
       "    .dataframe tbody tr th:only-of-type {\n",
       "        vertical-align: middle;\n",
       "    }\n",
       "\n",
       "    .dataframe tbody tr th {\n",
       "        vertical-align: top;\n",
       "    }\n",
       "\n",
       "    .dataframe thead th {\n",
       "        text-align: right;\n",
       "    }\n",
       "</style>\n",
       "<table border=\"1\" class=\"dataframe\">\n",
       "  <thead>\n",
       "    <tr style=\"text-align: right;\">\n",
       "      <th></th>\n",
       "      <th>pred</th>\n",
       "    </tr>\n",
       "  </thead>\n",
       "  <tbody>\n",
       "    <tr>\n",
       "      <th>2018-01-07</th>\n",
       "      <td>1759.788571</td>\n",
       "    </tr>\n",
       "    <tr>\n",
       "      <th>2018-01-14</th>\n",
       "      <td>1763.185649</td>\n",
       "    </tr>\n",
       "    <tr>\n",
       "      <th>2018-01-21</th>\n",
       "      <td>1819.362159</td>\n",
       "    </tr>\n",
       "    <tr>\n",
       "      <th>2018-01-28</th>\n",
       "      <td>2023.268130</td>\n",
       "    </tr>\n",
       "    <tr>\n",
       "      <th>2018-02-04</th>\n",
       "      <td>2112.593986</td>\n",
       "    </tr>\n",
       "  </tbody>\n",
       "</table>\n",
       "</div>"
      ],
      "text/plain": [
       "                   pred\n",
       "2018-01-07  1759.788571\n",
       "2018-01-14  1763.185649\n",
       "2018-01-21  1819.362159\n",
       "2018-01-28  2023.268130\n",
       "2018-02-04  2112.593986"
      ]
     },
     "execution_count": 372,
     "metadata": {},
     "output_type": "execute_result"
    }
   ],
   "source": [
    "# Backtest model on test data\n",
    "# ==============================================================================\n",
    "metric, predictions = backtesting_forecaster(\n",
    "                        forecaster         = forecaster,\n",
    "                        y                  = data['cases'],\n",
    "                        steps              = 6,\n",
    "                        metric             = 'mean_absolute_error',\n",
    "                        initial_train_size = len(data[:end_validation]),\n",
    "                        refit              = False,\n",
    "                        n_jobs             = 'auto',\n",
    "                        verbose            = True, # Change to False to see less information\n",
    "                        show_progress      = True\n",
    "                    )\n",
    "\n",
    "predictions.head()"
   ]
  },
  {
   "cell_type": "code",
   "execution_count": 373,
   "metadata": {},
   "outputs": [
    {
     "name": "stdout",
     "output_type": "stream",
     "text": [
      "Backtest error (MAE): 356.12001528241956\n"
     ]
    }
   ],
   "source": [
    "# Backtesting error\n",
    "# ==============================================================================\n",
    "print(f'Backtest error (MAE): {metric}')"
   ]
  },
  {
   "cell_type": "code",
   "execution_count": 339,
   "metadata": {},
   "outputs": [
    {
     "name": "stdout",
     "output_type": "stream",
     "text": [
      "Number of models compared: 40,\n",
      "         20 bayesian search in each lag configuration.\n"
     ]
    },
    {
     "name": "stderr",
     "output_type": "stream",
     "text": [
      "lags grid: 100%|██████████| 2/2 [00:10<00:00,  5.18s/it]\n"
     ]
    },
    {
     "name": "stdout",
     "output_type": "stream",
     "text": [
      "`Forecaster` refitted using the best-found lags and parameters, and the whole data set: \n",
      "  Lags: [ 1  2  3 52] \n",
      "  Parameters: {'n_estimators': 1100, 'max_depth': 7, 'learning_rate': 0.024107442894934994, 'reg_alpha': 0.8, 'reg_lambda': 0.2}\n",
      "  Backtesting metric: 256.81147494957776\n",
      "\n"
     ]
    }
   ],
   "source": [
    "# Hyperparameters search\n",
    "# ==============================================================================\n",
    "# Lags grid\n",
    "lags_grid = [[1,2,3], [1,2,3,52]]\n",
    "\n",
    "# Regressor hyperparameters search space\n",
    "def search_space(trial):\n",
    "    search_space  = {\n",
    "        'n_estimators'  : trial.suggest_int('n_estimators', 400, 1200, step=100),\n",
    "        'max_depth'     : trial.suggest_int('max_depth', 3, 10, step=1),\n",
    "        'learning_rate' : trial.suggest_float('learning_rate', 0.01, 0.5),\n",
    "        'reg_alpha'     : trial.suggest_float('reg_alpha', 0, 1, step=0.1),\n",
    "        'reg_lambda'    : trial.suggest_float('reg_lambda', 0, 1, step=0.1),\n",
    "    } \n",
    "    return search_space\n",
    "\n",
    "results_search, frozen_trial = bayesian_search_forecaster(\n",
    "                                forecaster         = forecaster,\n",
    "                                y                  = df.loc[:end_validation, 'cases'], # Test data not used\n",
    "                                search_space       = search_space,\n",
    "                                lags_grid          = lags_grid,\n",
    "                                steps              = 6,\n",
    "                                refit              = False,\n",
    "                                metric             = 'mean_absolute_error',\n",
    "                                initial_train_size = len(df_train),\n",
    "                                fixed_train_size   = False,\n",
    "                                n_trials           = 20, # Increase this value for a more exhaustive search\n",
    "                                random_state       = 123,\n",
    "                                return_best        = True,\n",
    "                                n_jobs             = 'auto',\n",
    "                                verbose            = False,\n",
    "                                show_progress      = True\n",
    "                            )"
   ]
  },
  {
   "cell_type": "code",
   "execution_count": 340,
   "metadata": {},
   "outputs": [
    {
     "data": {
      "text/plain": [
       "================= \n",
       "ForecasterAutoreg \n",
       "================= \n",
       "Regressor: LGBMRegressor(learning_rate=0.024107442894934994, max_depth=7,\n",
       "              n_estimators=1100, random_state=15926, reg_alpha=0.8,\n",
       "              reg_lambda=0.2, verbose=-1) \n",
       "Lags: [ 1  2  3 52] \n",
       "Transformer for y: None \n",
       "Transformer for exog: None \n",
       "Window size: 52 \n",
       "Weight function included: False \n",
       "Differentiation order: None \n",
       "Exogenous included: False \n",
       "Type of exogenous variable: None \n",
       "Exogenous variables names: None \n",
       "Training range: [Timestamp('2005-01-09 00:00:00'), Timestamp('2017-12-31 00:00:00')] \n",
       "Training index type: DatetimeIndex \n",
       "Training index frequency: W-SUN \n",
       "Regressor parameters: {'boosting_type': 'gbdt', 'class_weight': None, 'colsample_bytree': 1.0, 'importance_type': 'split', 'learning_rate': 0.024107442894934994, 'max_depth': 7, 'min_child_samples': 20, 'min_child_weight': 0.001, 'min_split_gain': 0.0, 'n_estimators': 1100, 'n_jobs': None, 'num_leaves': 31, 'objective': None, 'random_state': 15926, 'reg_alpha': 0.8, 'reg_lambda': 0.2, 'subsample': 1.0, 'subsample_for_bin': 200000, 'subsample_freq': 0, 'verbose': -1} \n",
       "fit_kwargs: {} \n",
       "Creation date: 2024-01-19 15:20:51 \n",
       "Last fit date: 2024-01-19 15:21:16 \n",
       "Skforecast version: 0.11.0 \n",
       "Python version: 3.11.5 \n",
       "Forecaster id: None "
      ]
     },
     "execution_count": 340,
     "metadata": {},
     "output_type": "execute_result"
    }
   ],
   "source": [
    "# Best model\n",
    "# ==============================================================================\n",
    "forecaster"
   ]
  },
  {
   "cell_type": "code",
   "execution_count": 341,
   "metadata": {},
   "outputs": [
    {
     "name": "stderr",
     "output_type": "stream",
     "text": [
      "100%|██████████| 18/18 [00:00<00:00, 55.85it/s]"
     ]
    },
    {
     "name": "stdout",
     "output_type": "stream",
     "text": [
      "Backtest error: 294.10\n"
     ]
    },
    {
     "name": "stderr",
     "output_type": "stream",
     "text": [
      "\n"
     ]
    },
    {
     "data": {
      "text/html": [
       "<div>\n",
       "<style scoped>\n",
       "    .dataframe tbody tr th:only-of-type {\n",
       "        vertical-align: middle;\n",
       "    }\n",
       "\n",
       "    .dataframe tbody tr th {\n",
       "        vertical-align: top;\n",
       "    }\n",
       "\n",
       "    .dataframe thead th {\n",
       "        text-align: right;\n",
       "    }\n",
       "</style>\n",
       "<table border=\"1\" class=\"dataframe\">\n",
       "  <thead>\n",
       "    <tr style=\"text-align: right;\">\n",
       "      <th></th>\n",
       "      <th>pred</th>\n",
       "    </tr>\n",
       "  </thead>\n",
       "  <tbody>\n",
       "    <tr>\n",
       "      <th>2018-01-07</th>\n",
       "      <td>999.891225</td>\n",
       "    </tr>\n",
       "    <tr>\n",
       "      <th>2018-01-14</th>\n",
       "      <td>1595.796283</td>\n",
       "    </tr>\n",
       "    <tr>\n",
       "      <th>2018-01-21</th>\n",
       "      <td>1052.484862</td>\n",
       "    </tr>\n",
       "    <tr>\n",
       "      <th>2018-01-28</th>\n",
       "      <td>1968.599251</td>\n",
       "    </tr>\n",
       "    <tr>\n",
       "      <th>2018-02-04</th>\n",
       "      <td>1723.113170</td>\n",
       "    </tr>\n",
       "  </tbody>\n",
       "</table>\n",
       "</div>"
      ],
      "text/plain": [
       "                   pred\n",
       "2018-01-07   999.891225\n",
       "2018-01-14  1595.796283\n",
       "2018-01-21  1052.484862\n",
       "2018-01-28  1968.599251\n",
       "2018-02-04  1723.113170"
      ]
     },
     "execution_count": 341,
     "metadata": {},
     "output_type": "execute_result"
    }
   ],
   "source": [
    "# Backtest final model on test data\n",
    "# ==============================================================================\n",
    "metric, predictions = backtesting_forecaster(\n",
    "                        forecaster         = forecaster,\n",
    "                        y                  = df['cases'],\n",
    "                        steps              = 6,\n",
    "                        metric             = 'mean_absolute_error',\n",
    "                        initial_train_size = len(df[:end_validation]),\n",
    "                        refit              = False,\n",
    "                        n_jobs             = 'auto',\n",
    "                        verbose            = False,\n",
    "                        show_progress      = True\n",
    "                    )\n",
    "\n",
    "print(f\"Backtest error: {metric:.2f}\")\n",
    "predictions.head()"
   ]
  },
  {
   "cell_type": "code",
   "execution_count": 342,
   "metadata": {},
   "outputs": [
    {
     "data": {
      "application/vnd.plotly.v1+json": {
       "config": {
        "plotlyServerURL": "https://plot.ly"
       },
       "data": [
        {
         "hovertemplate": "variable=cases<br>weekstart=%{x}<br>value=%{y}<extra></extra>",
         "legendgroup": "cases",
         "line": {
          "color": "#636efa",
          "dash": "solid"
         },
         "marker": {
          "symbol": "circle"
         },
         "mode": "lines",
         "name": "cases",
         "orientation": "v",
         "showlegend": true,
         "type": "scatter",
         "x": [
          "2017-12-31T00:00:00",
          "2018-01-07T00:00:00",
          "2018-01-14T00:00:00",
          "2018-01-21T00:00:00",
          "2018-01-28T00:00:00",
          "2018-02-04T00:00:00",
          "2018-02-11T00:00:00",
          "2018-02-18T00:00:00",
          "2018-02-25T00:00:00",
          "2018-03-04T00:00:00",
          "2018-03-11T00:00:00",
          "2018-03-18T00:00:00",
          "2018-03-25T00:00:00",
          "2018-04-01T00:00:00",
          "2018-04-08T00:00:00",
          "2018-04-15T00:00:00",
          "2018-04-22T00:00:00",
          "2018-04-29T00:00:00",
          "2018-05-06T00:00:00",
          "2018-05-13T00:00:00",
          "2018-05-20T00:00:00",
          "2018-05-27T00:00:00",
          "2018-06-03T00:00:00",
          "2018-06-10T00:00:00",
          "2018-06-17T00:00:00",
          "2018-06-24T00:00:00",
          "2018-07-01T00:00:00",
          "2018-07-08T00:00:00",
          "2018-07-15T00:00:00",
          "2018-07-22T00:00:00",
          "2018-07-29T00:00:00",
          "2018-08-05T00:00:00",
          "2018-08-12T00:00:00",
          "2018-08-19T00:00:00",
          "2018-08-26T00:00:00",
          "2018-09-02T00:00:00",
          "2018-09-09T00:00:00",
          "2018-09-16T00:00:00",
          "2018-09-23T00:00:00",
          "2018-09-30T00:00:00",
          "2018-10-07T00:00:00",
          "2018-10-14T00:00:00",
          "2018-10-21T00:00:00",
          "2018-10-28T00:00:00",
          "2018-11-04T00:00:00",
          "2018-11-11T00:00:00",
          "2018-11-18T00:00:00",
          "2018-11-25T00:00:00",
          "2018-12-02T00:00:00",
          "2018-12-09T00:00:00",
          "2018-12-16T00:00:00",
          "2018-12-23T00:00:00",
          "2018-12-30T00:00:00",
          "2019-01-06T00:00:00",
          "2019-01-13T00:00:00",
          "2019-01-20T00:00:00",
          "2019-01-27T00:00:00",
          "2019-02-03T00:00:00",
          "2019-02-10T00:00:00",
          "2019-02-17T00:00:00",
          "2019-02-24T00:00:00",
          "2019-03-03T00:00:00",
          "2019-03-10T00:00:00",
          "2019-03-17T00:00:00",
          "2019-03-24T00:00:00",
          "2019-03-31T00:00:00",
          "2019-04-07T00:00:00",
          "2019-04-14T00:00:00",
          "2019-04-21T00:00:00",
          "2019-04-28T00:00:00",
          "2019-05-05T00:00:00",
          "2019-05-12T00:00:00",
          "2019-05-19T00:00:00",
          "2019-05-26T00:00:00",
          "2019-06-02T00:00:00",
          "2019-06-09T00:00:00",
          "2019-06-16T00:00:00",
          "2019-06-23T00:00:00",
          "2019-06-30T00:00:00",
          "2019-07-07T00:00:00",
          "2019-07-14T00:00:00",
          "2019-07-21T00:00:00",
          "2019-07-28T00:00:00",
          "2019-08-04T00:00:00",
          "2019-08-11T00:00:00",
          "2019-08-18T00:00:00",
          "2019-08-25T00:00:00",
          "2019-09-01T00:00:00",
          "2019-09-08T00:00:00",
          "2019-09-15T00:00:00",
          "2019-09-22T00:00:00",
          "2019-09-29T00:00:00",
          "2019-10-06T00:00:00",
          "2019-10-13T00:00:00",
          "2019-10-20T00:00:00",
          "2019-10-27T00:00:00",
          "2019-11-03T00:00:00",
          "2019-11-10T00:00:00",
          "2019-11-17T00:00:00",
          "2019-11-24T00:00:00",
          "2019-12-01T00:00:00",
          "2019-12-08T00:00:00",
          "2019-12-15T00:00:00",
          "2019-12-22T00:00:00",
          "2019-12-29T00:00:00"
         ],
         "xaxis": "x",
         "y": [
          330,
          1683,
          2395,
          3072,
          3805,
          2226,
          2448,
          1665,
          1551,
          1514,
          2176,
          1476,
          1049,
          16,
          913,
          854,
          829,
          857,
          932,
          745,
          573,
          388,
          206,
          12,
          15,
          30,
          2,
          1,
          21,
          21,
          20,
          11,
          1,
          71,
          265,
          541,
          861,
          863,
          883,
          943,
          952,
          987,
          1110,
          1070,
          986,
          984,
          495,
          930,
          1148,
          1260,
          1189,
          62,
          48,
          1039,
          917,
          819,
          34,
          234,
          746,
          809,
          1254,
          1393,
          1654,
          1994,
          1339,
          37,
          902,
          979,
          920,
          1109,
          1011,
          951,
          672,
          352,
          199,
          50,
          5,
          8,
          2,
          1,
          3,
          7,
          4,
          11,
          10,
          63,
          268,
          573,
          1083,
          976,
          1014,
          1011,
          1239,
          1119,
          994,
          1111,
          1458,
          1671,
          1466,
          638,
          1722,
          2121,
          1638,
          52,
          55
         ],
         "yaxis": "y"
        },
        {
         "hovertemplate": "variable=pred<br>weekstart=%{x}<br>value=%{y}<extra></extra>",
         "legendgroup": "pred",
         "line": {
          "color": "#EF553B",
          "dash": "solid"
         },
         "marker": {
          "symbol": "circle"
         },
         "mode": "lines",
         "name": "pred",
         "orientation": "v",
         "showlegend": true,
         "type": "scatter",
         "x": [
          "2017-12-31T00:00:00",
          "2018-01-07T00:00:00",
          "2018-01-14T00:00:00",
          "2018-01-21T00:00:00",
          "2018-01-28T00:00:00",
          "2018-02-04T00:00:00",
          "2018-02-11T00:00:00",
          "2018-02-18T00:00:00",
          "2018-02-25T00:00:00",
          "2018-03-04T00:00:00",
          "2018-03-11T00:00:00",
          "2018-03-18T00:00:00",
          "2018-03-25T00:00:00",
          "2018-04-01T00:00:00",
          "2018-04-08T00:00:00",
          "2018-04-15T00:00:00",
          "2018-04-22T00:00:00",
          "2018-04-29T00:00:00",
          "2018-05-06T00:00:00",
          "2018-05-13T00:00:00",
          "2018-05-20T00:00:00",
          "2018-05-27T00:00:00",
          "2018-06-03T00:00:00",
          "2018-06-10T00:00:00",
          "2018-06-17T00:00:00",
          "2018-06-24T00:00:00",
          "2018-07-01T00:00:00",
          "2018-07-08T00:00:00",
          "2018-07-15T00:00:00",
          "2018-07-22T00:00:00",
          "2018-07-29T00:00:00",
          "2018-08-05T00:00:00",
          "2018-08-12T00:00:00",
          "2018-08-19T00:00:00",
          "2018-08-26T00:00:00",
          "2018-09-02T00:00:00",
          "2018-09-09T00:00:00",
          "2018-09-16T00:00:00",
          "2018-09-23T00:00:00",
          "2018-09-30T00:00:00",
          "2018-10-07T00:00:00",
          "2018-10-14T00:00:00",
          "2018-10-21T00:00:00",
          "2018-10-28T00:00:00",
          "2018-11-04T00:00:00",
          "2018-11-11T00:00:00",
          "2018-11-18T00:00:00",
          "2018-11-25T00:00:00",
          "2018-12-02T00:00:00",
          "2018-12-09T00:00:00",
          "2018-12-16T00:00:00",
          "2018-12-23T00:00:00",
          "2018-12-30T00:00:00",
          "2019-01-06T00:00:00",
          "2019-01-13T00:00:00",
          "2019-01-20T00:00:00",
          "2019-01-27T00:00:00",
          "2019-02-03T00:00:00",
          "2019-02-10T00:00:00",
          "2019-02-17T00:00:00",
          "2019-02-24T00:00:00",
          "2019-03-03T00:00:00",
          "2019-03-10T00:00:00",
          "2019-03-17T00:00:00",
          "2019-03-24T00:00:00",
          "2019-03-31T00:00:00",
          "2019-04-07T00:00:00",
          "2019-04-14T00:00:00",
          "2019-04-21T00:00:00",
          "2019-04-28T00:00:00",
          "2019-05-05T00:00:00",
          "2019-05-12T00:00:00",
          "2019-05-19T00:00:00",
          "2019-05-26T00:00:00",
          "2019-06-02T00:00:00",
          "2019-06-09T00:00:00",
          "2019-06-16T00:00:00",
          "2019-06-23T00:00:00",
          "2019-06-30T00:00:00",
          "2019-07-07T00:00:00",
          "2019-07-14T00:00:00",
          "2019-07-21T00:00:00",
          "2019-07-28T00:00:00",
          "2019-08-04T00:00:00",
          "2019-08-11T00:00:00",
          "2019-08-18T00:00:00",
          "2019-08-25T00:00:00",
          "2019-09-01T00:00:00",
          "2019-09-08T00:00:00",
          "2019-09-15T00:00:00",
          "2019-09-22T00:00:00",
          "2019-09-29T00:00:00",
          "2019-10-06T00:00:00",
          "2019-10-13T00:00:00",
          "2019-10-20T00:00:00",
          "2019-10-27T00:00:00",
          "2019-11-03T00:00:00",
          "2019-11-10T00:00:00",
          "2019-11-17T00:00:00",
          "2019-11-24T00:00:00",
          "2019-12-01T00:00:00",
          "2019-12-08T00:00:00",
          "2019-12-15T00:00:00",
          "2019-12-22T00:00:00",
          "2019-12-29T00:00:00"
         ],
         "xaxis": "x",
         "y": [
          null,
          999.8912249799193,
          1595.796282718401,
          1052.4848621375818,
          1968.5992505322113,
          1723.113170297465,
          1457.2701137878678,
          1316.200901359155,
          2410.160771125274,
          1978.65765643591,
          2197.8967396745743,
          1901.9542242733276,
          1822.1628073605436,
          1110.0993174066712,
          764.8413174629604,
          1029.3612008101322,
          1286.686827432132,
          1257.8522575624345,
          1095.4466374257413,
          902.2801924800375,
          717.2259705148655,
          565.267164738678,
          648.6919990135576,
          569.1288384157887,
          384.8189703032337,
          -5.967429412902118,
          12.738575993682417,
          4.772357021968503,
          12.868524896187147,
          9.592277471167014,
          -6.971822364822979,
          -9.54905380045047,
          -1.5286594737787291,
          100.0190620550135,
          246.23801627322925,
          615.8847326565223,
          848.3449596345915,
          956.2591491703919,
          986.3508242327295,
          770.9841415554532,
          824.4879951881597,
          971.4588653603853,
          943.8390520022857,
          1161.5533080263954,
          970.5144887298023,
          1224.1740519308125,
          766.0406782366119,
          690.0616827051234,
          1016.277813373338,
          953.8226497445186,
          1053.2229996601086,
          304.5293622910627,
          263.2283249800337,
          978.8725810991716,
          1220.8189317538245,
          1238.9105386304595,
          1266.617939203216,
          1115.1175816540228,
          1117.7810578220053,
          1313.7887002715295,
          1386.4801911167935,
          1157.139863849412,
          1386.1101843926044,
          1573.5166145142136,
          1526.1413944070596,
          687.2661467335523,
          1016.0351531847036,
          1270.768285491475,
          1288.762752280257,
          1124.4321240103627,
          829.6234017787503,
          964.9219477663403,
          854.4682285213984,
          570.8337515203038,
          634.9694710542652,
          252.64248751872591,
          105.42649597391514,
          -22.75021929504064,
          16.513475863682782,
          7.368631519350472,
          26.284394792980745,
          22.56527740934336,
          11.012740077082329,
          3.5463259967855163,
          11.026235459578713,
          147.39402128341658,
          248.15488569460905,
          556.9960008559194,
          874.759809904884,
          1103.2945864870362,
          1112.5075904297921,
          961.5934100838467,
          920.2982964511682,
          878.0736180754219,
          836.2833503866293,
          844.1039257967566,
          877.8540778759733,
          1651.4252427340614,
          1564.5128634174794,
          770.7944933260284,
          809.6425582629245,
          1003.9883798114461,
          964.3688561572918,
          154.5049551808981,
          680.4512428435213
         ],
         "yaxis": "y"
        }
       ],
       "layout": {
        "legend": {
         "title": {
          "text": "variable"
         },
         "tracegroupgap": 0
        },
        "margin": {
         "t": 60
        },
        "template": {
         "data": {
          "bar": [
           {
            "error_x": {
             "color": "#2a3f5f"
            },
            "error_y": {
             "color": "#2a3f5f"
            },
            "marker": {
             "line": {
              "color": "#E5ECF6",
              "width": 0.5
             },
             "pattern": {
              "fillmode": "overlay",
              "size": 10,
              "solidity": 0.2
             }
            },
            "type": "bar"
           }
          ],
          "barpolar": [
           {
            "marker": {
             "line": {
              "color": "#E5ECF6",
              "width": 0.5
             },
             "pattern": {
              "fillmode": "overlay",
              "size": 10,
              "solidity": 0.2
             }
            },
            "type": "barpolar"
           }
          ],
          "carpet": [
           {
            "aaxis": {
             "endlinecolor": "#2a3f5f",
             "gridcolor": "white",
             "linecolor": "white",
             "minorgridcolor": "white",
             "startlinecolor": "#2a3f5f"
            },
            "baxis": {
             "endlinecolor": "#2a3f5f",
             "gridcolor": "white",
             "linecolor": "white",
             "minorgridcolor": "white",
             "startlinecolor": "#2a3f5f"
            },
            "type": "carpet"
           }
          ],
          "choropleth": [
           {
            "colorbar": {
             "outlinewidth": 0,
             "ticks": ""
            },
            "type": "choropleth"
           }
          ],
          "contour": [
           {
            "colorbar": {
             "outlinewidth": 0,
             "ticks": ""
            },
            "colorscale": [
             [
              0,
              "#0d0887"
             ],
             [
              0.1111111111111111,
              "#46039f"
             ],
             [
              0.2222222222222222,
              "#7201a8"
             ],
             [
              0.3333333333333333,
              "#9c179e"
             ],
             [
              0.4444444444444444,
              "#bd3786"
             ],
             [
              0.5555555555555556,
              "#d8576b"
             ],
             [
              0.6666666666666666,
              "#ed7953"
             ],
             [
              0.7777777777777778,
              "#fb9f3a"
             ],
             [
              0.8888888888888888,
              "#fdca26"
             ],
             [
              1,
              "#f0f921"
             ]
            ],
            "type": "contour"
           }
          ],
          "contourcarpet": [
           {
            "colorbar": {
             "outlinewidth": 0,
             "ticks": ""
            },
            "type": "contourcarpet"
           }
          ],
          "heatmap": [
           {
            "colorbar": {
             "outlinewidth": 0,
             "ticks": ""
            },
            "colorscale": [
             [
              0,
              "#0d0887"
             ],
             [
              0.1111111111111111,
              "#46039f"
             ],
             [
              0.2222222222222222,
              "#7201a8"
             ],
             [
              0.3333333333333333,
              "#9c179e"
             ],
             [
              0.4444444444444444,
              "#bd3786"
             ],
             [
              0.5555555555555556,
              "#d8576b"
             ],
             [
              0.6666666666666666,
              "#ed7953"
             ],
             [
              0.7777777777777778,
              "#fb9f3a"
             ],
             [
              0.8888888888888888,
              "#fdca26"
             ],
             [
              1,
              "#f0f921"
             ]
            ],
            "type": "heatmap"
           }
          ],
          "heatmapgl": [
           {
            "colorbar": {
             "outlinewidth": 0,
             "ticks": ""
            },
            "colorscale": [
             [
              0,
              "#0d0887"
             ],
             [
              0.1111111111111111,
              "#46039f"
             ],
             [
              0.2222222222222222,
              "#7201a8"
             ],
             [
              0.3333333333333333,
              "#9c179e"
             ],
             [
              0.4444444444444444,
              "#bd3786"
             ],
             [
              0.5555555555555556,
              "#d8576b"
             ],
             [
              0.6666666666666666,
              "#ed7953"
             ],
             [
              0.7777777777777778,
              "#fb9f3a"
             ],
             [
              0.8888888888888888,
              "#fdca26"
             ],
             [
              1,
              "#f0f921"
             ]
            ],
            "type": "heatmapgl"
           }
          ],
          "histogram": [
           {
            "marker": {
             "pattern": {
              "fillmode": "overlay",
              "size": 10,
              "solidity": 0.2
             }
            },
            "type": "histogram"
           }
          ],
          "histogram2d": [
           {
            "colorbar": {
             "outlinewidth": 0,
             "ticks": ""
            },
            "colorscale": [
             [
              0,
              "#0d0887"
             ],
             [
              0.1111111111111111,
              "#46039f"
             ],
             [
              0.2222222222222222,
              "#7201a8"
             ],
             [
              0.3333333333333333,
              "#9c179e"
             ],
             [
              0.4444444444444444,
              "#bd3786"
             ],
             [
              0.5555555555555556,
              "#d8576b"
             ],
             [
              0.6666666666666666,
              "#ed7953"
             ],
             [
              0.7777777777777778,
              "#fb9f3a"
             ],
             [
              0.8888888888888888,
              "#fdca26"
             ],
             [
              1,
              "#f0f921"
             ]
            ],
            "type": "histogram2d"
           }
          ],
          "histogram2dcontour": [
           {
            "colorbar": {
             "outlinewidth": 0,
             "ticks": ""
            },
            "colorscale": [
             [
              0,
              "#0d0887"
             ],
             [
              0.1111111111111111,
              "#46039f"
             ],
             [
              0.2222222222222222,
              "#7201a8"
             ],
             [
              0.3333333333333333,
              "#9c179e"
             ],
             [
              0.4444444444444444,
              "#bd3786"
             ],
             [
              0.5555555555555556,
              "#d8576b"
             ],
             [
              0.6666666666666666,
              "#ed7953"
             ],
             [
              0.7777777777777778,
              "#fb9f3a"
             ],
             [
              0.8888888888888888,
              "#fdca26"
             ],
             [
              1,
              "#f0f921"
             ]
            ],
            "type": "histogram2dcontour"
           }
          ],
          "mesh3d": [
           {
            "colorbar": {
             "outlinewidth": 0,
             "ticks": ""
            },
            "type": "mesh3d"
           }
          ],
          "parcoords": [
           {
            "line": {
             "colorbar": {
              "outlinewidth": 0,
              "ticks": ""
             }
            },
            "type": "parcoords"
           }
          ],
          "pie": [
           {
            "automargin": true,
            "type": "pie"
           }
          ],
          "scatter": [
           {
            "marker": {
             "colorbar": {
              "outlinewidth": 0,
              "ticks": ""
             }
            },
            "type": "scatter"
           }
          ],
          "scatter3d": [
           {
            "line": {
             "colorbar": {
              "outlinewidth": 0,
              "ticks": ""
             }
            },
            "marker": {
             "colorbar": {
              "outlinewidth": 0,
              "ticks": ""
             }
            },
            "type": "scatter3d"
           }
          ],
          "scattercarpet": [
           {
            "marker": {
             "colorbar": {
              "outlinewidth": 0,
              "ticks": ""
             }
            },
            "type": "scattercarpet"
           }
          ],
          "scattergeo": [
           {
            "marker": {
             "colorbar": {
              "outlinewidth": 0,
              "ticks": ""
             }
            },
            "type": "scattergeo"
           }
          ],
          "scattergl": [
           {
            "marker": {
             "colorbar": {
              "outlinewidth": 0,
              "ticks": ""
             }
            },
            "type": "scattergl"
           }
          ],
          "scattermapbox": [
           {
            "marker": {
             "colorbar": {
              "outlinewidth": 0,
              "ticks": ""
             }
            },
            "type": "scattermapbox"
           }
          ],
          "scatterpolar": [
           {
            "marker": {
             "colorbar": {
              "outlinewidth": 0,
              "ticks": ""
             }
            },
            "type": "scatterpolar"
           }
          ],
          "scatterpolargl": [
           {
            "marker": {
             "colorbar": {
              "outlinewidth": 0,
              "ticks": ""
             }
            },
            "type": "scatterpolargl"
           }
          ],
          "scatterternary": [
           {
            "marker": {
             "colorbar": {
              "outlinewidth": 0,
              "ticks": ""
             }
            },
            "type": "scatterternary"
           }
          ],
          "surface": [
           {
            "colorbar": {
             "outlinewidth": 0,
             "ticks": ""
            },
            "colorscale": [
             [
              0,
              "#0d0887"
             ],
             [
              0.1111111111111111,
              "#46039f"
             ],
             [
              0.2222222222222222,
              "#7201a8"
             ],
             [
              0.3333333333333333,
              "#9c179e"
             ],
             [
              0.4444444444444444,
              "#bd3786"
             ],
             [
              0.5555555555555556,
              "#d8576b"
             ],
             [
              0.6666666666666666,
              "#ed7953"
             ],
             [
              0.7777777777777778,
              "#fb9f3a"
             ],
             [
              0.8888888888888888,
              "#fdca26"
             ],
             [
              1,
              "#f0f921"
             ]
            ],
            "type": "surface"
           }
          ],
          "table": [
           {
            "cells": {
             "fill": {
              "color": "#EBF0F8"
             },
             "line": {
              "color": "white"
             }
            },
            "header": {
             "fill": {
              "color": "#C8D4E3"
             },
             "line": {
              "color": "white"
             }
            },
            "type": "table"
           }
          ]
         },
         "layout": {
          "annotationdefaults": {
           "arrowcolor": "#2a3f5f",
           "arrowhead": 0,
           "arrowwidth": 1
          },
          "autotypenumbers": "strict",
          "coloraxis": {
           "colorbar": {
            "outlinewidth": 0,
            "ticks": ""
           }
          },
          "colorscale": {
           "diverging": [
            [
             0,
             "#8e0152"
            ],
            [
             0.1,
             "#c51b7d"
            ],
            [
             0.2,
             "#de77ae"
            ],
            [
             0.3,
             "#f1b6da"
            ],
            [
             0.4,
             "#fde0ef"
            ],
            [
             0.5,
             "#f7f7f7"
            ],
            [
             0.6,
             "#e6f5d0"
            ],
            [
             0.7,
             "#b8e186"
            ],
            [
             0.8,
             "#7fbc41"
            ],
            [
             0.9,
             "#4d9221"
            ],
            [
             1,
             "#276419"
            ]
           ],
           "sequential": [
            [
             0,
             "#0d0887"
            ],
            [
             0.1111111111111111,
             "#46039f"
            ],
            [
             0.2222222222222222,
             "#7201a8"
            ],
            [
             0.3333333333333333,
             "#9c179e"
            ],
            [
             0.4444444444444444,
             "#bd3786"
            ],
            [
             0.5555555555555556,
             "#d8576b"
            ],
            [
             0.6666666666666666,
             "#ed7953"
            ],
            [
             0.7777777777777778,
             "#fb9f3a"
            ],
            [
             0.8888888888888888,
             "#fdca26"
            ],
            [
             1,
             "#f0f921"
            ]
           ],
           "sequentialminus": [
            [
             0,
             "#0d0887"
            ],
            [
             0.1111111111111111,
             "#46039f"
            ],
            [
             0.2222222222222222,
             "#7201a8"
            ],
            [
             0.3333333333333333,
             "#9c179e"
            ],
            [
             0.4444444444444444,
             "#bd3786"
            ],
            [
             0.5555555555555556,
             "#d8576b"
            ],
            [
             0.6666666666666666,
             "#ed7953"
            ],
            [
             0.7777777777777778,
             "#fb9f3a"
            ],
            [
             0.8888888888888888,
             "#fdca26"
            ],
            [
             1,
             "#f0f921"
            ]
           ]
          },
          "colorway": [
           "#636efa",
           "#EF553B",
           "#00cc96",
           "#ab63fa",
           "#FFA15A",
           "#19d3f3",
           "#FF6692",
           "#B6E880",
           "#FF97FF",
           "#FECB52"
          ],
          "font": {
           "color": "#2a3f5f"
          },
          "geo": {
           "bgcolor": "white",
           "lakecolor": "white",
           "landcolor": "#E5ECF6",
           "showlakes": true,
           "showland": true,
           "subunitcolor": "white"
          },
          "hoverlabel": {
           "align": "left"
          },
          "hovermode": "closest",
          "mapbox": {
           "style": "light"
          },
          "paper_bgcolor": "white",
          "plot_bgcolor": "#E5ECF6",
          "polar": {
           "angularaxis": {
            "gridcolor": "white",
            "linecolor": "white",
            "ticks": ""
           },
           "bgcolor": "#E5ECF6",
           "radialaxis": {
            "gridcolor": "white",
            "linecolor": "white",
            "ticks": ""
           }
          },
          "scene": {
           "xaxis": {
            "backgroundcolor": "#E5ECF6",
            "gridcolor": "white",
            "gridwidth": 2,
            "linecolor": "white",
            "showbackground": true,
            "ticks": "",
            "zerolinecolor": "white"
           },
           "yaxis": {
            "backgroundcolor": "#E5ECF6",
            "gridcolor": "white",
            "gridwidth": 2,
            "linecolor": "white",
            "showbackground": true,
            "ticks": "",
            "zerolinecolor": "white"
           },
           "zaxis": {
            "backgroundcolor": "#E5ECF6",
            "gridcolor": "white",
            "gridwidth": 2,
            "linecolor": "white",
            "showbackground": true,
            "ticks": "",
            "zerolinecolor": "white"
           }
          },
          "shapedefaults": {
           "line": {
            "color": "#2a3f5f"
           }
          },
          "ternary": {
           "aaxis": {
            "gridcolor": "white",
            "linecolor": "white",
            "ticks": ""
           },
           "baxis": {
            "gridcolor": "white",
            "linecolor": "white",
            "ticks": ""
           },
           "bgcolor": "#E5ECF6",
           "caxis": {
            "gridcolor": "white",
            "linecolor": "white",
            "ticks": ""
           }
          },
          "title": {
           "x": 0.05
          },
          "xaxis": {
           "automargin": true,
           "gridcolor": "white",
           "linecolor": "white",
           "ticks": "",
           "title": {
            "standoff": 15
           },
           "zerolinecolor": "white",
           "zerolinewidth": 2
          },
          "yaxis": {
           "automargin": true,
           "gridcolor": "white",
           "linecolor": "white",
           "ticks": "",
           "title": {
            "standoff": 15
           },
           "zerolinecolor": "white",
           "zerolinewidth": 2
          }
         }
        },
        "xaxis": {
         "anchor": "y",
         "domain": [
          0,
          1
         ],
         "title": {
          "text": "weekstart"
         }
        },
        "yaxis": {
         "anchor": "x",
         "domain": [
          0,
          1
         ],
         "title": {
          "text": "value"
         }
        }
       }
      }
     },
     "metadata": {},
     "output_type": "display_data"
    }
   ],
   "source": [
    "px.line(df_test[['cases']].join(predictions).melt(ignore_index=False), y='value', color='variable')"
   ]
  },
  {
   "cell_type": "code",
   "execution_count": 344,
   "metadata": {},
   "outputs": [],
   "source": [
    "epiweek_encoded = cyclical_encoding(df['epiweek'].apply(lambda x: x-1), cycle_length=52)"
   ]
  },
  {
   "cell_type": "code",
   "execution_count": 345,
   "metadata": {},
   "outputs": [
    {
     "data": {
      "text/html": [
       "<div>\n",
       "<style scoped>\n",
       "    .dataframe tbody tr th:only-of-type {\n",
       "        vertical-align: middle;\n",
       "    }\n",
       "\n",
       "    .dataframe tbody tr th {\n",
       "        vertical-align: top;\n",
       "    }\n",
       "\n",
       "    .dataframe thead th {\n",
       "        text-align: right;\n",
       "    }\n",
       "</style>\n",
       "<table border=\"1\" class=\"dataframe\">\n",
       "  <thead>\n",
       "    <tr style=\"text-align: right;\">\n",
       "      <th></th>\n",
       "      <th>epiweek_sin</th>\n",
       "      <th>epiweek_cos</th>\n",
       "    </tr>\n",
       "    <tr>\n",
       "      <th>weekstart</th>\n",
       "      <th></th>\n",
       "      <th></th>\n",
       "    </tr>\n",
       "  </thead>\n",
       "  <tbody>\n",
       "    <tr>\n",
       "      <th>2005-01-09</th>\n",
       "      <td>0.120537</td>\n",
       "      <td>0.992709</td>\n",
       "    </tr>\n",
       "    <tr>\n",
       "      <th>2005-01-16</th>\n",
       "      <td>0.239316</td>\n",
       "      <td>0.970942</td>\n",
       "    </tr>\n",
       "    <tr>\n",
       "      <th>2005-01-23</th>\n",
       "      <td>0.354605</td>\n",
       "      <td>0.935016</td>\n",
       "    </tr>\n",
       "    <tr>\n",
       "      <th>2005-01-30</th>\n",
       "      <td>0.464723</td>\n",
       "      <td>0.885456</td>\n",
       "    </tr>\n",
       "    <tr>\n",
       "      <th>2005-02-06</th>\n",
       "      <td>0.568065</td>\n",
       "      <td>0.822984</td>\n",
       "    </tr>\n",
       "    <tr>\n",
       "      <th>...</th>\n",
       "      <td>...</td>\n",
       "      <td>...</td>\n",
       "    </tr>\n",
       "    <tr>\n",
       "      <th>2019-12-01</th>\n",
       "      <td>-0.464723</td>\n",
       "      <td>0.885456</td>\n",
       "    </tr>\n",
       "    <tr>\n",
       "      <th>2019-12-08</th>\n",
       "      <td>-0.354605</td>\n",
       "      <td>0.935016</td>\n",
       "    </tr>\n",
       "    <tr>\n",
       "      <th>2019-12-15</th>\n",
       "      <td>-0.239316</td>\n",
       "      <td>0.970942</td>\n",
       "    </tr>\n",
       "    <tr>\n",
       "      <th>2019-12-22</th>\n",
       "      <td>-0.120537</td>\n",
       "      <td>0.992709</td>\n",
       "    </tr>\n",
       "    <tr>\n",
       "      <th>2019-12-29</th>\n",
       "      <td>0.000000</td>\n",
       "      <td>1.000000</td>\n",
       "    </tr>\n",
       "  </tbody>\n",
       "</table>\n",
       "<p>782 rows × 2 columns</p>\n",
       "</div>"
      ],
      "text/plain": [
       "            epiweek_sin  epiweek_cos\n",
       "weekstart                           \n",
       "2005-01-09     0.120537     0.992709\n",
       "2005-01-16     0.239316     0.970942\n",
       "2005-01-23     0.354605     0.935016\n",
       "2005-01-30     0.464723     0.885456\n",
       "2005-02-06     0.568065     0.822984\n",
       "...                 ...          ...\n",
       "2019-12-01    -0.464723     0.885456\n",
       "2019-12-08    -0.354605     0.935016\n",
       "2019-12-15    -0.239316     0.970942\n",
       "2019-12-22    -0.120537     0.992709\n",
       "2019-12-29     0.000000     1.000000\n",
       "\n",
       "[782 rows x 2 columns]"
      ]
     },
     "execution_count": 345,
     "metadata": {},
     "output_type": "execute_result"
    }
   ],
   "source": [
    "epiweek_encoded"
   ]
  },
  {
   "cell_type": "code",
   "execution_count": 346,
   "metadata": {},
   "outputs": [
    {
     "data": {
      "text/html": [
       "<div>\n",
       "<style scoped>\n",
       "    .dataframe tbody tr th:only-of-type {\n",
       "        vertical-align: middle;\n",
       "    }\n",
       "\n",
       "    .dataframe tbody tr th {\n",
       "        vertical-align: top;\n",
       "    }\n",
       "\n",
       "    .dataframe thead th {\n",
       "        text-align: right;\n",
       "    }\n",
       "</style>\n",
       "<table border=\"1\" class=\"dataframe\">\n",
       "  <thead>\n",
       "    <tr style=\"text-align: right;\">\n",
       "      <th></th>\n",
       "      <th>epiweek</th>\n",
       "      <th>GS_cold</th>\n",
       "      <th>GS_cough</th>\n",
       "      <th>GS_fever</th>\n",
       "      <th>GS_flu</th>\n",
       "      <th>AWND</th>\n",
       "      <th>PRCP</th>\n",
       "      <th>SNOW</th>\n",
       "      <th>TAVG</th>\n",
       "      <th>TMAX</th>\n",
       "      <th>...</th>\n",
       "      <th>GS_fever_L2</th>\n",
       "      <th>AWND_L1</th>\n",
       "      <th>TAVG_L1</th>\n",
       "      <th>TAVG_L2</th>\n",
       "      <th>TMAX_L1</th>\n",
       "      <th>TMAX_L2</th>\n",
       "      <th>TMIN_L1</th>\n",
       "      <th>TMIN_L2</th>\n",
       "      <th>epiweek_sin</th>\n",
       "      <th>epiweek_cos</th>\n",
       "    </tr>\n",
       "    <tr>\n",
       "      <th>weekstart</th>\n",
       "      <th></th>\n",
       "      <th></th>\n",
       "      <th></th>\n",
       "      <th></th>\n",
       "      <th></th>\n",
       "      <th></th>\n",
       "      <th></th>\n",
       "      <th></th>\n",
       "      <th></th>\n",
       "      <th></th>\n",
       "      <th></th>\n",
       "      <th></th>\n",
       "      <th></th>\n",
       "      <th></th>\n",
       "      <th></th>\n",
       "      <th></th>\n",
       "      <th></th>\n",
       "      <th></th>\n",
       "      <th></th>\n",
       "      <th></th>\n",
       "      <th></th>\n",
       "    </tr>\n",
       "  </thead>\n",
       "  <tbody>\n",
       "    <tr>\n",
       "      <th>2005-01-09</th>\n",
       "      <td>2.0</td>\n",
       "      <td>2816.0</td>\n",
       "      <td>414.0</td>\n",
       "      <td>1048.0</td>\n",
       "      <td>707.0</td>\n",
       "      <td>11.142857</td>\n",
       "      <td>0.285714</td>\n",
       "      <td>0.428571</td>\n",
       "      <td>29.857143</td>\n",
       "      <td>36.000000</td>\n",
       "      <td>...</td>\n",
       "      <td>1023.0</td>\n",
       "      <td>8.428571</td>\n",
       "      <td>28.428571</td>\n",
       "      <td>28.285714</td>\n",
       "      <td>31.857143</td>\n",
       "      <td>36.571429</td>\n",
       "      <td>24.285714</td>\n",
       "      <td>19.714286</td>\n",
       "      <td>0.120537</td>\n",
       "      <td>0.992709</td>\n",
       "    </tr>\n",
       "    <tr>\n",
       "      <th>2005-01-16</th>\n",
       "      <td>3.0</td>\n",
       "      <td>3074.0</td>\n",
       "      <td>342.0</td>\n",
       "      <td>1057.0</td>\n",
       "      <td>720.0</td>\n",
       "      <td>12.142857</td>\n",
       "      <td>0.142857</td>\n",
       "      <td>2.142857</td>\n",
       "      <td>12.571429</td>\n",
       "      <td>17.714286</td>\n",
       "      <td>...</td>\n",
       "      <td>1047.0</td>\n",
       "      <td>11.142857</td>\n",
       "      <td>29.857143</td>\n",
       "      <td>28.428571</td>\n",
       "      <td>36.000000</td>\n",
       "      <td>31.857143</td>\n",
       "      <td>23.000000</td>\n",
       "      <td>24.285714</td>\n",
       "      <td>0.239316</td>\n",
       "      <td>0.970942</td>\n",
       "    </tr>\n",
       "    <tr>\n",
       "      <th>2005-01-23</th>\n",
       "      <td>4.0</td>\n",
       "      <td>3188.0</td>\n",
       "      <td>389.0</td>\n",
       "      <td>1062.0</td>\n",
       "      <td>782.0</td>\n",
       "      <td>7.285714</td>\n",
       "      <td>0.000000</td>\n",
       "      <td>0.000000</td>\n",
       "      <td>16.428571</td>\n",
       "      <td>26.857143</td>\n",
       "      <td>...</td>\n",
       "      <td>1048.0</td>\n",
       "      <td>12.142857</td>\n",
       "      <td>12.571429</td>\n",
       "      <td>29.857143</td>\n",
       "      <td>17.714286</td>\n",
       "      <td>36.000000</td>\n",
       "      <td>7.000000</td>\n",
       "      <td>23.000000</td>\n",
       "      <td>0.354605</td>\n",
       "      <td>0.935016</td>\n",
       "    </tr>\n",
       "    <tr>\n",
       "      <th>2005-01-30</th>\n",
       "      <td>5.0</td>\n",
       "      <td>2745.0</td>\n",
       "      <td>418.0</td>\n",
       "      <td>1083.0</td>\n",
       "      <td>897.0</td>\n",
       "      <td>5.000000</td>\n",
       "      <td>0.000000</td>\n",
       "      <td>0.000000</td>\n",
       "      <td>27.571429</td>\n",
       "      <td>36.285714</td>\n",
       "      <td>...</td>\n",
       "      <td>1057.0</td>\n",
       "      <td>7.285714</td>\n",
       "      <td>16.428571</td>\n",
       "      <td>12.571429</td>\n",
       "      <td>26.857143</td>\n",
       "      <td>17.714286</td>\n",
       "      <td>3.857143</td>\n",
       "      <td>7.000000</td>\n",
       "      <td>0.464723</td>\n",
       "      <td>0.885456</td>\n",
       "    </tr>\n",
       "    <tr>\n",
       "      <th>2005-02-06</th>\n",
       "      <td>6.0</td>\n",
       "      <td>3004.0</td>\n",
       "      <td>432.0</td>\n",
       "      <td>1257.0</td>\n",
       "      <td>986.0</td>\n",
       "      <td>7.714286</td>\n",
       "      <td>0.000000</td>\n",
       "      <td>0.000000</td>\n",
       "      <td>31.571429</td>\n",
       "      <td>37.142857</td>\n",
       "      <td>...</td>\n",
       "      <td>1062.0</td>\n",
       "      <td>5.000000</td>\n",
       "      <td>27.571429</td>\n",
       "      <td>16.428571</td>\n",
       "      <td>36.285714</td>\n",
       "      <td>26.857143</td>\n",
       "      <td>18.142857</td>\n",
       "      <td>3.857143</td>\n",
       "      <td>0.568065</td>\n",
       "      <td>0.822984</td>\n",
       "    </tr>\n",
       "  </tbody>\n",
       "</table>\n",
       "<p>5 rows × 35 columns</p>\n",
       "</div>"
      ],
      "text/plain": [
       "            epiweek  GS_cold  GS_cough  GS_fever  GS_flu       AWND      PRCP  \\\n",
       "weekstart                                                                       \n",
       "2005-01-09      2.0   2816.0     414.0    1048.0   707.0  11.142857  0.285714   \n",
       "2005-01-16      3.0   3074.0     342.0    1057.0   720.0  12.142857  0.142857   \n",
       "2005-01-23      4.0   3188.0     389.0    1062.0   782.0   7.285714  0.000000   \n",
       "2005-01-30      5.0   2745.0     418.0    1083.0   897.0   5.000000  0.000000   \n",
       "2005-02-06      6.0   3004.0     432.0    1257.0   986.0   7.714286  0.000000   \n",
       "\n",
       "                SNOW       TAVG       TMAX  ...  GS_fever_L2    AWND_L1  \\\n",
       "weekstart                                   ...                           \n",
       "2005-01-09  0.428571  29.857143  36.000000  ...       1023.0   8.428571   \n",
       "2005-01-16  2.142857  12.571429  17.714286  ...       1047.0  11.142857   \n",
       "2005-01-23  0.000000  16.428571  26.857143  ...       1048.0  12.142857   \n",
       "2005-01-30  0.000000  27.571429  36.285714  ...       1057.0   7.285714   \n",
       "2005-02-06  0.000000  31.571429  37.142857  ...       1062.0   5.000000   \n",
       "\n",
       "              TAVG_L1    TAVG_L2    TMAX_L1    TMAX_L2    TMIN_L1    TMIN_L2  \\\n",
       "weekstart                                                                      \n",
       "2005-01-09  28.428571  28.285714  31.857143  36.571429  24.285714  19.714286   \n",
       "2005-01-16  29.857143  28.428571  36.000000  31.857143  23.000000  24.285714   \n",
       "2005-01-23  12.571429  29.857143  17.714286  36.000000   7.000000  23.000000   \n",
       "2005-01-30  16.428571  12.571429  26.857143  17.714286   3.857143   7.000000   \n",
       "2005-02-06  27.571429  16.428571  36.285714  26.857143  18.142857   3.857143   \n",
       "\n",
       "            epiweek_sin  epiweek_cos  \n",
       "weekstart                             \n",
       "2005-01-09     0.120537     0.992709  \n",
       "2005-01-16     0.239316     0.970942  \n",
       "2005-01-23     0.354605     0.935016  \n",
       "2005-01-30     0.464723     0.885456  \n",
       "2005-02-06     0.568065     0.822984  \n",
       "\n",
       "[5 rows x 35 columns]"
      ]
     },
     "execution_count": 346,
     "metadata": {},
     "output_type": "execute_result"
    }
   ],
   "source": [
    "df = pd.concat([df, epiweek_encoded], axis=1)\n",
    "df.head()"
   ]
  }
 ],
 "metadata": {
  "kernelspec": {
   "display_name": "Python 3",
   "language": "python",
   "name": "python3"
  },
  "language_info": {
   "codemirror_mode": {
    "name": "ipython",
    "version": 3
   },
   "file_extension": ".py",
   "mimetype": "text/x-python",
   "name": "python",
   "nbconvert_exporter": "python",
   "pygments_lexer": "ipython3",
   "version": "3.11.5"
  }
 },
 "nbformat": 4,
 "nbformat_minor": 2
}
