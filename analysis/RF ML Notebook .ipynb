{
 "cells": [
  {
   "cell_type": "code",
   "execution_count": 2,
   "metadata": {},
   "outputs": [],
   "source": [
    "# Data Manipulation\n",
    "# ======================================================\n",
    "import pandas as pd \n",
    "import numpy as np\n",
    "from os import path\n",
    "import configparser\n",
    "from itertools import *\n",
    "import math\n",
    "from epiweeks import Week\n",
    "from datetime import date, datetime\n",
    "from calendar import month_name, month_abbr\n",
    "from sklearn import preprocessing\n",
    "from helper_functions import *\n",
    "\n",
    "# Warnings Config\n",
    "# ======================================================\n",
    "import warnings\n",
    "warnings.filterwarnings('ignore')\n",
    "\n",
    "# Modeling & Forecasting\n",
    "# ======================================================\n",
    "import statsmodels.api as sm\n",
    "from statsmodels.tsa.ar_model import AutoReg, ar_select_order\n",
    "from statsmodels.regression.linear_model import OLS\n",
    "from skforecast.ForecasterAutoreg import ForecasterAutoreg\n",
    "from sklearn.ensemble import RandomForestRegressor, HistGradientBoostingRegressor\n",
    "from sklearn.linear_model import Ridge, LinearRegression\n",
    "from sklearn.metrics import mean_squared_error\n",
    "\n",
    "from lightgbm import LGBMRegressor\n",
    "from sklearn.preprocessing import OneHotEncoder, OrdinalEncoder, FunctionTransformer, PolynomialFeatures\n",
    "from sklearn.feature_selection import RFECV\n",
    "from sklearn.pipeline import make_pipeline\n",
    "from sklearn.compose import make_column_transformer, make_column_selector\n",
    "\n",
    "from skforecast.ForecasterBaseline import ForecasterEquivalentDate\n",
    "from skforecast.ForecasterAutoreg import ForecasterAutoreg\n",
    "from skforecast.ForecasterAutoregDirect import ForecasterAutoregDirect\n",
    "\n",
    "from skforecast.model_selection import bayesian_search_forecaster\n",
    "from skforecast.model_selection import backtesting_forecaster\n",
    "\n",
    "# Plotting\n",
    "# ======================================================\n",
    "import plotly.express as px\n",
    "import matplotlib.pyplot as plt\n",
    "from statsmodels.graphics.tsaplots import plot_acf, plot_pacf"
   ]
  },
  {
   "cell_type": "code",
   "execution_count": 30,
   "metadata": {},
   "outputs": [],
   "source": [
    "df = pd.read_csv('data.csv', index_col='weekstart')"
   ]
  },
  {
   "cell_type": "code",
   "execution_count": 31,
   "metadata": {},
   "outputs": [],
   "source": [
    "df.index = pd.to_datetime(df.index)"
   ]
  },
  {
   "cell_type": "code",
   "execution_count": 33,
   "metadata": {},
   "outputs": [],
   "source": [
    "# Resampling data so pandas understands that it's weekly\n",
    "df = df.reset_index().set_index('weekstart').resample('W').first().fillna(method='bfill')"
   ]
  },
  {
   "cell_type": "code",
   "execution_count": 34,
   "metadata": {},
   "outputs": [
    {
     "name": "stdout",
     "output_type": "stream",
     "text": [
      "Dates train      : 2005-01-09 00:00:00 --- 2015-12-27 00:00:00  (n=573)\n",
      "Dates validacion : 2016-01-03 00:00:00 --- 2017-12-31 00:00:00  (n=105)\n",
      "Dates test       : 2017-12-31 00:00:00 --- 2019-12-29 00:00:00  (n=105)\n"
     ]
    }
   ],
   "source": [
    "end_train = date(2015,12,31)\n",
    "end_validation = date(2017,12,31)\n",
    "\n",
    "df_train = df.loc[:end_train,:]\n",
    "df_val = df.loc[end_train:end_validation,:]\n",
    "df_test = df.loc[end_validation:,:]\n",
    "\n",
    "print(f\"Dates train      : {df_train.index.min()} --- {df_train.index.max()}  (n={len(df_train)})\")\n",
    "print(f\"Dates validacion : {df_val.index.min()} --- {df_val.index.max()}  (n={len(df_val)})\")\n",
    "print(f\"Dates test       : {df_test.index.min()} --- {df_test.index.max()}  (n={len(df_test)})\")"
   ]
  },
  {
   "cell_type": "code",
   "execution_count": 35,
   "metadata": {},
   "outputs": [
    {
     "data": {
      "text/plain": [
       "================= \n",
       "ForecasterAutoreg \n",
       "================= \n",
       "Regressor: RandomForestRegressor(random_state=123) \n",
       "Lags: [ 1  2  3  4  5  6  7  8  9 10 11 12 13 14 15 16 17 18 19 20 21 22 23 24\n",
       " 25 26 27 28 29 30 31 32 33 34 35 36 37 38 39 40 41 42 43 44 45 46 47 48\n",
       " 49 50 51 52] \n",
       "Transformer for y: None \n",
       "Transformer for exog: None \n",
       "Window size: 52 \n",
       "Weight function included: False \n",
       "Differentiation order: None \n",
       "Exogenous included: False \n",
       "Type of exogenous variable: None \n",
       "Exogenous variables names: None \n",
       "Training range: [Timestamp('2005-01-09 00:00:00'), Timestamp('2015-12-27 00:00:00')] \n",
       "Training index type: DatetimeIndex \n",
       "Training index frequency: W-SUN \n",
       "Regressor parameters: {'bootstrap': True, 'ccp_alpha': 0.0, 'criterion': 'squared_error', 'max_depth': None, 'max_features': 1.0, 'max_leaf_nodes': None, 'max_samples': None, 'min_impurity_decrease': 0.0, 'min_samples_leaf': 1, 'min_samples_split': 2, 'min_weight_fraction_leaf': 0.0, 'n_estimators': 100, 'n_jobs': None, 'oob_score': False, 'random_state': 123, 'verbose': 0, 'warm_start': False} \n",
       "fit_kwargs: {} \n",
       "Creation date: 2024-01-23 16:03:28 \n",
       "Last fit date: 2024-01-23 16:03:34 \n",
       "Skforecast version: 0.11.0 \n",
       "Python version: 3.11.5 \n",
       "Forecaster id: None "
      ]
     },
     "execution_count": 35,
     "metadata": {},
     "output_type": "execute_result"
    }
   ],
   "source": [
    "# Create and train RandomForest forecaster\n",
    "# ==============================================================================\n",
    "forecaster_rf1 = ForecasterAutoreg(\n",
    "                regressor = RandomForestRegressor(random_state=123),\n",
    "                lags      = 52\n",
    "            )\n",
    "\n",
    "forecaster_rf1.fit(y=df_train['cases'])\n",
    "forecaster_rf1"
   ]
  },
  {
   "cell_type": "code",
   "execution_count": 36,
   "metadata": {},
   "outputs": [
    {
     "name": "stderr",
     "output_type": "stream",
     "text": [
      "100%|██████████| 18/18 [00:00<00:00, 39.29it/s]"
     ]
    },
    {
     "name": "stdout",
     "output_type": "stream",
     "text": [
      "Backtest error (MAE): 177.68809523809523\n"
     ]
    },
    {
     "name": "stderr",
     "output_type": "stream",
     "text": [
      "\n"
     ]
    }
   ],
   "source": [
    "# Backtest model on test data\n",
    "# ==============================================================================\n",
    "metric_rf1, predictions_rf1 = backtesting_forecaster(\n",
    "                        forecaster         = forecaster_rf1,\n",
    "                        y                  = df.loc[:end_validation]['cases'],\n",
    "                        steps              = 6,\n",
    "                        metric             = 'mean_absolute_error',\n",
    "                        initial_train_size = len(df[:end_train]),\n",
    "                        refit              = False,\n",
    "                        n_jobs             = 'auto',\n",
    "                        verbose            = False,\n",
    "                        show_progress      = True\n",
    "                    )\n",
    "\n",
    "print(f'Backtest error (MAE): {metric_rf1}')"
   ]
  },
  {
   "cell_type": "code",
   "execution_count": 24,
   "metadata": {},
   "outputs": [
    {
     "name": "stdout",
     "output_type": "stream",
     "text": [
      "Number of models compared: 140,\n",
      "         20 bayesian search in each lag configuration.\n"
     ]
    },
    {
     "name": "stderr",
     "output_type": "stream",
     "text": [
      "lags grid: 100%|██████████| 7/7 [24:22<00:00, 208.98s/it]\n"
     ]
    },
    {
     "name": "stdout",
     "output_type": "stream",
     "text": [
      "`Forecaster` refitted using the best-found lags and parameters, and the whole data set: \n",
      "  Lags: [ 1  2 52] \n",
      "  Parameters: {'n_estimators': 400, 'max_depth': 10}\n",
      "  Backtesting metric: 210.1131382519461\n",
      "\n"
     ]
    }
   ],
   "source": [
    "# Hyperparameters search\n",
    "# ==============================================================================\n",
    "# Lags grid\n",
    "lags_grid = [[52],[1],[1,52],[1,2],[1,2,52],[1,2,3],[1,2,3,52]]\n",
    "\n",
    "# Regressor hyperparameters search space\n",
    "def search_space(trial):\n",
    "    search_space  = {\n",
    "        'n_estimators'  : trial.suggest_int('n_estimators', 400, 1200, step=100),\n",
    "        'max_depth'     : trial.suggest_int('max_depth', 3, 10, step=1),\n",
    "    } \n",
    "    return search_space\n",
    "\n",
    "results_search_rf1, frozen_trial_rf1 = bayesian_search_forecaster(\n",
    "                                forecaster         = forecaster_rf1,\n",
    "                                y                  = df.loc[:end_validation, 'cases'], # Test data not used\n",
    "                                search_space       = search_space,\n",
    "                                lags_grid          = lags_grid,\n",
    "                                steps              = 6,\n",
    "                                refit              = False,\n",
    "                                metric             = 'mean_absolute_error',\n",
    "                                initial_train_size = len(df_train),\n",
    "                                fixed_train_size   = False,\n",
    "                                n_trials           = 20, # Increase this value for a more exhaustive search\n",
    "                                random_state       = 123,\n",
    "                                return_best        = True,\n",
    "                                n_jobs             = 'auto',\n",
    "                                verbose            = False,\n",
    "                                show_progress      = True\n",
    "                            )"
   ]
  },
  {
   "cell_type": "code",
   "execution_count": 28,
   "metadata": {},
   "outputs": [
    {
     "data": {
      "text/html": [
       "<div>\n",
       "<style scoped>\n",
       "    .dataframe tbody tr th:only-of-type {\n",
       "        vertical-align: middle;\n",
       "    }\n",
       "\n",
       "    .dataframe tbody tr th {\n",
       "        vertical-align: top;\n",
       "    }\n",
       "\n",
       "    .dataframe thead th {\n",
       "        text-align: right;\n",
       "    }\n",
       "</style>\n",
       "<table border=\"1\" class=\"dataframe\">\n",
       "  <thead>\n",
       "    <tr style=\"text-align: right;\">\n",
       "      <th></th>\n",
       "      <th>lags</th>\n",
       "      <th>params</th>\n",
       "      <th>mean_absolute_error</th>\n",
       "      <th>n_estimators</th>\n",
       "      <th>max_depth</th>\n",
       "    </tr>\n",
       "  </thead>\n",
       "  <tbody>\n",
       "    <tr>\n",
       "      <th>90</th>\n",
       "      <td>[1, 2, 52]</td>\n",
       "      <td>{'n_estimators': 400, 'max_depth': 10}</td>\n",
       "      <td>210.113138</td>\n",
       "      <td>400</td>\n",
       "      <td>10</td>\n",
       "    </tr>\n",
       "    <tr>\n",
       "      <th>91</th>\n",
       "      <td>[1, 2, 52]</td>\n",
       "      <td>{'n_estimators': 400, 'max_depth': 10}</td>\n",
       "      <td>210.113138</td>\n",
       "      <td>400</td>\n",
       "      <td>10</td>\n",
       "    </tr>\n",
       "    <tr>\n",
       "      <th>92</th>\n",
       "      <td>[1, 2, 52]</td>\n",
       "      <td>{'n_estimators': 400, 'max_depth': 10}</td>\n",
       "      <td>210.113138</td>\n",
       "      <td>400</td>\n",
       "      <td>10</td>\n",
       "    </tr>\n",
       "    <tr>\n",
       "      <th>93</th>\n",
       "      <td>[1, 2, 52]</td>\n",
       "      <td>{'n_estimators': 400, 'max_depth': 10}</td>\n",
       "      <td>210.113138</td>\n",
       "      <td>400</td>\n",
       "      <td>10</td>\n",
       "    </tr>\n",
       "    <tr>\n",
       "      <th>137</th>\n",
       "      <td>[1, 2, 3, 52]</td>\n",
       "      <td>{'n_estimators': 1200, 'max_depth': 7}</td>\n",
       "      <td>213.432008</td>\n",
       "      <td>1200</td>\n",
       "      <td>7</td>\n",
       "    </tr>\n",
       "  </tbody>\n",
       "</table>\n",
       "</div>"
      ],
      "text/plain": [
       "              lags                                  params  \\\n",
       "90      [1, 2, 52]  {'n_estimators': 400, 'max_depth': 10}   \n",
       "91      [1, 2, 52]  {'n_estimators': 400, 'max_depth': 10}   \n",
       "92      [1, 2, 52]  {'n_estimators': 400, 'max_depth': 10}   \n",
       "93      [1, 2, 52]  {'n_estimators': 400, 'max_depth': 10}   \n",
       "137  [1, 2, 3, 52]  {'n_estimators': 1200, 'max_depth': 7}   \n",
       "\n",
       "     mean_absolute_error  n_estimators  max_depth  \n",
       "90            210.113138           400         10  \n",
       "91            210.113138           400         10  \n",
       "92            210.113138           400         10  \n",
       "93            210.113138           400         10  \n",
       "137           213.432008          1200          7  "
      ]
     },
     "execution_count": 28,
     "metadata": {},
     "output_type": "execute_result"
    }
   ],
   "source": [
    "results_search_rf1.head()"
   ]
  },
  {
   "cell_type": "code",
   "execution_count": 37,
   "metadata": {},
   "outputs": [
    {
     "name": "stderr",
     "output_type": "stream",
     "text": [
      "100%|██████████| 18/18 [00:01<00:00, 11.13it/s]"
     ]
    },
    {
     "name": "stdout",
     "output_type": "stream",
     "text": [
      "Backtest error (MAE): 210.1131382519461\n"
     ]
    },
    {
     "name": "stderr",
     "output_type": "stream",
     "text": [
      "\n"
     ]
    }
   ],
   "source": [
    "# Create and train RandomForest forecaster\n",
    "# ==============================================================================\n",
    "forecaster_rf2 = ForecasterAutoreg(\n",
    "                regressor = RandomForestRegressor(random_state=123,\n",
    "                                                    n_estimators=400,\n",
    "                                                    max_depth=10),\n",
    "                lags      = [1,2,52]\n",
    "            )\n",
    "\n",
    "forecaster_rf2.fit(y=df_train['cases'])\n",
    "forecaster_rf2\n",
    "\n",
    "# Backtest model on test data\n",
    "# ==============================================================================\n",
    "metric_rf2, predictions_rf2 = backtesting_forecaster(\n",
    "                        forecaster         = forecaster_rf2,\n",
    "                        y                  = df.loc[:end_validation]['cases'],\n",
    "                        steps              = 6,\n",
    "                        metric             = 'mean_absolute_error',\n",
    "                        initial_train_size = len(df[:end_train]),\n",
    "                        refit              = False,\n",
    "                        n_jobs             = 'auto',\n",
    "                        verbose            = False,\n",
    "                        show_progress      = True\n",
    "                    )\n",
    "print(f'Backtest error (MAE): {metric_rf2}')"
   ]
  },
  {
   "cell_type": "markdown",
   "metadata": {},
   "source": [
    "---"
   ]
  },
  {
   "cell_type": "code",
   "execution_count": 38,
   "metadata": {},
   "outputs": [
    {
     "data": {
      "text/plain": [
       "================= \n",
       "ForecasterAutoreg \n",
       "================= \n",
       "Regressor: RandomForestRegressor(random_state=123) \n",
       "Lags: [ 1  2  3  4  5  6  7  8  9 10 11 12 13 14 15 16 17 18 19 20 21 22 23 24\n",
       " 25 26 27 28 29 30 31 32 33 34 35 36 37 38 39 40 41 42 43 44 45 46 47 48\n",
       " 49 50 51 52] \n",
       "Transformer for y: None \n",
       "Transformer for exog: None \n",
       "Window size: 52 \n",
       "Weight function included: False \n",
       "Differentiation order: None \n",
       "Exogenous included: True \n",
       "Type of exogenous variable: <class 'pandas.core.frame.DataFrame'> \n",
       "Exogenous variables names: ['epiweek', 'GS_cold', 'GS_cough', 'GS_fever', 'GS_flu', 'AWND', 'PRCP', 'SNOW', 'TAVG', 'TMAX', 'TMIN', 'Overall AQI Value', 'CO', 'Ozone', 'PM10', 'PM25', 'Days Good', 'Days Moderate', 'Days Unhealthy', 'visits', 'Main Pollutant_CO', 'Main Pollutant_NO2', 'Main Pollutant_Ozone', 'Main Pollutant_PM2.5', 'epiweek_sin', 'epiweek_cos', 'GS_cold_L1', 'GS_cold_L2', 'GS_fever_L1', 'GS_fever_L2', 'AWND_L1', 'TAVG_L1', 'TAVG_L2', 'TMAX_L1', 'TMAX_L2', 'TMIN_L1', 'TMIN_L2'] \n",
       "Training range: [Timestamp('2005-01-09 00:00:00'), Timestamp('2015-12-27 00:00:00')] \n",
       "Training index type: DatetimeIndex \n",
       "Training index frequency: W-SUN \n",
       "Regressor parameters: {'bootstrap': True, 'ccp_alpha': 0.0, 'criterion': 'squared_error', 'max_depth': None, 'max_features': 1.0, 'max_leaf_nodes': None, 'max_samples': None, 'min_impurity_decrease': 0.0, 'min_samples_leaf': 1, 'min_samples_split': 2, 'min_weight_fraction_leaf': 0.0, 'n_estimators': 100, 'n_jobs': None, 'oob_score': False, 'random_state': 123, 'verbose': 0, 'warm_start': False} \n",
       "fit_kwargs: {} \n",
       "Creation date: 2024-01-23 16:04:10 \n",
       "Last fit date: 2024-01-23 16:04:19 \n",
       "Skforecast version: 0.11.0 \n",
       "Python version: 3.11.5 \n",
       "Forecaster id: None "
      ]
     },
     "execution_count": 38,
     "metadata": {},
     "output_type": "execute_result"
    }
   ],
   "source": [
    "# Create and train RandomForest forecaster\n",
    "# ==============================================================================\n",
    "forecaster_rf3 = ForecasterAutoreg(\n",
    "                regressor = RandomForestRegressor(random_state=123),\n",
    "                lags      = 52\n",
    "            )\n",
    "\n",
    "forecaster_rf3.fit(y=df_train['cases'], exog=df_train.drop(columns=['cases']))\n",
    "forecaster_rf3"
   ]
  },
  {
   "cell_type": "code",
   "execution_count": 53,
   "metadata": {},
   "outputs": [
    {
     "name": "stderr",
     "output_type": "stream",
     "text": [
      "100%|██████████| 18/18 [00:00<00:00, 37.08it/s]"
     ]
    },
    {
     "name": "stdout",
     "output_type": "stream",
     "text": [
      "Backtest error (MAE): 180.50485714285716\n"
     ]
    },
    {
     "name": "stderr",
     "output_type": "stream",
     "text": [
      "\n"
     ]
    }
   ],
   "source": [
    "# Backtest model on test data\n",
    "# ==============================================================================\n",
    "metric_rf3, predictions_rf3 = backtesting_forecaster(\n",
    "                        forecaster         = forecaster_rf3,\n",
    "                        y                  = df.loc[:end_validation]['cases'],\n",
    "                        exog               = df.loc[:end_validation].drop(columns=['cases']),\n",
    "                        steps              = 6,\n",
    "                        metric             = 'mean_absolute_error',\n",
    "                        initial_train_size = len(df[:end_train]),\n",
    "                        refit              = False,\n",
    "                        n_jobs             = 'auto',\n",
    "                        verbose            = False,\n",
    "                        show_progress      = True\n",
    "                    )\n",
    "\n",
    "print(f'Backtest error (MAE): {metric_rf3}')"
   ]
  },
  {
   "cell_type": "code",
   "execution_count": 39,
   "metadata": {},
   "outputs": [
    {
     "name": "stderr",
     "output_type": "stream",
     "text": [
      "100%|██████████| 18/18 [00:02<00:00,  8.85it/s]"
     ]
    },
    {
     "name": "stdout",
     "output_type": "stream",
     "text": [
      "Backtest error (MAE): 203.45640612497138\n"
     ]
    },
    {
     "name": "stderr",
     "output_type": "stream",
     "text": [
      "\n"
     ]
    }
   ],
   "source": [
    "# Create and train RandomForest forecaster\n",
    "# ==============================================================================\n",
    "forecaster_rf4 = ForecasterAutoreg(\n",
    "                regressor = RandomForestRegressor(random_state=123,\n",
    "                                                    n_estimators=400,\n",
    "                                                    max_depth=10),\n",
    "                lags      = [1,2,52]\n",
    "            )\n",
    "\n",
    "forecaster_rf4.fit(y=df_train['cases'], exog=df_train.drop(columns=['cases']))\n",
    "forecaster_rf4\n",
    "\n",
    "# Backtest model on test data\n",
    "# ==============================================================================\n",
    "metric_rf4, predictions_rf4 = backtesting_forecaster(\n",
    "                        forecaster         = forecaster_rf4,\n",
    "                        y                  = df.loc[:end_validation]['cases'],\n",
    "                        exog               = df.loc[:end_validation].drop(columns=['cases']),\n",
    "                        steps              = 6,\n",
    "                        metric             = 'mean_absolute_error',\n",
    "                        initial_train_size = len(df[:end_train]),\n",
    "                        refit              = False,\n",
    "                        n_jobs             = 'auto',\n",
    "                        verbose            = False,\n",
    "                        show_progress      = True\n",
    "                    )\n",
    "\n",
    "print(f'Backtest error (MAE): {metric_rf4}')"
   ]
  },
  {
   "cell_type": "code",
   "execution_count": 40,
   "metadata": {},
   "outputs": [
    {
     "data": {
      "text/html": [
       "<div>\n",
       "<style scoped>\n",
       "    .dataframe tbody tr th:only-of-type {\n",
       "        vertical-align: middle;\n",
       "    }\n",
       "\n",
       "    .dataframe tbody tr th {\n",
       "        vertical-align: top;\n",
       "    }\n",
       "\n",
       "    .dataframe thead th {\n",
       "        text-align: right;\n",
       "    }\n",
       "</style>\n",
       "<table border=\"1\" class=\"dataframe\">\n",
       "  <thead>\n",
       "    <tr style=\"text-align: right;\">\n",
       "      <th></th>\n",
       "      <th>feature</th>\n",
       "      <th>importance</th>\n",
       "    </tr>\n",
       "  </thead>\n",
       "  <tbody>\n",
       "    <tr>\n",
       "      <th>51</th>\n",
       "      <td>lag_52</td>\n",
       "      <td>0.252143</td>\n",
       "    </tr>\n",
       "    <tr>\n",
       "      <th>56</th>\n",
       "      <td>GS_flu</td>\n",
       "      <td>0.168111</td>\n",
       "    </tr>\n",
       "    <tr>\n",
       "      <th>0</th>\n",
       "      <td>lag_1</td>\n",
       "      <td>0.089475</td>\n",
       "    </tr>\n",
       "    <tr>\n",
       "      <th>60</th>\n",
       "      <td>TAVG</td>\n",
       "      <td>0.055130</td>\n",
       "    </tr>\n",
       "    <tr>\n",
       "      <th>71</th>\n",
       "      <td>visits</td>\n",
       "      <td>0.036157</td>\n",
       "    </tr>\n",
       "    <tr>\n",
       "      <th>...</th>\n",
       "      <td>...</td>\n",
       "      <td>...</td>\n",
       "    </tr>\n",
       "    <tr>\n",
       "      <th>74</th>\n",
       "      <td>Main Pollutant_Ozone</td>\n",
       "      <td>0.000290</td>\n",
       "    </tr>\n",
       "    <tr>\n",
       "      <th>75</th>\n",
       "      <td>Main Pollutant_PM2.5</td>\n",
       "      <td>0.000249</td>\n",
       "    </tr>\n",
       "    <tr>\n",
       "      <th>73</th>\n",
       "      <td>Main Pollutant_NO2</td>\n",
       "      <td>0.000073</td>\n",
       "    </tr>\n",
       "    <tr>\n",
       "      <th>70</th>\n",
       "      <td>Days Unhealthy</td>\n",
       "      <td>0.000016</td>\n",
       "    </tr>\n",
       "    <tr>\n",
       "      <th>72</th>\n",
       "      <td>Main Pollutant_CO</td>\n",
       "      <td>0.000005</td>\n",
       "    </tr>\n",
       "  </tbody>\n",
       "</table>\n",
       "<p>89 rows × 2 columns</p>\n",
       "</div>"
      ],
      "text/plain": [
       "                 feature  importance\n",
       "51                lag_52    0.252143\n",
       "56                GS_flu    0.168111\n",
       "0                  lag_1    0.089475\n",
       "60                  TAVG    0.055130\n",
       "71                visits    0.036157\n",
       "..                   ...         ...\n",
       "74  Main Pollutant_Ozone    0.000290\n",
       "75  Main Pollutant_PM2.5    0.000249\n",
       "73    Main Pollutant_NO2    0.000073\n",
       "70        Days Unhealthy    0.000016\n",
       "72     Main Pollutant_CO    0.000005\n",
       "\n",
       "[89 rows x 2 columns]"
      ]
     },
     "execution_count": 40,
     "metadata": {},
     "output_type": "execute_result"
    }
   ],
   "source": [
    "forecaster_rf3.get_feature_importances().sort_values(by='importance', ascending=False)"
   ]
  },
  {
   "cell_type": "code",
   "execution_count": 41,
   "metadata": {},
   "outputs": [
    {
     "name": "stdout",
     "output_type": "stream",
     "text": [
      "Recursive feature elimination\n",
      "-----------------------------\n",
      "Total number of features available: 89\n",
      "Total number of records available: 521\n",
      "Total number of records used for feature selection: 260\n",
      "Number of features selected: 18\n",
      "Selected features : \n",
      " ['lag_1' 'lag_2' 'lag_3' 'lag_24' 'lag_29' 'lag_30' 'lag_33' 'lag_37'\n",
      " 'lag_51' 'lag_52' 'epiweek' 'GS_flu' 'TAVG' 'TMIN' 'visits' 'AWND_L1'\n",
      " 'TAVG_L1' 'TAVG_L2']\n"
     ]
    }
   ],
   "source": [
    "# Underlying matrices used by the forecaster to fit the internal regressor\n",
    "# ==============================================================================\n",
    "X_train, y_train = forecaster_rf3.create_train_X_y(\n",
    "                    y    = df_train['cases'],\n",
    "                    exog = df_train.drop(columns=['cases'])\n",
    "                )\n",
    "\n",
    "# Recursive feature elimination with cross-validation\n",
    "# ==============================================================================\n",
    "# Sample 50% of the data to speed up the calculation\n",
    "rng = np.random.default_rng(seed=785412)\n",
    "sample = rng.choice(X_train.index, size=int(len(X_train)*0.5), replace=False)\n",
    "X_train_sample = X_train.loc[sample, :]\n",
    "y_train_sample = y_train.loc[sample]\n",
    "\n",
    "regressor = RandomForestRegressor(random_state=123)\n",
    "\n",
    "selector = RFECV(\n",
    "    estimator              = regressor,\n",
    "    step                   = 1,\n",
    "    cv                     = 3,\n",
    "    min_features_to_select = 15,\n",
    "    n_jobs                 = -1\n",
    ")\n",
    "selector.fit(X_train_sample, y_train_sample)\n",
    "selected_features_rfe = selector.get_feature_names_out()\n",
    "\n",
    "print(\"Recursive feature elimination\")\n",
    "print(\"-----------------------------\")\n",
    "print(f\"Total number of features available: {X_train.shape[1]}\") \n",
    "print(f\"Total number of records available: {X_train.shape[0]}\")\n",
    "print(f\"Total number of records used for feature selection: {X_train_sample.shape[0]}\")\n",
    "print(f\"Number of features selected: {len(selected_features_rfe)}\")\n",
    "print(f\"Selected features : \\n {selected_features_rfe}\")"
   ]
  },
  {
   "cell_type": "code",
   "execution_count": 51,
   "metadata": {},
   "outputs": [
    {
     "name": "stderr",
     "output_type": "stream",
     "text": [
      "100%|██████████| 18/18 [00:00<00:00, 37.74it/s]"
     ]
    },
    {
     "name": "stdout",
     "output_type": "stream",
     "text": [
      "Backtest error: 181.08\n"
     ]
    },
    {
     "name": "stderr",
     "output_type": "stream",
     "text": [
      "\n"
     ]
    }
   ],
   "source": [
    "# Create forecaster with the selected features\n",
    "# ==============================================================================\n",
    "\n",
    "selected_exog_features = [\n",
    "    feature\n",
    "    for feature in selected_features_rfe\n",
    "    if not feature.startswith(\"lag_\")\n",
    "]\n",
    "\n",
    "forecaster_rfbest = ForecasterAutoreg(\n",
    "                regressor        = RandomForestRegressor(random_state=123, \n",
    "                                        ),\n",
    "                lags             = [1,2,3,24,29,30,33,37,51,52]\n",
    "            )\n",
    "\n",
    "forecaster_rfbest.fit(y=df_train['cases'], exog=df_train[selected_exog_features])\n",
    "\n",
    "# Backtesting model with exogenous variables on test data\n",
    "# ==============================================================================\n",
    "metric_rfbest, predictions_rfbest = backtesting_forecaster(\n",
    "                            forecaster         = forecaster_rfbest,\n",
    "                            y                  = df[:end_validation]['cases'],\n",
    "                            exog               = df[:end_validation][selected_exog_features],\n",
    "                            steps              = 6,\n",
    "                            metric             = 'mean_absolute_error',\n",
    "                            initial_train_size = len(df[:end_train]),\n",
    "                            refit              = False,\n",
    "                            n_jobs             = 'auto',\n",
    "                            verbose            = False,\n",
    "                            show_progress      = True\n",
    "                        )\n",
    "\n",
    "print(f\"Backtest error: {metric_rfbest:.2f}\")"
   ]
  },
  {
   "cell_type": "code",
   "execution_count": 56,
   "metadata": {},
   "outputs": [
    {
     "name": "stderr",
     "output_type": "stream",
     "text": [
      "100%|██████████| 18/18 [00:00<00:00, 35.53it/s]"
     ]
    },
    {
     "name": "stdout",
     "output_type": "stream",
     "text": [
      "Backtest error: 181.48\n"
     ]
    },
    {
     "name": "stderr",
     "output_type": "stream",
     "text": [
      "\n"
     ]
    }
   ],
   "source": [
    "# Create forecaster with the selected features\n",
    "# ==============================================================================\n",
    "\n",
    "selected_exog_features = [\n",
    "    feature\n",
    "    for feature in selected_features_rfe\n",
    "    if not feature.startswith(\"lag_\")\n",
    "]\n",
    "\n",
    "forecaster_rfbest = ForecasterAutoreg(\n",
    "                regressor        = RandomForestRegressor(random_state=123, \n",
    "                                        ),\n",
    "                lags             = 52\n",
    "            )\n",
    "\n",
    "forecaster_rfbest.fit(y=df_train['cases'], exog=df_train[selected_exog_features])\n",
    "\n",
    "# Backtesting model with exogenous variables on test data\n",
    "# ==============================================================================\n",
    "metric_rfbest, predictions_rfbest = backtesting_forecaster(\n",
    "                            forecaster         = forecaster_rfbest,\n",
    "                            y                  = df[:end_validation]['cases'],\n",
    "                            exog               = df[:end_validation][selected_exog_features],\n",
    "                            steps              = 6,\n",
    "                            metric             = 'mean_absolute_error',\n",
    "                            initial_train_size = len(df[:end_train]),\n",
    "                            refit              = False,\n",
    "                            n_jobs             = 'auto',\n",
    "                            verbose            = False,\n",
    "                            show_progress      = True\n",
    "                        )\n",
    "\n",
    "print(f\"Backtest error: {metric_rfbest:.2f}\")"
   ]
  },
  {
   "cell_type": "code",
   "execution_count": 55,
   "metadata": {},
   "outputs": [
    {
     "name": "stdout",
     "output_type": "stream",
     "text": [
      "Backtest error (MAE): 177.68809523809523\n",
      "Backtest error (MAE): 210.1131382519461\n",
      "Backtest error (MAE): 180.50485714285716\n",
      "Backtest error (MAE): 203.45640612497138\n"
     ]
    }
   ],
   "source": [
    "print(f'Backtest error (MAE): {metric_rf1}')\n",
    "print(f'Backtest error (MAE): {metric_rf2}')\n",
    "print(f'Backtest error (MAE): {metric_rf3}')\n",
    "print(f'Backtest error (MAE): {metric_rf4}')"
   ]
  },
  {
   "cell_type": "code",
   "execution_count": 54,
   "metadata": {},
   "outputs": [
    {
     "name": "stdout",
     "output_type": "stream",
     "text": [
      "RandomForest original MAE                :  178\n",
      "RandomForest best from gridsearch MAE    :  210\n",
      "RandomForest + exog MAE                  :  203\n"
     ]
    }
   ],
   "source": [
    "print(f'RandomForest original MAE                :  {round(metric_rf1)}\\n\\\n",
    "RandomForest best from gridsearch MAE    :  {round(metric_rf2)}\\n\\\n",
    "RandomForest + exog MAE                  :  {round(metric_rf4)}')"
   ]
  },
  {
   "cell_type": "code",
   "execution_count": null,
   "metadata": {},
   "outputs": [],
   "source": []
  }
 ],
 "metadata": {
  "kernelspec": {
   "display_name": "Python 3",
   "language": "python",
   "name": "python3"
  },
  "language_info": {
   "codemirror_mode": {
    "name": "ipython",
    "version": 3
   },
   "file_extension": ".py",
   "mimetype": "text/x-python",
   "name": "python",
   "nbconvert_exporter": "python",
   "pygments_lexer": "ipython3",
   "version": "3.11.5"
  }
 },
 "nbformat": 4,
 "nbformat_minor": 2
}
